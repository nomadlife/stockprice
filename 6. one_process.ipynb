{
 "cells": [
  {
   "cell_type": "code",
   "execution_count": 2,
   "metadata": {},
   "outputs": [],
   "source": [
    "import pandas as pd\n",
    "import pandas_datareader.data as web\n",
    "from datetime import datetime,date\n",
    "import json\n",
    "\n",
    "today = date.today()\n",
    "start = datetime(2013, 1, 1)\n",
    "end = datetime(today.year, today.month, today.day)\n",
    "with open('krx_total_list.txt','r') as f:\n",
    "    tickers = json.loads(f.read())\n",
    "\n",
    "def get_data(n1, n2):\n",
    "    cnt = 0;log=[]\n",
    "    print('request data from {} to {}, processing'.format(n1,n2),end='')\n",
    "    for i,v in tickers.items():\n",
    "        cnt+=1\n",
    "        if cnt > n1 and '마켓' in v:\n",
    "            ticker = i+'.'+v['마켓']\n",
    "            try:\n",
    "                history = web.DataReader(ticker,'yahoo',start, end)\n",
    "                history.to_pickle(ticker+'-test')\n",
    "                log.append((cnt,'....OK',ticker,v['회사명']))\n",
    "                print('.',end='')\n",
    "            except Exception as e:\n",
    "                log.append((cnt,'failed',ticker,v['회사명'],str(e)))\n",
    "                print(cnt,'failed',ticker,v['회사명'],e)\n",
    "                pass\n",
    "        if cnt == n2 :\n",
    "            break\n",
    "    print('download finished.')\n",
    "    filename = 'log-{}-{}.txt'.format(n1,n2)\n",
    "    with open(filename, 'w') as f:\n",
    "        for i in log:\n",
    "            f.write(\"{}\\n\".format(i))\n",
    "        print(filename,'file saved!')"
   ]
  },
  {
   "cell_type": "code",
   "execution_count": 7,
   "metadata": {
    "scrolled": false
   },
   "outputs": [
    {
     "name": "stdout",
     "output_type": "stream",
     "text": [
      "request data from 0 to 100, processing.....................................38 failed 145720.KS 덴티움 HTTPSConnectionPool(host='finance.yahoo.com', port=443): Max retries exceeded with url: /quote/145720.KS/history?period1=1356980400&period2=1543690799&interval=1d&frequency=1d&filter=history (Caused by NewConnectionError('<urllib3.connection.VerifiedHTTPSConnection object at 0x7feb97a952b0>: Failed to establish a new connection: [Errno 110] Connection timed out',))\n",
      "..............................................................download finished.\n",
      "log-0-100.txt file saved!\n"
     ]
    }
   ],
   "source": [
    "get_data(0,100)"
   ]
  },
  {
   "cell_type": "code",
   "execution_count": 3,
   "metadata": {
    "scrolled": false
   },
   "outputs": [
    {
     "name": "stdout",
     "output_type": "stream",
     "text": [
      "request data from 100 to 500, processing.......................................................................................................204 failed 099340.KS 하나니켈1호 'Date'\n",
      "205 failed 099350.KS 하나니켈2호 'Date'\n",
      "..............220 failed 096300.KS 베트남개발1 'Date'\n",
      "........................................................................................................................................................................................................................................................................................download finished.\n",
      "log-100-500.txt file saved!\n"
     ]
    }
   ],
   "source": [
    "get_data(100,500)"
   ]
  },
  {
   "cell_type": "code",
   "execution_count": 1,
   "metadata": {},
   "outputs": [
    {
     "data": {
      "text/plain": [
       "2085"
      ]
     },
     "execution_count": 1,
     "metadata": {},
     "output_type": "execute_result"
    }
   ],
   "source": [
    "import pandas as pd\n",
    "import pandas_datareader.data as web\n",
    "from datetime import datetime,date\n",
    "import json\n",
    "\n",
    "today = date.today()\n",
    "start = datetime(2008, 1, 1)\n",
    "end = datetime(today.year, today.month, today.day)\n",
    "with open('krx_total_list.txt','r') as f:\n",
    "    tickers = json.loads(f.read())\n",
    "len(tickers)"
   ]
  },
  {
   "cell_type": "code",
   "execution_count": 1,
   "metadata": {},
   "outputs": [],
   "source": [
    "# 10 year data\n",
    "\n",
    "import pandas as pd\n",
    "import pandas_datareader.data as web\n",
    "from datetime import datetime,date\n",
    "import json\n",
    "\n",
    "today = date.today()\n",
    "start = datetime(2008, 1, 1)\n",
    "end = datetime(today.year, today.month, today.day)\n",
    "with open('krx_total_list.txt','r') as f:\n",
    "    tickers = json.loads(f.read())\n",
    "\n",
    "def get_data(n1, n2):\n",
    "    cnt = 0;log=[]\n",
    "    print('request data from {} to {}, processing'.format(n1,n2),end='')\n",
    "    for i,v in tickers.items():\n",
    "        cnt+=1\n",
    "        if cnt > n1 and '마켓' in v:\n",
    "            ticker = i+'.'+v['마켓']\n",
    "            try:\n",
    "                history = web.DataReader(ticker,'yahoo',start, end)\n",
    "                history.to_pickle('./data10y/'+ticker)\n",
    "                log.append((cnt,'....OK',ticker,v['회사명']))\n",
    "                print('.',end='')\n",
    "            except Exception as e:\n",
    "                log.append((cnt,'failed',ticker,v['회사명'],str(e)))\n",
    "                print(cnt,'failed',ticker,v['회사명'],e)\n",
    "                pass\n",
    "        if cnt == n2 :\n",
    "            break\n",
    "    print('download finished.')\n",
    "    filename = './data10y/log-{}-{}.txt'.format(n1,n2)\n",
    "    with open(filename, 'w') as f:\n",
    "        for i in log:\n",
    "            f.write(\"{}\\n\".format(i))\n",
    "        print(filename,'file saved!')\n"
   ]
  },
  {
   "cell_type": "code",
   "execution_count": 2,
   "metadata": {},
   "outputs": [
    {
     "name": "stdout",
     "output_type": "stream",
     "text": [
      "request data from 0 to 1000, processing...........................................................................................................................................................................................................204 failed 099340.KS 하나니켈1호 'Date'\n",
      "205 failed 099350.KS 하나니켈2호 'Date'\n",
      "..............220 failed 096300.KS 베트남개발1 'Date'\n",
      "............................................................................................................................................................................................................................................................................................................................................................................................................................................................................................................................................................................................................................................................................................................................................................................................................download finished.\n",
      "./data10y/log-0-1000.txt file saved!\n"
     ]
    }
   ],
   "source": [
    "get_data(0,1000)"
   ]
  },
  {
   "cell_type": "code",
   "execution_count": null,
   "metadata": {},
   "outputs": [],
   "source": [
    "get_data(1000,2085)"
   ]
  }
 ],
 "metadata": {
  "kernelspec": {
   "display_name": "Python 3",
   "language": "python",
   "name": "python3"
  },
  "language_info": {
   "codemirror_mode": {
    "name": "ipython",
    "version": 3
   },
   "file_extension": ".py",
   "mimetype": "text/x-python",
   "name": "python",
   "nbconvert_exporter": "python",
   "pygments_lexer": "ipython3",
   "version": "3.6.6"
  }
 },
 "nbformat": 4,
 "nbformat_minor": 2
}
