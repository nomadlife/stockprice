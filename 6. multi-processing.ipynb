{
 "cells": [
  {
   "cell_type": "code",
   "execution_count": 1,
   "metadata": {},
   "outputs": [
    {
     "data": {
      "text/plain": [
       "2085"
      ]
     },
     "execution_count": 1,
     "metadata": {},
     "output_type": "execute_result"
    }
   ],
   "source": [
    "import pandas as pd\n",
    "import matplotlib\n",
    "#matplotlib.use('Agg')\n",
    "import matplotlib.pyplot as plt\n",
    "%matplotlib inline\n",
    "import json\n",
    "from fbprophet import Prophet\n",
    "\n",
    "with open('krx_total_list.txt','r') as f:\n",
    "    tickers = json.loads(f.read())\n",
    "len(tickers)"
   ]
  },
  {
   "cell_type": "code",
   "execution_count": 2,
   "metadata": {},
   "outputs": [
    {
     "data": {
      "text/plain": [
       "2085"
      ]
     },
     "execution_count": 2,
     "metadata": {},
     "output_type": "execute_result"
    }
   ],
   "source": [
    "tickerlist = list(tickers.keys())\n",
    "len(tickerlist)"
   ]
  },
  {
   "cell_type": "markdown",
   "metadata": {},
   "source": [
    "# Multiprocess Iteration"
   ]
  },
  {
   "cell_type": "code",
   "execution_count": 3,
   "metadata": {},
   "outputs": [
    {
     "name": "stdout",
     "output_type": "stream",
     "text": [
      "make prediction : 160 ~ 164\n"
     ]
    },
    {
     "name": "stderr",
     "output_type": "stream",
     "text": [
      "/home/jw/anaconda3/envs/prophet/lib/python3.6/site-packages/pystan/misc.py:399: FutureWarning: Conversion of the second argument of issubdtype from `float` to `np.floating` is deprecated. In future, it will be treated as `np.float64 == np.dtype(float).type`.\n",
      "  elif np.issubdtype(np.asarray(v).dtype, float):\n",
      "/home/jw/anaconda3/envs/prophet/lib/python3.6/site-packages/pystan/misc.py:399: FutureWarning: Conversion of the second argument of issubdtype from `float` to `np.floating` is deprecated. In future, it will be treated as `np.float64 == np.dtype(float).type`.\n",
      "  elif np.issubdtype(np.asarray(v).dtype, float):\n",
      "/home/jw/anaconda3/envs/prophet/lib/python3.6/site-packages/pystan/misc.py:399: FutureWarning: Conversion of the second argument of issubdtype from `float` to `np.floating` is deprecated. In future, it will be treated as `np.float64 == np.dtype(float).type`.\n",
      "  elif np.issubdtype(np.asarray(v).dtype, float):\n",
      "/home/jw/anaconda3/envs/prophet/lib/python3.6/site-packages/pystan/misc.py:399: FutureWarning: Conversion of the second argument of issubdtype from `float` to `np.floating` is deprecated. In future, it will be treated as `np.float64 == np.dtype(float).type`.\n",
      "  elif np.issubdtype(np.asarray(v).dtype, float):\n"
     ]
    },
    {
     "name": "stdout",
     "output_type": "stream",
     "text": [
      "prediction finished.\n",
      "log-predict-160-164.txt file saved!\n",
      "time: 23.315347909927368\n"
     ]
    }
   ],
   "source": [
    "from multiprocessing import Pool\n",
    "from time import time as t\n",
    "start = t()\n",
    "\n",
    "n1 = 160\n",
    "n2 = 164 \n",
    "\n",
    "num_list = list(range(n1,n2))\n",
    "log=[]\n",
    "print('make prediction : {} ~ {}'.format(n1,n2))\n",
    "def sub_func(i):\n",
    "    global log\n",
    "    cnt=i\n",
    "    v = tickers[tickerlist[i]]\n",
    "    ticker = tickerlist[i]+'.'+v['마켓']\n",
    "    try:\n",
    "        data = pd.read_pickle('./data5y/{}-test'.format(ticker))\n",
    "        m = Prophet(daily_seasonality=True)\n",
    "        df = pd.DataFrame({'ds':data.index, 'y':data['Close']})\n",
    "        m.fit(df);\n",
    "        future = m.make_future_dataframe(periods=365)\n",
    "        forecast = m.predict(future)\n",
    "        m.plot(forecast).savefig('./graph5y_predict/{}-test.png'.format(ticker))\n",
    "        log.append((cnt,ticker,'plotted.',v['회사명']))\n",
    "        print(cnt,ticker,'.',end='')\n",
    "    except Exception as e:\n",
    "        log.append((cnt,ticker,'failed.',e,v['회사명']))\n",
    "        print(cnt,ticker,'failed',e,v['회사명'])\n",
    "        pass\n",
    "\n",
    "pool = Pool(processes=2)\n",
    "pool.map(sub_func, num_list)\n",
    "print('prediction finished.')\n",
    "filename = 'log-predict-{}-{}.txt'.format(n1,n2)\n",
    "with open('./graph5y_predict/'+filename, 'w') as f:\n",
    "    for i in log:\n",
    "        f.write(\"{}\\n\".format(i))\n",
    "    print(filename,'file saved!')\n",
    "    \n",
    "print('time:', t()-start)"
   ]
  },
  {
   "cell_type": "code",
   "execution_count": null,
   "metadata": {},
   "outputs": [],
   "source": []
  }
 ],
 "metadata": {
  "kernelspec": {
   "display_name": "Python 3",
   "language": "python",
   "name": "python3"
  },
  "language_info": {
   "codemirror_mode": {
    "name": "ipython",
    "version": 3
   },
   "file_extension": ".py",
   "mimetype": "text/x-python",
   "name": "python",
   "nbconvert_exporter": "python",
   "pygments_lexer": "ipython3",
   "version": "3.6.6"
  }
 },
 "nbformat": 4,
 "nbformat_minor": 2
}
