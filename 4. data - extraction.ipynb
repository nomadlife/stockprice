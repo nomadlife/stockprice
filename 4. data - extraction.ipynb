{
 "cells": [
  {
   "cell_type": "code",
   "execution_count": 1,
   "metadata": {},
   "outputs": [],
   "source": [
    "import pandas as pd\n",
    "import matplotlib\n",
    "#matplotlib.use('Agg')\n",
    "import matplotlib.pyplot as plt\n",
    "%matplotlib inline"
   ]
  },
  {
   "cell_type": "code",
   "execution_count": 2,
   "metadata": {},
   "outputs": [
    {
     "data": {
      "text/plain": [
       "2085"
      ]
     },
     "execution_count": 2,
     "metadata": {},
     "output_type": "execute_result"
    }
   ],
   "source": [
    "import json\n",
    "\n",
    "with open('krx_total_list.txt','r') as f:\n",
    "    tickers = json.loads(f.read())\n",
    "len(tickers)"
   ]
  },
  {
   "cell_type": "markdown",
   "metadata": {},
   "source": [
    "# Data extraction for chart.js"
   ]
  },
  {
   "cell_type": "code",
   "execution_count": 3,
   "metadata": {},
   "outputs": [
    {
     "data": {
      "text/plain": [
       "(2699, 1)"
      ]
     },
     "execution_count": 3,
     "metadata": {},
     "output_type": "execute_result"
    }
   ],
   "source": [
    "test = pd.read_pickle('./data10y_close_pickle_2/008500')\n",
    "test.shape"
   ]
  },
  {
   "cell_type": "code",
   "execution_count": 4,
   "metadata": {},
   "outputs": [
    {
     "data": {
      "text/plain": [
       "[Timestamp('2008-01-02 00:00:00'),\n",
       " Timestamp('2008-01-03 00:00:00'),\n",
       " Timestamp('2008-01-04 00:00:00'),\n",
       " Timestamp('2008-01-07 00:00:00'),\n",
       " Timestamp('2008-01-08 00:00:00'),\n",
       " Timestamp('2008-01-09 00:00:00'),\n",
       " Timestamp('2008-01-10 00:00:00'),\n",
       " Timestamp('2008-01-11 00:00:00'),\n",
       " Timestamp('2008-01-14 00:00:00'),\n",
       " Timestamp('2008-01-15 00:00:00')]"
      ]
     },
     "execution_count": 4,
     "metadata": {},
     "output_type": "execute_result"
    }
   ],
   "source": [
    "test.index.tolist()[:10]"
   ]
  },
  {
   "cell_type": "code",
   "execution_count": 13,
   "metadata": {},
   "outputs": [
    {
     "data": {
      "text/plain": [
       "[Timestamp('2018-11-21 00:00:00'),\n",
       " Timestamp('2018-11-22 00:00:00'),\n",
       " Timestamp('2018-11-23 00:00:00'),\n",
       " Timestamp('2018-11-26 00:00:00'),\n",
       " Timestamp('2018-11-27 00:00:00'),\n",
       " Timestamp('2018-11-28 00:00:00'),\n",
       " Timestamp('2018-11-29 00:00:00'),\n",
       " Timestamp('2018-11-30 00:00:00'),\n",
       " Timestamp('2018-12-03 00:00:00'),\n",
       " Timestamp('2018-12-04 00:00:00')]"
      ]
     },
     "execution_count": 13,
     "metadata": {},
     "output_type": "execute_result"
    }
   ],
   "source": [
    "test.index.tolist()[-10:]"
   ]
  },
  {
   "cell_type": "code",
   "execution_count": 12,
   "metadata": {},
   "outputs": [
    {
     "data": {
      "text/plain": [
       "[Timestamp('2018-12-04 00:00:00')]"
      ]
     },
     "execution_count": 12,
     "metadata": {},
     "output_type": "execute_result"
    }
   ],
   "source": [
    "test.index.tolist()[-1:]"
   ]
  },
  {
   "cell_type": "code",
   "execution_count": 134,
   "metadata": {},
   "outputs": [
    {
     "data": {
      "text/plain": [
       "array([False, False, False, ...,  True,  True,  True])"
      ]
     },
     "execution_count": 134,
     "metadata": {},
     "output_type": "execute_result"
    }
   ],
   "source": [
    "test.index.year >= 2016"
   ]
  },
  {
   "cell_type": "code",
   "execution_count": 135,
   "metadata": {},
   "outputs": [
    {
     "data": {
      "text/html": [
       "<div>\n",
       "<style scoped>\n",
       "    .dataframe tbody tr th:only-of-type {\n",
       "        vertical-align: middle;\n",
       "    }\n",
       "\n",
       "    .dataframe tbody tr th {\n",
       "        vertical-align: top;\n",
       "    }\n",
       "\n",
       "    .dataframe thead th {\n",
       "        text-align: right;\n",
       "    }\n",
       "</style>\n",
       "<table border=\"1\" class=\"dataframe\">\n",
       "  <thead>\n",
       "    <tr style=\"text-align: right;\">\n",
       "      <th></th>\n",
       "      <th>Close</th>\n",
       "    </tr>\n",
       "    <tr>\n",
       "      <th>Date</th>\n",
       "      <th></th>\n",
       "    </tr>\n",
       "  </thead>\n",
       "  <tbody>\n",
       "    <tr>\n",
       "      <th>2016-01-04</th>\n",
       "      <td>29200.0</td>\n",
       "    </tr>\n",
       "    <tr>\n",
       "      <th>2016-01-05</th>\n",
       "      <td>29350.0</td>\n",
       "    </tr>\n",
       "    <tr>\n",
       "      <th>2016-01-06</th>\n",
       "      <td>28250.0</td>\n",
       "    </tr>\n",
       "    <tr>\n",
       "      <th>2016-01-07</th>\n",
       "      <td>28300.0</td>\n",
       "    </tr>\n",
       "    <tr>\n",
       "      <th>2016-01-08</th>\n",
       "      <td>28750.0</td>\n",
       "    </tr>\n",
       "  </tbody>\n",
       "</table>\n",
       "</div>"
      ],
      "text/plain": [
       "              Close\n",
       "Date               \n",
       "2016-01-04  29200.0\n",
       "2016-01-05  29350.0\n",
       "2016-01-06  28250.0\n",
       "2016-01-07  28300.0\n",
       "2016-01-08  28750.0"
      ]
     },
     "execution_count": 135,
     "metadata": {},
     "output_type": "execute_result"
    }
   ],
   "source": [
    "test[test.index.year >= 2016].head()"
   ]
  },
  {
   "cell_type": "code",
   "execution_count": 139,
   "metadata": {},
   "outputs": [
    {
     "data": {
      "text/plain": [
       "(714, 1)"
      ]
     },
     "execution_count": 139,
     "metadata": {},
     "output_type": "execute_result"
    }
   ],
   "source": [
    "test[test.index.year >= 2016].shape"
   ]
  },
  {
   "cell_type": "code",
   "execution_count": 138,
   "metadata": {},
   "outputs": [
    {
     "data": {
      "text/plain": [
       "(246, 1)"
      ]
     },
     "execution_count": 138,
     "metadata": {},
     "output_type": "execute_result"
    }
   ],
   "source": [
    "test[test.index.year == 2016].shape"
   ]
  },
  {
   "cell_type": "code",
   "execution_count": 110,
   "metadata": {},
   "outputs": [
    {
     "data": {
      "text/plain": [
       "datetime.datetime(2018, 12, 21, 0, 0)"
      ]
     },
     "execution_count": 110,
     "metadata": {},
     "output_type": "execute_result"
    }
   ],
   "source": [
    "pd.datetime(2018,12,21)"
   ]
  },
  {
   "cell_type": "code",
   "execution_count": 142,
   "metadata": {},
   "outputs": [
    {
     "data": {
      "text/plain": [
       "Int64Index([2016, 2016], dtype='int64', name='Date')"
      ]
     },
     "execution_count": 142,
     "metadata": {},
     "output_type": "execute_result"
    }
   ],
   "source": [
    "test.index.year[2010:2012]"
   ]
  },
  {
   "cell_type": "code",
   "execution_count": 141,
   "metadata": {},
   "outputs": [
    {
     "data": {
      "text/plain": [
       "DatetimeIndex(['2016-02-11', '2016-02-12'], dtype='datetime64[ns]', name='Date', freq=None)"
      ]
     },
     "execution_count": 141,
     "metadata": {},
     "output_type": "execute_result"
    }
   ],
   "source": [
    "test.index[2010:2012]"
   ]
  },
  {
   "cell_type": "code",
   "execution_count": 21,
   "metadata": {
    "scrolled": true
   },
   "outputs": [
    {
     "data": {
      "text/plain": [
       "True"
      ]
     },
     "execution_count": 21,
     "metadata": {},
     "output_type": "execute_result"
    }
   ],
   "source": [
    "test.index.tolist()[0] < test.index.tolist()[1]"
   ]
  },
  {
   "cell_type": "code",
   "execution_count": 145,
   "metadata": {
    "scrolled": true
   },
   "outputs": [
    {
     "data": {
      "text/plain": [
       "array([ True])"
      ]
     },
     "execution_count": 145,
     "metadata": {},
     "output_type": "execute_result"
    }
   ],
   "source": [
    "test.index.tolist()[0] < targetDate"
   ]
  },
  {
   "cell_type": "code",
   "execution_count": 144,
   "metadata": {
    "scrolled": true
   },
   "outputs": [
    {
     "data": {
      "text/plain": [
       "False"
      ]
     },
     "execution_count": 144,
     "metadata": {},
     "output_type": "execute_result"
    }
   ],
   "source": [
    "test.index[0] > test.index[1]"
   ]
  },
  {
   "cell_type": "code",
   "execution_count": 11,
   "metadata": {
    "scrolled": true
   },
   "outputs": [
    {
     "data": {
      "text/plain": [
       "array([False])"
      ]
     },
     "execution_count": 11,
     "metadata": {},
     "output_type": "execute_result"
    }
   ],
   "source": [
    "test.index[0] > targetDate"
   ]
  },
  {
   "cell_type": "code",
   "execution_count": 30,
   "metadata": {},
   "outputs": [
    {
     "data": {
      "text/html": [
       "<div>\n",
       "<style scoped>\n",
       "    .dataframe tbody tr th:only-of-type {\n",
       "        vertical-align: middle;\n",
       "    }\n",
       "\n",
       "    .dataframe tbody tr th {\n",
       "        vertical-align: top;\n",
       "    }\n",
       "\n",
       "    .dataframe thead th {\n",
       "        text-align: right;\n",
       "    }\n",
       "</style>\n",
       "<table border=\"1\" class=\"dataframe\">\n",
       "  <thead>\n",
       "    <tr style=\"text-align: right;\">\n",
       "      <th></th>\n",
       "      <th>Close</th>\n",
       "    </tr>\n",
       "    <tr>\n",
       "      <th>Date</th>\n",
       "      <th></th>\n",
       "    </tr>\n",
       "  </thead>\n",
       "  <tbody>\n",
       "    <tr>\n",
       "      <th>2018-01-08</th>\n",
       "      <td>23400.0</td>\n",
       "    </tr>\n",
       "    <tr>\n",
       "      <th>2018-01-09</th>\n",
       "      <td>23400.0</td>\n",
       "    </tr>\n",
       "    <tr>\n",
       "      <th>2018-01-10</th>\n",
       "      <td>23450.0</td>\n",
       "    </tr>\n",
       "    <tr>\n",
       "      <th>2018-01-11</th>\n",
       "      <td>23500.0</td>\n",
       "    </tr>\n",
       "    <tr>\n",
       "      <th>2018-01-12</th>\n",
       "      <td>23250.0</td>\n",
       "    </tr>\n",
       "  </tbody>\n",
       "</table>\n",
       "</div>"
      ],
      "text/plain": [
       "              Close\n",
       "Date               \n",
       "2018-01-08  23400.0\n",
       "2018-01-09  23400.0\n",
       "2018-01-10  23450.0\n",
       "2018-01-11  23500.0\n",
       "2018-01-12  23250.0"
      ]
     },
     "execution_count": 30,
     "metadata": {},
     "output_type": "execute_result"
    }
   ],
   "source": [
    "test[test.index>pd.datetime(2018,1,6)].head()"
   ]
  },
  {
   "cell_type": "code",
   "execution_count": 45,
   "metadata": {
    "scrolled": true
   },
   "outputs": [
    {
     "data": {
      "text/html": [
       "<div>\n",
       "<style scoped>\n",
       "    .dataframe tbody tr th:only-of-type {\n",
       "        vertical-align: middle;\n",
       "    }\n",
       "\n",
       "    .dataframe tbody tr th {\n",
       "        vertical-align: top;\n",
       "    }\n",
       "\n",
       "    .dataframe thead th {\n",
       "        text-align: right;\n",
       "    }\n",
       "</style>\n",
       "<table border=\"1\" class=\"dataframe\">\n",
       "  <thead>\n",
       "    <tr style=\"text-align: right;\">\n",
       "      <th></th>\n",
       "      <th>Close</th>\n",
       "    </tr>\n",
       "    <tr>\n",
       "      <th>Date</th>\n",
       "      <th></th>\n",
       "    </tr>\n",
       "  </thead>\n",
       "  <tbody>\n",
       "    <tr>\n",
       "      <th>2008-01-02</th>\n",
       "      <td>20400.0</td>\n",
       "    </tr>\n",
       "    <tr>\n",
       "      <th>2008-01-03</th>\n",
       "      <td>20300.0</td>\n",
       "    </tr>\n",
       "    <tr>\n",
       "      <th>2008-01-04</th>\n",
       "      <td>19900.0</td>\n",
       "    </tr>\n",
       "    <tr>\n",
       "      <th>2008-01-07</th>\n",
       "      <td>20000.0</td>\n",
       "    </tr>\n",
       "    <tr>\n",
       "      <th>2008-01-08</th>\n",
       "      <td>19900.0</td>\n",
       "    </tr>\n",
       "  </tbody>\n",
       "</table>\n",
       "</div>"
      ],
      "text/plain": [
       "              Close\n",
       "Date               \n",
       "2008-01-02  20400.0\n",
       "2008-01-03  20300.0\n",
       "2008-01-04  19900.0\n",
       "2008-01-07  20000.0\n",
       "2008-01-08  19900.0"
      ]
     },
     "execution_count": 45,
     "metadata": {},
     "output_type": "execute_result"
    }
   ],
   "source": [
    "test[test.index <= pd.datetime(2018,1,6)].head()"
   ]
  },
  {
   "cell_type": "code",
   "execution_count": 46,
   "metadata": {
    "scrolled": true
   },
   "outputs": [
    {
     "data": {
      "text/html": [
       "<div>\n",
       "<style scoped>\n",
       "    .dataframe tbody tr th:only-of-type {\n",
       "        vertical-align: middle;\n",
       "    }\n",
       "\n",
       "    .dataframe tbody tr th {\n",
       "        vertical-align: top;\n",
       "    }\n",
       "\n",
       "    .dataframe thead th {\n",
       "        text-align: right;\n",
       "    }\n",
       "</style>\n",
       "<table border=\"1\" class=\"dataframe\">\n",
       "  <thead>\n",
       "    <tr style=\"text-align: right;\">\n",
       "      <th></th>\n",
       "      <th>Close</th>\n",
       "    </tr>\n",
       "    <tr>\n",
       "      <th>Date</th>\n",
       "      <th></th>\n",
       "    </tr>\n",
       "  </thead>\n",
       "  <tbody>\n",
       "    <tr>\n",
       "      <th>2018-01-02</th>\n",
       "      <td>24350.0</td>\n",
       "    </tr>\n",
       "    <tr>\n",
       "      <th>2018-01-03</th>\n",
       "      <td>24450.0</td>\n",
       "    </tr>\n",
       "    <tr>\n",
       "      <th>2018-01-04</th>\n",
       "      <td>24450.0</td>\n",
       "    </tr>\n",
       "    <tr>\n",
       "      <th>2018-01-05</th>\n",
       "      <td>24350.0</td>\n",
       "    </tr>\n",
       "  </tbody>\n",
       "</table>\n",
       "</div>"
      ],
      "text/plain": [
       "              Close\n",
       "Date               \n",
       "2018-01-02  24350.0\n",
       "2018-01-03  24450.0\n",
       "2018-01-04  24450.0\n",
       "2018-01-05  24350.0"
      ]
     },
     "execution_count": 46,
     "metadata": {},
     "output_type": "execute_result"
    }
   ],
   "source": [
    "test.loc[pd.datetime(2018,1,1):pd.datetime(2018,1,6)]"
   ]
  },
  {
   "cell_type": "code",
   "execution_count": 47,
   "metadata": {},
   "outputs": [
    {
     "data": {
      "text/plain": [
       "Timestamp('2008-01-02 00:00:00')"
      ]
     },
     "execution_count": 47,
     "metadata": {},
     "output_type": "execute_result"
    }
   ],
   "source": [
    "test.index[0]"
   ]
  },
  {
   "cell_type": "code",
   "execution_count": 46,
   "metadata": {},
   "outputs": [
    {
     "data": {
      "text/plain": [
       "Int64Index([2018], dtype='int64')"
      ]
     },
     "execution_count": 46,
     "metadata": {},
     "output_type": "execute_result"
    }
   ],
   "source": [
    "targetDate.year"
   ]
  },
  {
   "cell_type": "code",
   "execution_count": 49,
   "metadata": {},
   "outputs": [
    {
     "data": {
      "text/html": [
       "<div>\n",
       "<style scoped>\n",
       "    .dataframe tbody tr th:only-of-type {\n",
       "        vertical-align: middle;\n",
       "    }\n",
       "\n",
       "    .dataframe tbody tr th {\n",
       "        vertical-align: top;\n",
       "    }\n",
       "\n",
       "    .dataframe thead th {\n",
       "        text-align: right;\n",
       "    }\n",
       "</style>\n",
       "<table border=\"1\" class=\"dataframe\">\n",
       "  <thead>\n",
       "    <tr style=\"text-align: right;\">\n",
       "      <th></th>\n",
       "      <th>Close</th>\n",
       "    </tr>\n",
       "    <tr>\n",
       "      <th>Date</th>\n",
       "      <th></th>\n",
       "    </tr>\n",
       "  </thead>\n",
       "  <tbody>\n",
       "    <tr>\n",
       "      <th>2018-01-02</th>\n",
       "      <td>24350.0</td>\n",
       "    </tr>\n",
       "    <tr>\n",
       "      <th>2018-01-03</th>\n",
       "      <td>24450.0</td>\n",
       "    </tr>\n",
       "    <tr>\n",
       "      <th>2018-01-04</th>\n",
       "      <td>24450.0</td>\n",
       "    </tr>\n",
       "    <tr>\n",
       "      <th>2018-01-05</th>\n",
       "      <td>24350.0</td>\n",
       "    </tr>\n",
       "    <tr>\n",
       "      <th>2018-01-08</th>\n",
       "      <td>23400.0</td>\n",
       "    </tr>\n",
       "  </tbody>\n",
       "</table>\n",
       "</div>"
      ],
      "text/plain": [
       "              Close\n",
       "Date               \n",
       "2018-01-02  24350.0\n",
       "2018-01-03  24450.0\n",
       "2018-01-04  24450.0\n",
       "2018-01-05  24350.0\n",
       "2018-01-08  23400.0"
      ]
     },
     "execution_count": 49,
     "metadata": {},
     "output_type": "execute_result"
    }
   ],
   "source": [
    "test[test.index.year >= targetDate.year[0]].head()"
   ]
  },
  {
   "cell_type": "code",
   "execution_count": 50,
   "metadata": {},
   "outputs": [
    {
     "ename": "AttributeError",
     "evalue": "'DatetimeIndex' object has no attribute 'dt'",
     "output_type": "error",
     "traceback": [
      "\u001b[0;31m---------------------------------------------------------------------------\u001b[0m",
      "\u001b[0;31mAttributeError\u001b[0m                            Traceback (most recent call last)",
      "\u001b[0;32m<ipython-input-50-d43811dd39e6>\u001b[0m in \u001b[0;36m<module>\u001b[0;34m\u001b[0m\n\u001b[0;32m----> 1\u001b[0;31m \u001b[0mtargetDate\u001b[0m\u001b[0;34m.\u001b[0m\u001b[0mdt\u001b[0m\u001b[0;34m.\u001b[0m\u001b[0mstrftime\u001b[0m\u001b[0;34m(\u001b[0m\u001b[0;34m'%Y-%m-%d'\u001b[0m\u001b[0;34m)\u001b[0m\u001b[0;34m\u001b[0m\u001b[0m\n\u001b[0m",
      "\u001b[0;31mAttributeError\u001b[0m: 'DatetimeIndex' object has no attribute 'dt'"
     ]
    }
   ],
   "source": [
    "targetDate.dt.strftime('%Y-%m-%d')"
   ]
  },
  {
   "cell_type": "code",
   "execution_count": 6,
   "metadata": {},
   "outputs": [
    {
     "data": {
      "text/plain": [
       "Timestamp('2017-10-08 00:00:00')"
      ]
     },
     "execution_count": 6,
     "metadata": {},
     "output_type": "execute_result"
    }
   ],
   "source": [
    "pd.datetime(2018,1,6)-pd.DateOffset(90)"
   ]
  },
  {
   "cell_type": "code",
   "execution_count": 5,
   "metadata": {},
   "outputs": [
    {
     "data": {
      "text/plain": [
       "DatetimeIndex(['2018-09-05'], dtype='datetime64[ns]', freq=None)"
      ]
     },
     "execution_count": 5,
     "metadata": {},
     "output_type": "execute_result"
    }
   ],
   "source": [
    "targetDate = pd.DatetimeIndex(test.index.tolist()[-1:])-pd.DateOffset(90)\n",
    "targetDate"
   ]
  },
  {
   "cell_type": "code",
   "execution_count": 27,
   "metadata": {},
   "outputs": [
    {
     "data": {
      "text/plain": [
       "2018"
      ]
     },
     "execution_count": 27,
     "metadata": {},
     "output_type": "execute_result"
    }
   ],
   "source": [
    "targetDate.year.values[0]"
   ]
  },
  {
   "cell_type": "code",
   "execution_count": 30,
   "metadata": {},
   "outputs": [
    {
     "data": {
      "text/html": [
       "<div>\n",
       "<style scoped>\n",
       "    .dataframe tbody tr th:only-of-type {\n",
       "        vertical-align: middle;\n",
       "    }\n",
       "\n",
       "    .dataframe tbody tr th {\n",
       "        vertical-align: top;\n",
       "    }\n",
       "\n",
       "    .dataframe thead th {\n",
       "        text-align: right;\n",
       "    }\n",
       "</style>\n",
       "<table border=\"1\" class=\"dataframe\">\n",
       "  <thead>\n",
       "    <tr style=\"text-align: right;\">\n",
       "      <th></th>\n",
       "      <th>Close</th>\n",
       "    </tr>\n",
       "    <tr>\n",
       "      <th>Date</th>\n",
       "      <th></th>\n",
       "    </tr>\n",
       "  </thead>\n",
       "  <tbody>\n",
       "    <tr>\n",
       "      <th>2018-09-06</th>\n",
       "      <td>18900.0</td>\n",
       "    </tr>\n",
       "    <tr>\n",
       "      <th>2018-09-07</th>\n",
       "      <td>18900.0</td>\n",
       "    </tr>\n",
       "    <tr>\n",
       "      <th>2018-09-10</th>\n",
       "      <td>19000.0</td>\n",
       "    </tr>\n",
       "    <tr>\n",
       "      <th>2018-09-11</th>\n",
       "      <td>18950.0</td>\n",
       "    </tr>\n",
       "    <tr>\n",
       "      <th>2018-09-12</th>\n",
       "      <td>18900.0</td>\n",
       "    </tr>\n",
       "  </tbody>\n",
       "</table>\n",
       "</div>"
      ],
      "text/plain": [
       "              Close\n",
       "Date               \n",
       "2018-09-06  18900.0\n",
       "2018-09-07  18900.0\n",
       "2018-09-10  19000.0\n",
       "2018-09-11  18950.0\n",
       "2018-09-12  18900.0"
      ]
     },
     "execution_count": 30,
     "metadata": {},
     "output_type": "execute_result"
    }
   ],
   "source": [
    "test[test.index>pd.datetime(targetDate.year.values[0],targetDate.month.values[0],targetDate.day.values[0])].head()"
   ]
  },
  {
   "cell_type": "code",
   "execution_count": 6,
   "metadata": {},
   "outputs": [
    {
     "data": {
      "text/plain": [
       "['2008-01-02',\n",
       " '2008-01-03',\n",
       " '2008-01-04',\n",
       " '2008-01-07',\n",
       " '2008-01-08',\n",
       " '2008-01-09',\n",
       " '2008-01-10',\n",
       " '2008-01-11',\n",
       " '2008-01-14',\n",
       " '2008-01-15']"
      ]
     },
     "execution_count": 6,
     "metadata": {},
     "output_type": "execute_result"
    }
   ],
   "source": [
    "test.index.strftime('%Y-%m-%d').tolist()[:10]"
   ]
  },
  {
   "cell_type": "code",
   "execution_count": 16,
   "metadata": {},
   "outputs": [
    {
     "data": {
      "text/plain": [
       "['2018-12-04']"
      ]
     },
     "execution_count": 16,
     "metadata": {},
     "output_type": "execute_result"
    }
   ],
   "source": [
    "test.index.strftime('%Y-%m-%d').tolist()[-1:]"
   ]
  },
  {
   "cell_type": "code",
   "execution_count": 7,
   "metadata": {},
   "outputs": [
    {
     "data": {
      "text/plain": [
       "['2008-01-02',\n",
       " '2008-01-03',\n",
       " '2008-01-04',\n",
       " '2008-01-07',\n",
       " '2008-01-08',\n",
       " '2008-01-09',\n",
       " '2008-01-10',\n",
       " '2008-01-11',\n",
       " '2008-01-14',\n",
       " '2008-01-15']"
      ]
     },
     "execution_count": 7,
     "metadata": {},
     "output_type": "execute_result"
    }
   ],
   "source": [
    "test.reset_index().Date.dt.strftime('%Y-%m-%d').tolist()[:10]"
   ]
  },
  {
   "cell_type": "code",
   "execution_count": 9,
   "metadata": {},
   "outputs": [
    {
     "data": {
      "text/plain": [
       "Date     datetime64[ns]\n",
       "Close           float64\n",
       "dtype: object"
      ]
     },
     "execution_count": 9,
     "metadata": {},
     "output_type": "execute_result"
    }
   ],
   "source": [
    "test.reset_index().dtypes"
   ]
  },
  {
   "cell_type": "code",
   "execution_count": 10,
   "metadata": {},
   "outputs": [
    {
     "data": {
      "text/plain": [
       "DatetimeIndex(['2008-01-02', '2008-01-03', '2008-01-04', '2008-01-07',\n",
       "               '2008-01-08', '2008-01-09', '2008-01-10', '2008-01-11',\n",
       "               '2008-01-14', '2008-01-15',\n",
       "               ...\n",
       "               '2018-11-21', '2018-11-22', '2018-11-23', '2018-11-26',\n",
       "               '2018-11-27', '2018-11-28', '2018-11-29', '2018-11-30',\n",
       "               '2018-12-03', '2018-12-04'],\n",
       "              dtype='datetime64[ns]', name='Date', length=2699, freq=None)"
      ]
     },
     "execution_count": 10,
     "metadata": {},
     "output_type": "execute_result"
    }
   ],
   "source": [
    "pd.to_datetime(test.index)"
   ]
  },
  {
   "cell_type": "code",
   "execution_count": 11,
   "metadata": {},
   "outputs": [
    {
     "data": {
      "text/plain": [
       "[Timestamp('2008-01-02 00:00:00'),\n",
       " Timestamp('2008-01-03 00:00:00'),\n",
       " Timestamp('2008-01-04 00:00:00'),\n",
       " Timestamp('2008-01-07 00:00:00'),\n",
       " Timestamp('2008-01-08 00:00:00'),\n",
       " Timestamp('2008-01-09 00:00:00'),\n",
       " Timestamp('2008-01-10 00:00:00'),\n",
       " Timestamp('2008-01-11 00:00:00'),\n",
       " Timestamp('2008-01-14 00:00:00'),\n",
       " Timestamp('2008-01-15 00:00:00')]"
      ]
     },
     "execution_count": 11,
     "metadata": {},
     "output_type": "execute_result"
    }
   ],
   "source": [
    "pd.to_datetime(test.index).tolist()[:10]"
   ]
  },
  {
   "cell_type": "markdown",
   "metadata": {},
   "source": [
    "### pd -> CSV file"
   ]
  },
  {
   "cell_type": "code",
   "execution_count": 12,
   "metadata": {},
   "outputs": [],
   "source": [
    "test.to_csv('test-csv.csv', header=False)"
   ]
  },
  {
   "cell_type": "code",
   "execution_count": 13,
   "metadata": {},
   "outputs": [],
   "source": [
    "test_new = test[['Close']].copy()"
   ]
  },
  {
   "cell_type": "code",
   "execution_count": 17,
   "metadata": {},
   "outputs": [
    {
     "data": {
      "text/plain": [
       "1453"
      ]
     },
     "execution_count": 17,
     "metadata": {},
     "output_type": "execute_result"
    }
   ],
   "source": [
    "len(test_new)"
   ]
  },
  {
   "cell_type": "markdown",
   "metadata": {},
   "source": [
    "### pd -> csv , select column"
   ]
  },
  {
   "cell_type": "code",
   "execution_count": 123,
   "metadata": {},
   "outputs": [],
   "source": [
    "# header = ['Close']\n",
    "test.to_csv('test-csv-close.csv', header=False, columns = ['Close'])"
   ]
  },
  {
   "cell_type": "markdown",
   "metadata": {},
   "source": [
    "### CSV"
   ]
  },
  {
   "cell_type": "code",
   "execution_count": 25,
   "metadata": {},
   "outputs": [
    {
     "name": "stdout",
     "output_type": "stream",
     "text": [
      "request data from 1000 to 2085, processing............................................................................................................................................................................................................................................................................................................................................................................................................................................................................................................................................................................................................................................................................................................................................................................................................................................................................................................................................................................................................................................................................................................................... extraction finished.\n",
      "log-extract-1000-2085.txt file saved!\n"
     ]
    }
   ],
   "source": [
    "# 10 year 'Close' , to csv\n",
    "\n",
    "def data_extract(n1, n2):\n",
    "    cnt = 0;log=[]\n",
    "    print('request data from {} to {}, processing..'.format(n1,n2),end='')\n",
    "    for i,v in tickers.items():\n",
    "        cnt+=1\n",
    "        if cnt > n1 and '마켓' in v:\n",
    "            ticker = i+'.'+v['마켓']\n",
    "            try:\n",
    "                df = pd.read_pickle('./data10y/{}'.format(ticker))\n",
    "                df.to_csv('./data10y_close_csv/{}.csv'.format(ticker), header=False, columns = ['Close'])\n",
    "                log.append((cnt,ticker,'plotted.',v['회사명']))\n",
    "                print('.',end='')\n",
    "            except Exception as e:\n",
    "                log.append((cnt,ticker,'failed.',e,v['회사명']))\n",
    "                print(cnt,ticker,'failed',e,v['회사명'])\n",
    "                pass\n",
    "        if cnt == n2 :\n",
    "            break\n",
    "    print(' extraction finished.')\n",
    "    filename = 'log-extract-{}-{}.txt'.format(n1,n2)\n",
    "    with open('./data10y_close_csv/'+filename, 'w') as f:\n",
    "        for i in log:\n",
    "            f.write(\"{}\\n\".format(i))\n",
    "        print(filename,'file saved!')\n",
    "data_extract(1000,2085)"
   ]
  },
  {
   "cell_type": "markdown",
   "metadata": {},
   "source": [
    "### Pickle"
   ]
  },
  {
   "cell_type": "code",
   "execution_count": 22,
   "metadata": {},
   "outputs": [
    {
     "name": "stdout",
     "output_type": "stream",
     "text": [
      "request data from 0 to 1000, processing...................................34 267270.KS failed [Errno 2] No such file or directory: './data10y/267270.KS' 현대건설기계\n",
      ".........................................................................................................................................................................204 099340.KS failed [Errno 2] No such file or directory: './data10y/099340.KS' 하나니켈1호\n",
      "205 099350.KS failed [Errno 2] No such file or directory: './data10y/099350.KS' 하나니켈2호\n",
      "..............220 096300.KS failed [Errno 2] No such file or directory: './data10y/096300.KS' 베트남개발1\n",
      "............................................................................................................................................................................................................................................................................................................................................................................................................................................................................................................................................................................777 001790.KS failed [Errno 2] No such file or directory: './data10y/001790.KS' 대한제당\n",
      "............................................................................................................................................................................................................................... extraction finished.\n",
      "log-extract-0-1000.txt file saved!\n"
     ]
    }
   ],
   "source": [
    "# 10 year 'Close' , to pickle\n",
    "\n",
    "def data_extract(n1, n2):\n",
    "    cnt = 0;log=[]\n",
    "    print('request data from {} to {}, processing..'.format(n1,n2),end='')\n",
    "    for i,v in tickers.items():\n",
    "        cnt+=1\n",
    "        if cnt > n1 and '마켓' in v:\n",
    "            ticker = i+'.'+v['마켓']\n",
    "            try:\n",
    "                df = pd.read_pickle('./data10y/{}'.format(ticker))\n",
    "                df_new = df[['Close']].copy()\n",
    "                df_new.to_pickle('./data10y_close_pickle/{}'.format(ticker))\n",
    "                log.append((cnt,ticker,'extracted.',v['회사명']))\n",
    "                print('.',end='')\n",
    "            except Exception as e:\n",
    "                log.append((cnt,ticker,'failed.',e,v['회사명']))\n",
    "                print(cnt,ticker,'failed',e,v['회사명'])\n",
    "                pass\n",
    "        if cnt == n2 :\n",
    "            break\n",
    "    print(' extraction finished.')\n",
    "    filename = 'log-extract-{}-{}.txt'.format(n1,n2)\n",
    "    with open('./data10y_close_pickle/'+filename, 'w') as f:\n",
    "        for i in log:\n",
    "            f.write(\"{}\\n\".format(i))\n",
    "        print(filename,'file saved!')\n",
    "data_extract(0,1000)"
   ]
  },
  {
   "cell_type": "markdown",
   "metadata": {},
   "source": [
    "### Pickle-2"
   ]
  },
  {
   "cell_type": "code",
   "execution_count": 3,
   "metadata": {},
   "outputs": [
    {
     "name": "stdout",
     "output_type": "stream",
     "text": [
      "request data from 0 to 2085, processing...................................34 267270.KS failed [Errno 2] No such file or directory: './data10y/267270.KS' 현대건설기계\n",
      ".........................................................................................................................................................................204 099340.KS failed [Errno 2] No such file or directory: './data10y/099340.KS' 하나니켈1호\n",
      "205 099350.KS failed [Errno 2] No such file or directory: './data10y/099350.KS' 하나니켈2호\n",
      "..............220 096300.KS failed [Errno 2] No such file or directory: './data10y/096300.KS' 베트남개발1\n",
      "............................................................................................................................................................................................................................................................................................................................................................................................................................................................................................................................................................................777 001790.KS failed [Errno 2] No such file or directory: './data10y/001790.KS' 대한제당\n",
      "............................................................................................................................................................................................................................................................................................................................................................................................................................................................................................................................................................................................................................................................................................................................................................................................................................................................................................................................................................................................................................................................................................................................................................................................................................................................................................................................................................ extraction finished.\n",
      "log-extract-0-2085.txt file saved!\n"
     ]
    }
   ],
   "source": [
    "# 10 year 'Close' , to pickle\n",
    "\n",
    "def data_extract(n1, n2):\n",
    "    cnt = 0;log=[]\n",
    "    print('request data from {} to {}, processing..'.format(n1,n2),end='')\n",
    "    for i,v in tickers.items():\n",
    "        cnt+=1\n",
    "        if cnt > n1 and '마켓' in v:\n",
    "            ticker = i+'.'+v['마켓']\n",
    "            try:\n",
    "                df = pd.read_pickle('./data10y/{}'.format(ticker))\n",
    "                df_new = df[['Close']].copy()\n",
    "                df_new.to_pickle('./data10y_close_pickle_2/{}'.format(i))\n",
    "                log.append((cnt,ticker,'extracted.',v['회사명']))\n",
    "                print('.',end='')\n",
    "            except Exception as e:\n",
    "                log.append((cnt,ticker,'failed.',e,v['회사명']))\n",
    "                print(cnt,ticker,'failed',e,v['회사명'])\n",
    "                pass\n",
    "        if cnt == n2 :\n",
    "            break\n",
    "    print(' extraction finished.')\n",
    "    filename = 'log-extract-{}-{}.txt'.format(n1,n2)\n",
    "    with open('./data10y_close_pickle_2/'+filename, 'w') as f:\n",
    "        for i in log:\n",
    "            f.write(\"{}\\n\".format(i))\n",
    "        print(filename,'file saved!')\n",
    "data_extract(0,2085)"
   ]
  }
 ],
 "metadata": {
  "kernelspec": {
   "display_name": "Python 3",
   "language": "python",
   "name": "python3"
  },
  "language_info": {
   "codemirror_mode": {
    "name": "ipython",
    "version": 3
   },
   "file_extension": ".py",
   "mimetype": "text/x-python",
   "name": "python",
   "nbconvert_exporter": "python",
   "pygments_lexer": "ipython3",
   "version": "3.6.6"
  }
 },
 "nbformat": 4,
 "nbformat_minor": 2
}
