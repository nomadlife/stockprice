{
 "cells": [
  {
   "cell_type": "code",
   "execution_count": 1,
   "metadata": {},
   "outputs": [],
   "source": [
    "import pandas as pd\n",
    "import matplotlib\n",
    "#matplotlib.use('Agg')\n",
    "import matplotlib.pyplot as plt\n",
    "%matplotlib inline"
   ]
  },
  {
   "cell_type": "code",
   "execution_count": 2,
   "metadata": {},
   "outputs": [
    {
     "data": {
      "text/plain": [
       "2085"
      ]
     },
     "execution_count": 2,
     "metadata": {},
     "output_type": "execute_result"
    }
   ],
   "source": [
    "import json\n",
    "\n",
    "with open('krx_total_list.txt','r') as f:\n",
    "    tickers = json.loads(f.read())\n",
    "len(tickers)"
   ]
  },
  {
   "cell_type": "markdown",
   "metadata": {},
   "source": [
    "# Data extraction for chart.js"
   ]
  },
  {
   "cell_type": "code",
   "execution_count": 3,
   "metadata": {},
   "outputs": [
    {
     "data": {
      "text/plain": [
       "(2699, 1)"
      ]
     },
     "execution_count": 3,
     "metadata": {},
     "output_type": "execute_result"
    }
   ],
   "source": [
    "test = pd.read_pickle('./data10y_close_pickle_2/008500')\n",
    "test.shape"
   ]
  },
  {
   "cell_type": "code",
   "execution_count": 4,
   "metadata": {},
   "outputs": [
    {
     "data": {
      "text/plain": [
       "[Timestamp('2008-01-02 00:00:00'),\n",
       " Timestamp('2008-01-03 00:00:00'),\n",
       " Timestamp('2008-01-04 00:00:00'),\n",
       " Timestamp('2008-01-07 00:00:00'),\n",
       " Timestamp('2008-01-08 00:00:00'),\n",
       " Timestamp('2008-01-09 00:00:00'),\n",
       " Timestamp('2008-01-10 00:00:00'),\n",
       " Timestamp('2008-01-11 00:00:00'),\n",
       " Timestamp('2008-01-14 00:00:00'),\n",
       " Timestamp('2008-01-15 00:00:00')]"
      ]
     },
     "execution_count": 4,
     "metadata": {},
     "output_type": "execute_result"
    }
   ],
   "source": [
    "test.index.tolist()[:10]"
   ]
  },
  {
   "cell_type": "code",
   "execution_count": 13,
   "metadata": {},
   "outputs": [
    {
     "data": {
      "text/plain": [
       "[Timestamp('2018-11-21 00:00:00'),\n",
       " Timestamp('2018-11-22 00:00:00'),\n",
       " Timestamp('2018-11-23 00:00:00'),\n",
       " Timestamp('2018-11-26 00:00:00'),\n",
       " Timestamp('2018-11-27 00:00:00'),\n",
       " Timestamp('2018-11-28 00:00:00'),\n",
       " Timestamp('2018-11-29 00:00:00'),\n",
       " Timestamp('2018-11-30 00:00:00'),\n",
       " Timestamp('2018-12-03 00:00:00'),\n",
       " Timestamp('2018-12-04 00:00:00')]"
      ]
     },
     "execution_count": 13,
     "metadata": {},
     "output_type": "execute_result"
    }
   ],
   "source": [
    "test.index.tolist()[-10:]"
   ]
  },
  {
   "cell_type": "code",
   "execution_count": 12,
   "metadata": {},
   "outputs": [
    {
     "data": {
      "text/plain": [
       "[Timestamp('2018-12-04 00:00:00')]"
      ]
     },
     "execution_count": 12,
     "metadata": {},
     "output_type": "execute_result"
    }
   ],
   "source": [
    "test.index.tolist()[-1:]"
   ]
  },
  {
   "cell_type": "code",
   "execution_count": 134,
   "metadata": {},
   "outputs": [
    {
     "data": {
      "text/plain": [
       "array([False, False, False, ...,  True,  True,  True])"
      ]
     },
     "execution_count": 134,
     "metadata": {},
     "output_type": "execute_result"
    }
   ],
   "source": [
    "test.index.year >= 2016"
   ]
  },
  {
   "cell_type": "code",
   "execution_count": 135,
   "metadata": {},
   "outputs": [
    {
     "data": {
      "text/html": [
       "<div>\n",
       "<style scoped>\n",
       "    .dataframe tbody tr th:only-of-type {\n",
       "        vertical-align: middle;\n",
       "    }\n",
       "\n",
       "    .dataframe tbody tr th {\n",
       "        vertical-align: top;\n",
       "    }\n",
       "\n",
       "    .dataframe thead th {\n",
       "        text-align: right;\n",
       "    }\n",
       "</style>\n",
       "<table border=\"1\" class=\"dataframe\">\n",
       "  <thead>\n",
       "    <tr style=\"text-align: right;\">\n",
       "      <th></th>\n",
       "      <th>Close</th>\n",
       "    </tr>\n",
       "    <tr>\n",
       "      <th>Date</th>\n",
       "      <th></th>\n",
       "    </tr>\n",
       "  </thead>\n",
       "  <tbody>\n",
       "    <tr>\n",
       "      <th>2016-01-04</th>\n",
       "      <td>29200.0</td>\n",
       "    </tr>\n",
       "    <tr>\n",
       "      <th>2016-01-05</th>\n",
       "      <td>29350.0</td>\n",
       "    </tr>\n",
       "    <tr>\n",
       "      <th>2016-01-06</th>\n",
       "      <td>28250.0</td>\n",
       "    </tr>\n",
       "    <tr>\n",
       "      <th>2016-01-07</th>\n",
       "      <td>28300.0</td>\n",
       "    </tr>\n",
       "    <tr>\n",
       "      <th>2016-01-08</th>\n",
       "      <td>28750.0</td>\n",
       "    </tr>\n",
       "  </tbody>\n",
       "</table>\n",
       "</div>"
      ],
      "text/plain": [
       "              Close\n",
       "Date               \n",
       "2016-01-04  29200.0\n",
       "2016-01-05  29350.0\n",
       "2016-01-06  28250.0\n",
       "2016-01-07  28300.0\n",
       "2016-01-08  28750.0"
      ]
     },
     "execution_count": 135,
     "metadata": {},
     "output_type": "execute_result"
    }
   ],
   "source": [
    "test[test.index.year >= 2016].head()"
   ]
  },
  {
   "cell_type": "code",
   "execution_count": 139,
   "metadata": {},
   "outputs": [
    {
     "data": {
      "text/plain": [
       "(714, 1)"
      ]
     },
     "execution_count": 139,
     "metadata": {},
     "output_type": "execute_result"
    }
   ],
   "source": [
    "test[test.index.year >= 2016].shape"
   ]
  },
  {
   "cell_type": "code",
   "execution_count": 138,
   "metadata": {},
   "outputs": [
    {
     "data": {
      "text/plain": [
       "(246, 1)"
      ]
     },
     "execution_count": 138,
     "metadata": {},
     "output_type": "execute_result"
    }
   ],
   "source": [
    "test[test.index.year == 2016].shape"
   ]
  },
  {
   "cell_type": "code",
   "execution_count": 110,
   "metadata": {},
   "outputs": [
    {
     "data": {
      "text/plain": [
       "datetime.datetime(2018, 12, 21, 0, 0)"
      ]
     },
     "execution_count": 110,
     "metadata": {},
     "output_type": "execute_result"
    }
   ],
   "source": [
    "pd.datetime(2018,12,21)"
   ]
  },
  {
   "cell_type": "code",
   "execution_count": 142,
   "metadata": {},
   "outputs": [
    {
     "data": {
      "text/plain": [
       "Int64Index([2016, 2016], dtype='int64', name='Date')"
      ]
     },
     "execution_count": 142,
     "metadata": {},
     "output_type": "execute_result"
    }
   ],
   "source": [
    "test.index.year[2010:2012]"
   ]
  },
  {
   "cell_type": "code",
   "execution_count": 141,
   "metadata": {},
   "outputs": [
    {
     "data": {
      "text/plain": [
       "DatetimeIndex(['2016-02-11', '2016-02-12'], dtype='datetime64[ns]', name='Date', freq=None)"
      ]
     },
     "execution_count": 141,
     "metadata": {},
     "output_type": "execute_result"
    }
   ],
   "source": [
    "test.index[2010:2012]"
   ]
  },
  {
   "cell_type": "code",
   "execution_count": 21,
   "metadata": {
    "scrolled": true
   },
   "outputs": [
    {
     "data": {
      "text/plain": [
       "True"
      ]
     },
     "execution_count": 21,
     "metadata": {},
     "output_type": "execute_result"
    }
   ],
   "source": [
    "test.index.tolist()[0] < test.index.tolist()[1]"
   ]
  },
  {
   "cell_type": "code",
   "execution_count": 145,
   "metadata": {
    "scrolled": true
   },
   "outputs": [
    {
     "data": {
      "text/plain": [
       "array([ True])"
      ]
     },
     "execution_count": 145,
     "metadata": {},
     "output_type": "execute_result"
    }
   ],
   "source": [
    "test.index.tolist()[0] < targetDate"
   ]
  },
  {
   "cell_type": "code",
   "execution_count": 144,
   "metadata": {
    "scrolled": true
   },
   "outputs": [
    {
     "data": {
      "text/plain": [
       "False"
      ]
     },
     "execution_count": 144,
     "metadata": {},
     "output_type": "execute_result"
    }
   ],
   "source": [
    "test.index[0] > test.index[1]"
   ]
  },
  {
   "cell_type": "code",
   "execution_count": 11,
   "metadata": {
    "scrolled": true
   },
   "outputs": [
    {
     "data": {
      "text/plain": [
       "array([False])"
      ]
     },
     "execution_count": 11,
     "metadata": {},
     "output_type": "execute_result"
    }
   ],
   "source": [
    "test.index[0] > targetDate"
   ]
  },
  {
   "cell_type": "code",
   "execution_count": 30,
   "metadata": {},
   "outputs": [
    {
     "data": {
      "text/html": [
       "<div>\n",
       "<style scoped>\n",
       "    .dataframe tbody tr th:only-of-type {\n",
       "        vertical-align: middle;\n",
       "    }\n",
       "\n",
       "    .dataframe tbody tr th {\n",
       "        vertical-align: top;\n",
       "    }\n",
       "\n",
       "    .dataframe thead th {\n",
       "        text-align: right;\n",
       "    }\n",
       "</style>\n",
       "<table border=\"1\" class=\"dataframe\">\n",
       "  <thead>\n",
       "    <tr style=\"text-align: right;\">\n",
       "      <th></th>\n",
       "      <th>Close</th>\n",
       "    </tr>\n",
       "    <tr>\n",
       "      <th>Date</th>\n",
       "      <th></th>\n",
       "    </tr>\n",
       "  </thead>\n",
       "  <tbody>\n",
       "    <tr>\n",
       "      <th>2018-01-08</th>\n",
       "      <td>23400.0</td>\n",
       "    </tr>\n",
       "    <tr>\n",
       "      <th>2018-01-09</th>\n",
       "      <td>23400.0</td>\n",
       "    </tr>\n",
       "    <tr>\n",
       "      <th>2018-01-10</th>\n",
       "      <td>23450.0</td>\n",
       "    </tr>\n",
       "    <tr>\n",
       "      <th>2018-01-11</th>\n",
       "      <td>23500.0</td>\n",
       "    </tr>\n",
       "    <tr>\n",
       "      <th>2018-01-12</th>\n",
       "      <td>23250.0</td>\n",
       "    </tr>\n",
       "  </tbody>\n",
       "</table>\n",
       "</div>"
      ],
      "text/plain": [
       "              Close\n",
       "Date               \n",
       "2018-01-08  23400.0\n",
       "2018-01-09  23400.0\n",
       "2018-01-10  23450.0\n",
       "2018-01-11  23500.0\n",
       "2018-01-12  23250.0"
      ]
     },
     "execution_count": 30,
     "metadata": {},
     "output_type": "execute_result"
    }
   ],
   "source": [
    "test[test.index>pd.datetime(2018,1,6)].head()"
   ]
  },
  {
   "cell_type": "code",
   "execution_count": 41,
   "metadata": {},
   "outputs": [
    {
     "data": {
      "text/html": [
       "<div>\n",
       "<style scoped>\n",
       "    .dataframe tbody tr th:only-of-type {\n",
       "        vertical-align: middle;\n",
       "    }\n",
       "\n",
       "    .dataframe tbody tr th {\n",
       "        vertical-align: top;\n",
       "    }\n",
       "\n",
       "    .dataframe thead th {\n",
       "        text-align: right;\n",
       "    }\n",
       "</style>\n",
       "<table border=\"1\" class=\"dataframe\">\n",
       "  <thead>\n",
       "    <tr style=\"text-align: right;\">\n",
       "      <th></th>\n",
       "      <th>Close</th>\n",
       "    </tr>\n",
       "    <tr>\n",
       "      <th>Date</th>\n",
       "      <th></th>\n",
       "    </tr>\n",
       "  </thead>\n",
       "  <tbody>\n",
       "    <tr>\n",
       "      <th>2018-01-08</th>\n",
       "      <td>23400.0</td>\n",
       "    </tr>\n",
       "    <tr>\n",
       "      <th>2018-01-09</th>\n",
       "      <td>23400.0</td>\n",
       "    </tr>\n",
       "    <tr>\n",
       "      <th>2018-01-10</th>\n",
       "      <td>23450.0</td>\n",
       "    </tr>\n",
       "    <tr>\n",
       "      <th>2018-01-11</th>\n",
       "      <td>23500.0</td>\n",
       "    </tr>\n",
       "    <tr>\n",
       "      <th>2018-01-12</th>\n",
       "      <td>23250.0</td>\n",
       "    </tr>\n",
       "  </tbody>\n",
       "</table>\n",
       "</div>"
      ],
      "text/plain": [
       "              Close\n",
       "Date               \n",
       "2018-01-08  23400.0\n",
       "2018-01-09  23400.0\n",
       "2018-01-10  23450.0\n",
       "2018-01-11  23500.0\n",
       "2018-01-12  23250.0"
      ]
     },
     "execution_count": 41,
     "metadata": {},
     "output_type": "execute_result"
    }
   ],
   "source": [
    "test[test.index>pd.datetime(2018,1,6)].head()"
   ]
  },
  {
   "cell_type": "code",
   "execution_count": 45,
   "metadata": {
    "scrolled": true
   },
   "outputs": [
    {
     "data": {
      "text/html": [
       "<div>\n",
       "<style scoped>\n",
       "    .dataframe tbody tr th:only-of-type {\n",
       "        vertical-align: middle;\n",
       "    }\n",
       "\n",
       "    .dataframe tbody tr th {\n",
       "        vertical-align: top;\n",
       "    }\n",
       "\n",
       "    .dataframe thead th {\n",
       "        text-align: right;\n",
       "    }\n",
       "</style>\n",
       "<table border=\"1\" class=\"dataframe\">\n",
       "  <thead>\n",
       "    <tr style=\"text-align: right;\">\n",
       "      <th></th>\n",
       "      <th>Close</th>\n",
       "    </tr>\n",
       "    <tr>\n",
       "      <th>Date</th>\n",
       "      <th></th>\n",
       "    </tr>\n",
       "  </thead>\n",
       "  <tbody>\n",
       "    <tr>\n",
       "      <th>2008-01-02</th>\n",
       "      <td>20400.0</td>\n",
       "    </tr>\n",
       "    <tr>\n",
       "      <th>2008-01-03</th>\n",
       "      <td>20300.0</td>\n",
       "    </tr>\n",
       "    <tr>\n",
       "      <th>2008-01-04</th>\n",
       "      <td>19900.0</td>\n",
       "    </tr>\n",
       "    <tr>\n",
       "      <th>2008-01-07</th>\n",
       "      <td>20000.0</td>\n",
       "    </tr>\n",
       "    <tr>\n",
       "      <th>2008-01-08</th>\n",
       "      <td>19900.0</td>\n",
       "    </tr>\n",
       "  </tbody>\n",
       "</table>\n",
       "</div>"
      ],
      "text/plain": [
       "              Close\n",
       "Date               \n",
       "2008-01-02  20400.0\n",
       "2008-01-03  20300.0\n",
       "2008-01-04  19900.0\n",
       "2008-01-07  20000.0\n",
       "2008-01-08  19900.0"
      ]
     },
     "execution_count": 45,
     "metadata": {},
     "output_type": "execute_result"
    }
   ],
   "source": [
    "test[test.index <= pd.datetime(2018,1,6)].head()"
   ]
  },
  {
   "cell_type": "code",
   "execution_count": 46,
   "metadata": {
    "scrolled": true
   },
   "outputs": [
    {
     "data": {
      "text/html": [
       "<div>\n",
       "<style scoped>\n",
       "    .dataframe tbody tr th:only-of-type {\n",
       "        vertical-align: middle;\n",
       "    }\n",
       "\n",
       "    .dataframe tbody tr th {\n",
       "        vertical-align: top;\n",
       "    }\n",
       "\n",
       "    .dataframe thead th {\n",
       "        text-align: right;\n",
       "    }\n",
       "</style>\n",
       "<table border=\"1\" class=\"dataframe\">\n",
       "  <thead>\n",
       "    <tr style=\"text-align: right;\">\n",
       "      <th></th>\n",
       "      <th>Close</th>\n",
       "    </tr>\n",
       "    <tr>\n",
       "      <th>Date</th>\n",
       "      <th></th>\n",
       "    </tr>\n",
       "  </thead>\n",
       "  <tbody>\n",
       "    <tr>\n",
       "      <th>2018-01-02</th>\n",
       "      <td>24350.0</td>\n",
       "    </tr>\n",
       "    <tr>\n",
       "      <th>2018-01-03</th>\n",
       "      <td>24450.0</td>\n",
       "    </tr>\n",
       "    <tr>\n",
       "      <th>2018-01-04</th>\n",
       "      <td>24450.0</td>\n",
       "    </tr>\n",
       "    <tr>\n",
       "      <th>2018-01-05</th>\n",
       "      <td>24350.0</td>\n",
       "    </tr>\n",
       "  </tbody>\n",
       "</table>\n",
       "</div>"
      ],
      "text/plain": [
       "              Close\n",
       "Date               \n",
       "2018-01-02  24350.0\n",
       "2018-01-03  24450.0\n",
       "2018-01-04  24450.0\n",
       "2018-01-05  24350.0"
      ]
     },
     "execution_count": 46,
     "metadata": {},
     "output_type": "execute_result"
    }
   ],
   "source": [
    "test.loc[pd.datetime(2018,1,1):pd.datetime(2018,1,6)]"
   ]
  },
  {
   "cell_type": "code",
   "execution_count": 19,
   "metadata": {},
   "outputs": [
    {
     "data": {
      "text/plain": [
       "DatetimeIndex(['2018-09-05'], dtype='datetime64[ns]', freq=None)"
      ]
     },
     "execution_count": 19,
     "metadata": {},
     "output_type": "execute_result"
    }
   ],
   "source": [
    "targetDate"
   ]
  },
  {
   "cell_type": "code",
   "execution_count": 18,
   "metadata": {},
   "outputs": [
    {
     "data": {
      "text/plain": [
       "Index(['2018-09-05'], dtype='object')"
      ]
     },
     "execution_count": 18,
     "metadata": {},
     "output_type": "execute_result"
    }
   ],
   "source": [
    "targetDate.strftime('%Y-%m-%d')"
   ]
  },
  {
   "cell_type": "code",
   "execution_count": 16,
   "metadata": {
    "scrolled": true
   },
   "outputs": [
    {
     "ename": "TypeError",
     "evalue": "Cannot convert input [Index(['2018-09-05'], dtype='object')] of type <class 'pandas.core.indexes.base.Index'> to Timestamp",
     "output_type": "error",
     "traceback": [
      "\u001b[0;31m---------------------------------------------------------------------------\u001b[0m",
      "\u001b[0;31mTypeError\u001b[0m                                 Traceback (most recent call last)",
      "\u001b[0;32m~/anaconda3/envs/prophet/lib/python3.6/site-packages/pandas/core/indexes/datetimes.py\u001b[0m in \u001b[0;36mget_loc\u001b[0;34m(self, key, method, tolerance)\u001b[0m\n\u001b[1;32m   1612\u001b[0m         \u001b[0;32mtry\u001b[0m\u001b[0;34m:\u001b[0m\u001b[0;34m\u001b[0m\u001b[0m\n\u001b[0;32m-> 1613\u001b[0;31m             \u001b[0;32mreturn\u001b[0m \u001b[0mIndex\u001b[0m\u001b[0;34m.\u001b[0m\u001b[0mget_loc\u001b[0m\u001b[0;34m(\u001b[0m\u001b[0mself\u001b[0m\u001b[0;34m,\u001b[0m \u001b[0mkey\u001b[0m\u001b[0;34m,\u001b[0m \u001b[0mmethod\u001b[0m\u001b[0;34m,\u001b[0m \u001b[0mtolerance\u001b[0m\u001b[0;34m)\u001b[0m\u001b[0;34m\u001b[0m\u001b[0m\n\u001b[0m\u001b[1;32m   1614\u001b[0m         \u001b[0;32mexcept\u001b[0m \u001b[0;34m(\u001b[0m\u001b[0mKeyError\u001b[0m\u001b[0;34m,\u001b[0m \u001b[0mValueError\u001b[0m\u001b[0;34m,\u001b[0m \u001b[0mTypeError\u001b[0m\u001b[0;34m)\u001b[0m\u001b[0;34m:\u001b[0m\u001b[0;34m\u001b[0m\u001b[0m\n",
      "\u001b[0;32m~/anaconda3/envs/prophet/lib/python3.6/site-packages/pandas/core/indexes/base.py\u001b[0m in \u001b[0;36mget_loc\u001b[0;34m(self, key, method, tolerance)\u001b[0m\n\u001b[1;32m   3077\u001b[0m             \u001b[0;32mtry\u001b[0m\u001b[0;34m:\u001b[0m\u001b[0;34m\u001b[0m\u001b[0m\n\u001b[0;32m-> 3078\u001b[0;31m                 \u001b[0;32mreturn\u001b[0m \u001b[0mself\u001b[0m\u001b[0;34m.\u001b[0m\u001b[0m_engine\u001b[0m\u001b[0;34m.\u001b[0m\u001b[0mget_loc\u001b[0m\u001b[0;34m(\u001b[0m\u001b[0mkey\u001b[0m\u001b[0;34m)\u001b[0m\u001b[0;34m\u001b[0m\u001b[0m\n\u001b[0m\u001b[1;32m   3079\u001b[0m             \u001b[0;32mexcept\u001b[0m \u001b[0mKeyError\u001b[0m\u001b[0;34m:\u001b[0m\u001b[0;34m\u001b[0m\u001b[0m\n",
      "\u001b[0;32mpandas/_libs/index.pyx\u001b[0m in \u001b[0;36mpandas._libs.index.DatetimeEngine.get_loc\u001b[0;34m()\u001b[0m\n",
      "\u001b[0;32mpandas/_libs/index.pyx\u001b[0m in \u001b[0;36mpandas._libs.index.DatetimeEngine.get_loc\u001b[0;34m()\u001b[0m\n",
      "\u001b[0;31mTypeError\u001b[0m: ",
      "\nDuring handling of the above exception, another exception occurred:\n",
      "\u001b[0;31mTypeError\u001b[0m                                 Traceback (most recent call last)",
      "\u001b[0;32m<ipython-input-16-01fb33d9a903>\u001b[0m in \u001b[0;36m<module>\u001b[0;34m\u001b[0m\n\u001b[0;32m----> 1\u001b[0;31m \u001b[0mtest\u001b[0m\u001b[0;34m.\u001b[0m\u001b[0mloc\u001b[0m\u001b[0;34m[\u001b[0m\u001b[0;34m'2014-01-01'\u001b[0m\u001b[0;34m:\u001b[0m\u001b[0mtargetDate\u001b[0m\u001b[0;34m.\u001b[0m\u001b[0mstrftime\u001b[0m\u001b[0;34m(\u001b[0m\u001b[0;34m'%Y-%m-%d'\u001b[0m\u001b[0;34m)\u001b[0m\u001b[0;34m]\u001b[0m\u001b[0;34m\u001b[0m\u001b[0m\n\u001b[0m",
      "\u001b[0;32m~/anaconda3/envs/prophet/lib/python3.6/site-packages/pandas/core/indexing.py\u001b[0m in \u001b[0;36m__getitem__\u001b[0;34m(self, key)\u001b[0m\n\u001b[1;32m   1476\u001b[0m \u001b[0;34m\u001b[0m\u001b[0m\n\u001b[1;32m   1477\u001b[0m             \u001b[0mmaybe_callable\u001b[0m \u001b[0;34m=\u001b[0m \u001b[0mcom\u001b[0m\u001b[0;34m.\u001b[0m\u001b[0m_apply_if_callable\u001b[0m\u001b[0;34m(\u001b[0m\u001b[0mkey\u001b[0m\u001b[0;34m,\u001b[0m \u001b[0mself\u001b[0m\u001b[0;34m.\u001b[0m\u001b[0mobj\u001b[0m\u001b[0;34m)\u001b[0m\u001b[0;34m\u001b[0m\u001b[0m\n\u001b[0;32m-> 1478\u001b[0;31m             \u001b[0;32mreturn\u001b[0m \u001b[0mself\u001b[0m\u001b[0;34m.\u001b[0m\u001b[0m_getitem_axis\u001b[0m\u001b[0;34m(\u001b[0m\u001b[0mmaybe_callable\u001b[0m\u001b[0;34m,\u001b[0m \u001b[0maxis\u001b[0m\u001b[0;34m=\u001b[0m\u001b[0maxis\u001b[0m\u001b[0;34m)\u001b[0m\u001b[0;34m\u001b[0m\u001b[0m\n\u001b[0m\u001b[1;32m   1479\u001b[0m \u001b[0;34m\u001b[0m\u001b[0m\n\u001b[1;32m   1480\u001b[0m     \u001b[0;32mdef\u001b[0m \u001b[0m_is_scalar_access\u001b[0m\u001b[0;34m(\u001b[0m\u001b[0mself\u001b[0m\u001b[0;34m,\u001b[0m \u001b[0mkey\u001b[0m\u001b[0;34m)\u001b[0m\u001b[0;34m:\u001b[0m\u001b[0;34m\u001b[0m\u001b[0m\n",
      "\u001b[0;32m~/anaconda3/envs/prophet/lib/python3.6/site-packages/pandas/core/indexing.py\u001b[0m in \u001b[0;36m_getitem_axis\u001b[0;34m(self, key, axis)\u001b[0m\n\u001b[1;32m   1864\u001b[0m         \u001b[0;32mif\u001b[0m \u001b[0misinstance\u001b[0m\u001b[0;34m(\u001b[0m\u001b[0mkey\u001b[0m\u001b[0;34m,\u001b[0m \u001b[0mslice\u001b[0m\u001b[0;34m)\u001b[0m\u001b[0;34m:\u001b[0m\u001b[0;34m\u001b[0m\u001b[0m\n\u001b[1;32m   1865\u001b[0m             \u001b[0mself\u001b[0m\u001b[0;34m.\u001b[0m\u001b[0m_validate_key\u001b[0m\u001b[0;34m(\u001b[0m\u001b[0mkey\u001b[0m\u001b[0;34m,\u001b[0m \u001b[0maxis\u001b[0m\u001b[0;34m)\u001b[0m\u001b[0;34m\u001b[0m\u001b[0m\n\u001b[0;32m-> 1866\u001b[0;31m             \u001b[0;32mreturn\u001b[0m \u001b[0mself\u001b[0m\u001b[0;34m.\u001b[0m\u001b[0m_get_slice_axis\u001b[0m\u001b[0;34m(\u001b[0m\u001b[0mkey\u001b[0m\u001b[0;34m,\u001b[0m \u001b[0maxis\u001b[0m\u001b[0;34m=\u001b[0m\u001b[0maxis\u001b[0m\u001b[0;34m)\u001b[0m\u001b[0;34m\u001b[0m\u001b[0m\n\u001b[0m\u001b[1;32m   1867\u001b[0m         \u001b[0;32melif\u001b[0m \u001b[0mcom\u001b[0m\u001b[0;34m.\u001b[0m\u001b[0mis_bool_indexer\u001b[0m\u001b[0;34m(\u001b[0m\u001b[0mkey\u001b[0m\u001b[0;34m)\u001b[0m\u001b[0;34m:\u001b[0m\u001b[0;34m\u001b[0m\u001b[0m\n\u001b[1;32m   1868\u001b[0m             \u001b[0;32mreturn\u001b[0m \u001b[0mself\u001b[0m\u001b[0;34m.\u001b[0m\u001b[0m_getbool_axis\u001b[0m\u001b[0;34m(\u001b[0m\u001b[0mkey\u001b[0m\u001b[0;34m,\u001b[0m \u001b[0maxis\u001b[0m\u001b[0;34m=\u001b[0m\u001b[0maxis\u001b[0m\u001b[0;34m)\u001b[0m\u001b[0;34m\u001b[0m\u001b[0m\n",
      "\u001b[0;32m~/anaconda3/envs/prophet/lib/python3.6/site-packages/pandas/core/indexing.py\u001b[0m in \u001b[0;36m_get_slice_axis\u001b[0;34m(self, slice_obj, axis)\u001b[0m\n\u001b[1;32m   1509\u001b[0m         \u001b[0mlabels\u001b[0m \u001b[0;34m=\u001b[0m \u001b[0mobj\u001b[0m\u001b[0;34m.\u001b[0m\u001b[0m_get_axis\u001b[0m\u001b[0;34m(\u001b[0m\u001b[0maxis\u001b[0m\u001b[0;34m)\u001b[0m\u001b[0;34m\u001b[0m\u001b[0m\n\u001b[1;32m   1510\u001b[0m         indexer = labels.slice_indexer(slice_obj.start, slice_obj.stop,\n\u001b[0;32m-> 1511\u001b[0;31m                                        slice_obj.step, kind=self.name)\n\u001b[0m\u001b[1;32m   1512\u001b[0m \u001b[0;34m\u001b[0m\u001b[0m\n\u001b[1;32m   1513\u001b[0m         \u001b[0;32mif\u001b[0m \u001b[0misinstance\u001b[0m\u001b[0;34m(\u001b[0m\u001b[0mindexer\u001b[0m\u001b[0;34m,\u001b[0m \u001b[0mslice\u001b[0m\u001b[0;34m)\u001b[0m\u001b[0;34m:\u001b[0m\u001b[0;34m\u001b[0m\u001b[0m\n",
      "\u001b[0;32m~/anaconda3/envs/prophet/lib/python3.6/site-packages/pandas/core/indexes/datetimes.py\u001b[0m in \u001b[0;36mslice_indexer\u001b[0;34m(self, start, end, step, kind)\u001b[0m\n\u001b[1;32m   1704\u001b[0m \u001b[0;34m\u001b[0m\u001b[0m\n\u001b[1;32m   1705\u001b[0m         \u001b[0;32mtry\u001b[0m\u001b[0;34m:\u001b[0m\u001b[0;34m\u001b[0m\u001b[0m\n\u001b[0;32m-> 1706\u001b[0;31m             \u001b[0;32mreturn\u001b[0m \u001b[0mIndex\u001b[0m\u001b[0;34m.\u001b[0m\u001b[0mslice_indexer\u001b[0m\u001b[0;34m(\u001b[0m\u001b[0mself\u001b[0m\u001b[0;34m,\u001b[0m \u001b[0mstart\u001b[0m\u001b[0;34m,\u001b[0m \u001b[0mend\u001b[0m\u001b[0;34m,\u001b[0m \u001b[0mstep\u001b[0m\u001b[0;34m,\u001b[0m \u001b[0mkind\u001b[0m\u001b[0;34m=\u001b[0m\u001b[0mkind\u001b[0m\u001b[0;34m)\u001b[0m\u001b[0;34m\u001b[0m\u001b[0m\n\u001b[0m\u001b[1;32m   1707\u001b[0m         \u001b[0;32mexcept\u001b[0m \u001b[0mKeyError\u001b[0m\u001b[0;34m:\u001b[0m\u001b[0;34m\u001b[0m\u001b[0m\n\u001b[1;32m   1708\u001b[0m             \u001b[0;31m# For historical reasons DatetimeIndex by default supports\u001b[0m\u001b[0;34m\u001b[0m\u001b[0;34m\u001b[0m\u001b[0m\n",
      "\u001b[0;32m~/anaconda3/envs/prophet/lib/python3.6/site-packages/pandas/core/indexes/base.py\u001b[0m in \u001b[0;36mslice_indexer\u001b[0;34m(self, start, end, step, kind)\u001b[0m\n\u001b[1;32m   4105\u001b[0m         \"\"\"\n\u001b[1;32m   4106\u001b[0m         start_slice, end_slice = self.slice_locs(start, end, step=step,\n\u001b[0;32m-> 4107\u001b[0;31m                                                  kind=kind)\n\u001b[0m\u001b[1;32m   4108\u001b[0m \u001b[0;34m\u001b[0m\u001b[0m\n\u001b[1;32m   4109\u001b[0m         \u001b[0;31m# return a slice\u001b[0m\u001b[0;34m\u001b[0m\u001b[0;34m\u001b[0m\u001b[0m\n",
      "\u001b[0;32m~/anaconda3/envs/prophet/lib/python3.6/site-packages/pandas/core/indexes/base.py\u001b[0m in \u001b[0;36mslice_locs\u001b[0;34m(self, start, end, step, kind)\u001b[0m\n\u001b[1;32m   4312\u001b[0m         \u001b[0mend_slice\u001b[0m \u001b[0;34m=\u001b[0m \u001b[0;32mNone\u001b[0m\u001b[0;34m\u001b[0m\u001b[0m\n\u001b[1;32m   4313\u001b[0m         \u001b[0;32mif\u001b[0m \u001b[0mend\u001b[0m \u001b[0;32mis\u001b[0m \u001b[0;32mnot\u001b[0m \u001b[0;32mNone\u001b[0m\u001b[0;34m:\u001b[0m\u001b[0;34m\u001b[0m\u001b[0m\n\u001b[0;32m-> 4314\u001b[0;31m             \u001b[0mend_slice\u001b[0m \u001b[0;34m=\u001b[0m \u001b[0mself\u001b[0m\u001b[0;34m.\u001b[0m\u001b[0mget_slice_bound\u001b[0m\u001b[0;34m(\u001b[0m\u001b[0mend\u001b[0m\u001b[0;34m,\u001b[0m \u001b[0;34m'right'\u001b[0m\u001b[0;34m,\u001b[0m \u001b[0mkind\u001b[0m\u001b[0;34m)\u001b[0m\u001b[0;34m\u001b[0m\u001b[0m\n\u001b[0m\u001b[1;32m   4315\u001b[0m         \u001b[0;32mif\u001b[0m \u001b[0mend_slice\u001b[0m \u001b[0;32mis\u001b[0m \u001b[0;32mNone\u001b[0m\u001b[0;34m:\u001b[0m\u001b[0;34m\u001b[0m\u001b[0m\n\u001b[1;32m   4316\u001b[0m             \u001b[0mend_slice\u001b[0m \u001b[0;34m=\u001b[0m \u001b[0mlen\u001b[0m\u001b[0;34m(\u001b[0m\u001b[0mself\u001b[0m\u001b[0;34m)\u001b[0m\u001b[0;34m\u001b[0m\u001b[0m\n",
      "\u001b[0;32m~/anaconda3/envs/prophet/lib/python3.6/site-packages/pandas/core/indexes/base.py\u001b[0m in \u001b[0;36mget_slice_bound\u001b[0;34m(self, label, side, kind)\u001b[0m\n\u001b[1;32m   4236\u001b[0m         \u001b[0;31m# we need to look up the label\u001b[0m\u001b[0;34m\u001b[0m\u001b[0;34m\u001b[0m\u001b[0m\n\u001b[1;32m   4237\u001b[0m         \u001b[0;32mtry\u001b[0m\u001b[0;34m:\u001b[0m\u001b[0;34m\u001b[0m\u001b[0m\n\u001b[0;32m-> 4238\u001b[0;31m             \u001b[0mslc\u001b[0m \u001b[0;34m=\u001b[0m \u001b[0mself\u001b[0m\u001b[0;34m.\u001b[0m\u001b[0m_get_loc_only_exact_matches\u001b[0m\u001b[0;34m(\u001b[0m\u001b[0mlabel\u001b[0m\u001b[0;34m)\u001b[0m\u001b[0;34m\u001b[0m\u001b[0m\n\u001b[0m\u001b[1;32m   4239\u001b[0m         \u001b[0;32mexcept\u001b[0m \u001b[0mKeyError\u001b[0m \u001b[0;32mas\u001b[0m \u001b[0merr\u001b[0m\u001b[0;34m:\u001b[0m\u001b[0;34m\u001b[0m\u001b[0m\n\u001b[1;32m   4240\u001b[0m             \u001b[0;32mtry\u001b[0m\u001b[0;34m:\u001b[0m\u001b[0;34m\u001b[0m\u001b[0m\n",
      "\u001b[0;32m~/anaconda3/envs/prophet/lib/python3.6/site-packages/pandas/core/indexes/base.py\u001b[0m in \u001b[0;36m_get_loc_only_exact_matches\u001b[0;34m(self, key)\u001b[0m\n\u001b[1;32m   4205\u001b[0m         \u001b[0mget_slice_bound\u001b[0m\u001b[0;34m.\u001b[0m\u001b[0;34m\u001b[0m\u001b[0m\n\u001b[1;32m   4206\u001b[0m         \"\"\"\n\u001b[0;32m-> 4207\u001b[0;31m         \u001b[0;32mreturn\u001b[0m \u001b[0mself\u001b[0m\u001b[0;34m.\u001b[0m\u001b[0mget_loc\u001b[0m\u001b[0;34m(\u001b[0m\u001b[0mkey\u001b[0m\u001b[0;34m)\u001b[0m\u001b[0;34m\u001b[0m\u001b[0m\n\u001b[0m\u001b[1;32m   4208\u001b[0m \u001b[0;34m\u001b[0m\u001b[0m\n\u001b[1;32m   4209\u001b[0m     \u001b[0;32mdef\u001b[0m \u001b[0mget_slice_bound\u001b[0m\u001b[0;34m(\u001b[0m\u001b[0mself\u001b[0m\u001b[0;34m,\u001b[0m \u001b[0mlabel\u001b[0m\u001b[0;34m,\u001b[0m \u001b[0mside\u001b[0m\u001b[0;34m,\u001b[0m \u001b[0mkind\u001b[0m\u001b[0;34m)\u001b[0m\u001b[0;34m:\u001b[0m\u001b[0;34m\u001b[0m\u001b[0m\n",
      "\u001b[0;32m~/anaconda3/envs/prophet/lib/python3.6/site-packages/pandas/core/indexes/datetimes.py\u001b[0m in \u001b[0;36mget_loc\u001b[0;34m(self, key, method, tolerance)\u001b[0m\n\u001b[1;32m   1619\u001b[0m \u001b[0;34m\u001b[0m\u001b[0m\n\u001b[1;32m   1620\u001b[0m             \u001b[0;32mtry\u001b[0m\u001b[0;34m:\u001b[0m\u001b[0;34m\u001b[0m\u001b[0m\n\u001b[0;32m-> 1621\u001b[0;31m                 \u001b[0mstamp\u001b[0m \u001b[0;34m=\u001b[0m \u001b[0mTimestamp\u001b[0m\u001b[0;34m(\u001b[0m\u001b[0mkey\u001b[0m\u001b[0;34m,\u001b[0m \u001b[0mtz\u001b[0m\u001b[0;34m=\u001b[0m\u001b[0mself\u001b[0m\u001b[0;34m.\u001b[0m\u001b[0mtz\u001b[0m\u001b[0;34m)\u001b[0m\u001b[0;34m\u001b[0m\u001b[0m\n\u001b[0m\u001b[1;32m   1622\u001b[0m                 \u001b[0;32mreturn\u001b[0m \u001b[0mIndex\u001b[0m\u001b[0;34m.\u001b[0m\u001b[0mget_loc\u001b[0m\u001b[0;34m(\u001b[0m\u001b[0mself\u001b[0m\u001b[0;34m,\u001b[0m \u001b[0mstamp\u001b[0m\u001b[0;34m,\u001b[0m \u001b[0mmethod\u001b[0m\u001b[0;34m,\u001b[0m \u001b[0mtolerance\u001b[0m\u001b[0;34m)\u001b[0m\u001b[0;34m\u001b[0m\u001b[0m\n\u001b[1;32m   1623\u001b[0m             \u001b[0;32mexcept\u001b[0m \u001b[0mKeyError\u001b[0m\u001b[0;34m:\u001b[0m\u001b[0;34m\u001b[0m\u001b[0m\n",
      "\u001b[0;32mpandas/_libs/tslibs/timestamps.pyx\u001b[0m in \u001b[0;36mpandas._libs.tslibs.timestamps.Timestamp.__new__\u001b[0;34m()\u001b[0m\n",
      "\u001b[0;32mpandas/_libs/tslibs/conversion.pyx\u001b[0m in \u001b[0;36mpandas._libs.tslibs.conversion.convert_to_tsobject\u001b[0;34m()\u001b[0m\n",
      "\u001b[0;31mTypeError\u001b[0m: Cannot convert input [Index(['2018-09-05'], dtype='object')] of type <class 'pandas.core.indexes.base.Index'> to Timestamp"
     ]
    }
   ],
   "source": [
    "test.loc['2014-01-01':targetDate.strftime('%Y-%m-%d')]"
   ]
  },
  {
   "cell_type": "code",
   "execution_count": 47,
   "metadata": {},
   "outputs": [
    {
     "data": {
      "text/plain": [
       "Timestamp('2017-10-08 00:00:00')"
      ]
     },
     "execution_count": 47,
     "metadata": {},
     "output_type": "execute_result"
    }
   ],
   "source": [
    "pd.datetime(2018,1,6)-pd.DateOffset(90)"
   ]
  },
  {
   "cell_type": "code",
   "execution_count": 7,
   "metadata": {},
   "outputs": [
    {
     "data": {
      "text/plain": [
       "DatetimeIndex(['2018-09-05'], dtype='datetime64[ns]', freq=None)"
      ]
     },
     "execution_count": 7,
     "metadata": {},
     "output_type": "execute_result"
    }
   ],
   "source": [
    "targetDate = pd.DatetimeIndex(test.index.tolist()[-1:])-pd.DateOffset(90)\n",
    "targetDate"
   ]
  },
  {
   "cell_type": "code",
   "execution_count": 24,
   "metadata": {},
   "outputs": [
    {
     "data": {
      "text/plain": [
       "['2008-01-02',\n",
       " '2008-01-03',\n",
       " '2008-01-04',\n",
       " '2008-01-07',\n",
       " '2008-01-08',\n",
       " '2008-01-09',\n",
       " '2008-01-10',\n",
       " '2008-01-11',\n",
       " '2008-01-14',\n",
       " '2008-01-15',\n",
       " '2008-01-16',\n",
       " '2008-01-17',\n",
       " '2008-01-18',\n",
       " '2008-01-21',\n",
       " '2008-01-22',\n",
       " '2008-01-23',\n",
       " '2008-01-24',\n",
       " '2008-01-25',\n",
       " '2008-01-28',\n",
       " '2008-01-29',\n",
       " '2008-01-30',\n",
       " '2008-01-31',\n",
       " '2008-02-01',\n",
       " '2008-02-04',\n",
       " '2008-02-05',\n",
       " '2008-02-11',\n",
       " '2008-02-12',\n",
       " '2008-02-13',\n",
       " '2008-02-14',\n",
       " '2008-02-15',\n",
       " '2008-02-18',\n",
       " '2008-02-19',\n",
       " '2008-02-20',\n",
       " '2008-02-21',\n",
       " '2008-02-22',\n",
       " '2008-02-25',\n",
       " '2008-02-26',\n",
       " '2008-02-27',\n",
       " '2008-02-28',\n",
       " '2008-02-29',\n",
       " '2008-03-03',\n",
       " '2008-03-04',\n",
       " '2008-03-05',\n",
       " '2008-03-06',\n",
       " '2008-03-07',\n",
       " '2008-03-10',\n",
       " '2008-03-11',\n",
       " '2008-03-12',\n",
       " '2008-03-13',\n",
       " '2008-03-14',\n",
       " '2008-03-17',\n",
       " '2008-03-18',\n",
       " '2008-03-19',\n",
       " '2008-03-20',\n",
       " '2008-03-21',\n",
       " '2008-03-24',\n",
       " '2008-03-25',\n",
       " '2008-03-26',\n",
       " '2008-03-27',\n",
       " '2008-03-28',\n",
       " '2008-03-31',\n",
       " '2008-04-01',\n",
       " '2008-04-02',\n",
       " '2008-04-03',\n",
       " '2008-04-04',\n",
       " '2008-04-07',\n",
       " '2008-04-08',\n",
       " '2008-04-10',\n",
       " '2008-04-11',\n",
       " '2008-04-14',\n",
       " '2008-04-15',\n",
       " '2008-04-16',\n",
       " '2008-04-17',\n",
       " '2008-04-18',\n",
       " '2008-04-21',\n",
       " '2008-04-22',\n",
       " '2008-04-23',\n",
       " '2008-04-24',\n",
       " '2008-04-25',\n",
       " '2008-04-28',\n",
       " '2008-04-29',\n",
       " '2008-04-30',\n",
       " '2008-05-02',\n",
       " '2008-05-06',\n",
       " '2008-05-07',\n",
       " '2008-05-08',\n",
       " '2008-05-09',\n",
       " '2008-05-13',\n",
       " '2008-05-14',\n",
       " '2008-05-15',\n",
       " '2008-05-16',\n",
       " '2008-05-19',\n",
       " '2008-05-20',\n",
       " '2008-05-21',\n",
       " '2008-05-22',\n",
       " '2008-05-23',\n",
       " '2008-05-26',\n",
       " '2008-05-27',\n",
       " '2008-05-28',\n",
       " '2008-05-29',\n",
       " '2008-05-30',\n",
       " '2008-06-02',\n",
       " '2008-06-03',\n",
       " '2008-06-04',\n",
       " '2008-06-05',\n",
       " '2008-06-09',\n",
       " '2008-06-10',\n",
       " '2008-06-11',\n",
       " '2008-06-12',\n",
       " '2008-06-13',\n",
       " '2008-06-16',\n",
       " '2008-06-17',\n",
       " '2008-06-18',\n",
       " '2008-06-19',\n",
       " '2008-06-20',\n",
       " '2008-06-23',\n",
       " '2008-06-24',\n",
       " '2008-06-25',\n",
       " '2008-06-26',\n",
       " '2008-06-27',\n",
       " '2008-06-30',\n",
       " '2008-07-01',\n",
       " '2008-07-02',\n",
       " '2008-07-03',\n",
       " '2008-07-04',\n",
       " '2008-07-07',\n",
       " '2008-07-08',\n",
       " '2008-07-09',\n",
       " '2008-07-10',\n",
       " '2008-07-11',\n",
       " '2008-07-14',\n",
       " '2008-07-15',\n",
       " '2008-07-16',\n",
       " '2008-07-17',\n",
       " '2008-07-18',\n",
       " '2008-07-21',\n",
       " '2008-07-22',\n",
       " '2008-07-23',\n",
       " '2008-07-24',\n",
       " '2008-07-25',\n",
       " '2008-07-28',\n",
       " '2008-07-29',\n",
       " '2008-07-30',\n",
       " '2008-07-31',\n",
       " '2008-08-01',\n",
       " '2008-08-04',\n",
       " '2008-08-05',\n",
       " '2008-08-06',\n",
       " '2008-08-07',\n",
       " '2008-08-08',\n",
       " '2008-08-11',\n",
       " '2008-08-12',\n",
       " '2008-08-13',\n",
       " '2008-08-14',\n",
       " '2008-08-18',\n",
       " '2008-08-19',\n",
       " '2008-08-20',\n",
       " '2008-08-21',\n",
       " '2008-08-22',\n",
       " '2008-08-25',\n",
       " '2008-08-26',\n",
       " '2008-08-27',\n",
       " '2008-08-28',\n",
       " '2008-08-29',\n",
       " '2008-09-01',\n",
       " '2008-09-02',\n",
       " '2008-09-03',\n",
       " '2008-09-04',\n",
       " '2008-09-05',\n",
       " '2008-09-08',\n",
       " '2008-09-09',\n",
       " '2008-09-10',\n",
       " '2008-09-11',\n",
       " '2008-09-12',\n",
       " '2008-09-16',\n",
       " '2008-09-17',\n",
       " '2008-09-18',\n",
       " '2008-09-19',\n",
       " '2008-09-22',\n",
       " '2008-09-23',\n",
       " '2008-09-24',\n",
       " '2008-09-25',\n",
       " '2008-09-26',\n",
       " '2008-09-29',\n",
       " '2008-09-30',\n",
       " '2008-10-01',\n",
       " '2008-10-02',\n",
       " '2008-10-06',\n",
       " '2008-10-07',\n",
       " '2008-10-08',\n",
       " '2008-10-09',\n",
       " '2008-10-10',\n",
       " '2008-10-13',\n",
       " '2008-10-14',\n",
       " '2008-10-15',\n",
       " '2008-10-16',\n",
       " '2008-10-17',\n",
       " '2008-10-20',\n",
       " '2008-10-21',\n",
       " '2008-10-22',\n",
       " '2008-10-23',\n",
       " '2008-10-24',\n",
       " '2008-10-27',\n",
       " '2008-10-28',\n",
       " '2008-10-29',\n",
       " '2008-10-30',\n",
       " '2008-10-31',\n",
       " '2008-11-03',\n",
       " '2008-11-04',\n",
       " '2008-11-05',\n",
       " '2008-11-06',\n",
       " '2008-11-07',\n",
       " '2008-11-10',\n",
       " '2008-11-11',\n",
       " '2008-11-12',\n",
       " '2008-11-13',\n",
       " '2008-11-14',\n",
       " '2008-11-17',\n",
       " '2008-11-18',\n",
       " '2008-11-19',\n",
       " '2008-11-20',\n",
       " '2008-11-21',\n",
       " '2008-11-24',\n",
       " '2008-11-25',\n",
       " '2008-11-26',\n",
       " '2008-11-27',\n",
       " '2008-11-28',\n",
       " '2008-12-01',\n",
       " '2008-12-02',\n",
       " '2008-12-03',\n",
       " '2008-12-04',\n",
       " '2008-12-05',\n",
       " '2008-12-08',\n",
       " '2008-12-09',\n",
       " '2008-12-10',\n",
       " '2008-12-11',\n",
       " '2008-12-12',\n",
       " '2008-12-15',\n",
       " '2008-12-16',\n",
       " '2008-12-17',\n",
       " '2008-12-18',\n",
       " '2008-12-19',\n",
       " '2008-12-22',\n",
       " '2008-12-23',\n",
       " '2008-12-24',\n",
       " '2008-12-26',\n",
       " '2008-12-29',\n",
       " '2008-12-30',\n",
       " '2009-01-02',\n",
       " '2009-01-05',\n",
       " '2009-01-06',\n",
       " '2009-01-07',\n",
       " '2009-01-08',\n",
       " '2009-01-09',\n",
       " '2009-01-12',\n",
       " '2009-01-13',\n",
       " '2009-01-14',\n",
       " '2009-01-15',\n",
       " '2009-01-16',\n",
       " '2009-01-19',\n",
       " '2009-01-20',\n",
       " '2009-01-21',\n",
       " '2009-01-22',\n",
       " '2009-01-23',\n",
       " '2009-01-28',\n",
       " '2009-01-29',\n",
       " '2009-01-30',\n",
       " '2009-02-02',\n",
       " '2009-02-03',\n",
       " '2009-02-04',\n",
       " '2009-02-05',\n",
       " '2009-02-06',\n",
       " '2009-02-09',\n",
       " '2009-02-10',\n",
       " '2009-02-11',\n",
       " '2009-02-12',\n",
       " '2009-02-13',\n",
       " '2009-02-16',\n",
       " '2009-02-17',\n",
       " '2009-02-18',\n",
       " '2009-02-19',\n",
       " '2009-02-20',\n",
       " '2009-02-23',\n",
       " '2009-02-24',\n",
       " '2009-02-25',\n",
       " '2009-02-26',\n",
       " '2009-02-27',\n",
       " '2009-03-02',\n",
       " '2009-03-03',\n",
       " '2009-03-04',\n",
       " '2009-03-05',\n",
       " '2009-03-06',\n",
       " '2009-03-09',\n",
       " '2009-03-10',\n",
       " '2009-03-11',\n",
       " '2009-03-12',\n",
       " '2009-03-13',\n",
       " '2009-03-16',\n",
       " '2009-03-17',\n",
       " '2009-03-18',\n",
       " '2009-03-19',\n",
       " '2009-03-20',\n",
       " '2009-03-23',\n",
       " '2009-03-24',\n",
       " '2009-03-25',\n",
       " '2009-03-26',\n",
       " '2009-03-27',\n",
       " '2009-03-30',\n",
       " '2009-03-31',\n",
       " '2009-04-01',\n",
       " '2009-04-02',\n",
       " '2009-04-03',\n",
       " '2009-04-06',\n",
       " '2009-04-07',\n",
       " '2009-04-08',\n",
       " '2009-04-09',\n",
       " '2009-04-10',\n",
       " '2009-04-13',\n",
       " '2009-04-14',\n",
       " '2009-04-15',\n",
       " '2009-04-16',\n",
       " '2009-04-17',\n",
       " '2009-04-20',\n",
       " '2009-04-21',\n",
       " '2009-04-22',\n",
       " '2009-04-23',\n",
       " '2009-04-24',\n",
       " '2009-04-27',\n",
       " '2009-04-28',\n",
       " '2009-04-29',\n",
       " '2009-04-30',\n",
       " '2009-05-04',\n",
       " '2009-05-06',\n",
       " '2009-05-07',\n",
       " '2009-05-08',\n",
       " '2009-05-11',\n",
       " '2009-05-12',\n",
       " '2009-05-13',\n",
       " '2009-05-14',\n",
       " '2009-05-15',\n",
       " '2009-05-18',\n",
       " '2009-05-19',\n",
       " '2009-05-20',\n",
       " '2009-05-21',\n",
       " '2009-05-22',\n",
       " '2009-05-25',\n",
       " '2009-05-26',\n",
       " '2009-05-27',\n",
       " '2009-05-28',\n",
       " '2009-05-29',\n",
       " '2009-06-01',\n",
       " '2009-06-02',\n",
       " '2009-06-03',\n",
       " '2009-06-04',\n",
       " '2009-06-05',\n",
       " '2009-06-08',\n",
       " '2009-06-09',\n",
       " '2009-06-10',\n",
       " '2009-06-11',\n",
       " '2009-06-12',\n",
       " '2009-06-15',\n",
       " '2009-06-16',\n",
       " '2009-06-17',\n",
       " '2009-06-18',\n",
       " '2009-06-19',\n",
       " '2009-06-22',\n",
       " '2009-06-23',\n",
       " '2009-06-24',\n",
       " '2009-06-25',\n",
       " '2009-06-26',\n",
       " '2009-06-29',\n",
       " '2009-06-30',\n",
       " '2009-07-01',\n",
       " '2009-07-02',\n",
       " '2009-07-03',\n",
       " '2009-07-06',\n",
       " '2009-07-07',\n",
       " '2009-07-08',\n",
       " '2009-07-09',\n",
       " '2009-07-10',\n",
       " '2009-07-13',\n",
       " '2009-07-14',\n",
       " '2009-07-15',\n",
       " '2009-07-16',\n",
       " '2009-07-17',\n",
       " '2009-07-20',\n",
       " '2009-07-21',\n",
       " '2009-07-22',\n",
       " '2009-07-23',\n",
       " '2009-07-24',\n",
       " '2009-07-27',\n",
       " '2009-07-28',\n",
       " '2009-07-29',\n",
       " '2009-07-30',\n",
       " '2009-07-31',\n",
       " '2009-08-03',\n",
       " '2009-08-04',\n",
       " '2009-08-05',\n",
       " '2009-08-06',\n",
       " '2009-08-07',\n",
       " '2009-08-10',\n",
       " '2009-08-11',\n",
       " '2009-08-12',\n",
       " '2009-08-13',\n",
       " '2009-08-14',\n",
       " '2009-08-17',\n",
       " '2009-08-18',\n",
       " '2009-08-19',\n",
       " '2009-08-20',\n",
       " '2009-08-21',\n",
       " '2009-08-24',\n",
       " '2009-08-25',\n",
       " '2009-08-26',\n",
       " '2009-08-27',\n",
       " '2009-08-28',\n",
       " '2009-08-31',\n",
       " '2009-09-01',\n",
       " '2009-09-02',\n",
       " '2009-09-03',\n",
       " '2009-09-04',\n",
       " '2009-09-07',\n",
       " '2009-09-08',\n",
       " '2009-09-09',\n",
       " '2009-09-10',\n",
       " '2009-09-11',\n",
       " '2009-09-14',\n",
       " '2009-09-15',\n",
       " '2009-09-16',\n",
       " '2009-09-17',\n",
       " '2009-09-18',\n",
       " '2009-09-21',\n",
       " '2009-09-22',\n",
       " '2009-09-23',\n",
       " '2009-09-24',\n",
       " '2009-09-25',\n",
       " '2009-09-28',\n",
       " '2009-09-29',\n",
       " '2009-09-30',\n",
       " '2009-10-01',\n",
       " '2009-10-05',\n",
       " '2009-10-06',\n",
       " '2009-10-07',\n",
       " '2009-10-08',\n",
       " '2009-10-09',\n",
       " '2009-10-12',\n",
       " '2009-10-13',\n",
       " '2009-10-14',\n",
       " '2009-10-15',\n",
       " '2009-10-16',\n",
       " '2009-10-19',\n",
       " '2009-10-20',\n",
       " '2009-10-21',\n",
       " '2009-10-22',\n",
       " '2009-10-23',\n",
       " '2009-10-26',\n",
       " '2009-10-27',\n",
       " '2009-10-28',\n",
       " '2009-10-29',\n",
       " '2009-10-30',\n",
       " '2009-11-02',\n",
       " '2009-11-03',\n",
       " '2009-11-04',\n",
       " '2009-11-05',\n",
       " '2009-11-06',\n",
       " '2009-11-09',\n",
       " '2009-11-10',\n",
       " '2009-11-11',\n",
       " '2009-11-12',\n",
       " '2009-11-13',\n",
       " '2009-11-16',\n",
       " '2009-11-17',\n",
       " '2009-11-18',\n",
       " '2009-11-19',\n",
       " '2009-11-20',\n",
       " '2009-11-23',\n",
       " '2009-11-24',\n",
       " '2009-11-25',\n",
       " '2009-11-26',\n",
       " '2009-11-27',\n",
       " '2009-11-30',\n",
       " '2009-12-01',\n",
       " '2009-12-02',\n",
       " '2009-12-03',\n",
       " '2009-12-04',\n",
       " '2009-12-07',\n",
       " '2009-12-08',\n",
       " '2009-12-09',\n",
       " '2009-12-10',\n",
       " '2009-12-11',\n",
       " '2009-12-14',\n",
       " '2009-12-15',\n",
       " '2009-12-16',\n",
       " '2009-12-17',\n",
       " '2009-12-18',\n",
       " '2009-12-21',\n",
       " '2009-12-22',\n",
       " '2009-12-23',\n",
       " '2009-12-24',\n",
       " '2009-12-28',\n",
       " '2009-12-29',\n",
       " '2009-12-30',\n",
       " '2010-01-04',\n",
       " '2010-01-05',\n",
       " '2010-01-06',\n",
       " '2010-01-07',\n",
       " '2010-01-08',\n",
       " '2010-01-11',\n",
       " '2010-01-12',\n",
       " '2010-01-13',\n",
       " '2010-01-14',\n",
       " '2010-01-15',\n",
       " '2010-01-18',\n",
       " '2010-01-19',\n",
       " '2010-01-20',\n",
       " '2010-01-21',\n",
       " '2010-01-22',\n",
       " '2010-01-25',\n",
       " '2010-01-26',\n",
       " '2010-01-27',\n",
       " '2010-01-28',\n",
       " '2010-01-29',\n",
       " '2010-02-01',\n",
       " '2010-02-02',\n",
       " '2010-02-03',\n",
       " '2010-02-04',\n",
       " '2010-02-05',\n",
       " '2010-02-08',\n",
       " '2010-02-09',\n",
       " '2010-02-10',\n",
       " '2010-02-11',\n",
       " '2010-02-12',\n",
       " '2010-02-16',\n",
       " '2010-02-17',\n",
       " '2010-02-18',\n",
       " '2010-02-19',\n",
       " '2010-02-22',\n",
       " '2010-02-23',\n",
       " '2010-02-24',\n",
       " '2010-02-25',\n",
       " '2010-02-26',\n",
       " '2010-03-02',\n",
       " '2010-03-03',\n",
       " '2010-03-04',\n",
       " '2010-03-05',\n",
       " '2010-03-08',\n",
       " '2010-03-09',\n",
       " '2010-03-10',\n",
       " '2010-03-11',\n",
       " '2010-03-12',\n",
       " '2010-03-15',\n",
       " '2010-03-16',\n",
       " '2010-03-17',\n",
       " '2010-03-18',\n",
       " '2010-03-19',\n",
       " '2010-03-22',\n",
       " '2010-03-23',\n",
       " '2010-03-24',\n",
       " '2010-03-25',\n",
       " '2010-03-26',\n",
       " '2010-03-29',\n",
       " '2010-03-30',\n",
       " '2010-03-31',\n",
       " '2010-04-01',\n",
       " '2010-04-02',\n",
       " '2010-04-05',\n",
       " '2010-04-06',\n",
       " '2010-04-07',\n",
       " '2010-04-08',\n",
       " '2010-04-09',\n",
       " '2010-04-12',\n",
       " '2010-04-13',\n",
       " '2010-04-14',\n",
       " '2010-04-15',\n",
       " '2010-04-16',\n",
       " '2010-04-19',\n",
       " '2010-04-20',\n",
       " '2010-04-21',\n",
       " '2010-04-22',\n",
       " '2010-04-23',\n",
       " '2010-04-26',\n",
       " '2010-04-27',\n",
       " '2010-04-28',\n",
       " '2010-04-29',\n",
       " '2010-04-30',\n",
       " '2010-05-03',\n",
       " '2010-05-04',\n",
       " '2010-05-06',\n",
       " '2010-05-07',\n",
       " '2010-05-10',\n",
       " '2010-05-11',\n",
       " '2010-05-12',\n",
       " '2010-05-13',\n",
       " '2010-05-14',\n",
       " '2010-05-17',\n",
       " '2010-05-18',\n",
       " '2010-05-19',\n",
       " '2010-05-20',\n",
       " '2010-05-24',\n",
       " '2010-05-25',\n",
       " '2010-05-26',\n",
       " '2010-05-27',\n",
       " '2010-05-28',\n",
       " '2010-05-31',\n",
       " '2010-06-01',\n",
       " '2010-06-03',\n",
       " '2010-06-04',\n",
       " '2010-06-07',\n",
       " '2010-06-08',\n",
       " '2010-06-09',\n",
       " '2010-06-10',\n",
       " '2010-06-11',\n",
       " '2010-06-14',\n",
       " '2010-06-15',\n",
       " '2010-06-16',\n",
       " '2010-06-17',\n",
       " '2010-06-18',\n",
       " '2010-06-21',\n",
       " '2010-06-22',\n",
       " '2010-06-23',\n",
       " '2010-06-24',\n",
       " '2010-06-25',\n",
       " '2010-06-28',\n",
       " '2010-06-29',\n",
       " '2010-06-30',\n",
       " '2010-07-01',\n",
       " '2010-07-02',\n",
       " '2010-07-05',\n",
       " '2010-07-06',\n",
       " '2010-07-07',\n",
       " '2010-07-08',\n",
       " '2010-07-09',\n",
       " '2010-07-12',\n",
       " '2010-07-13',\n",
       " '2010-07-14',\n",
       " '2010-07-15',\n",
       " '2010-07-16',\n",
       " '2010-07-19',\n",
       " '2010-07-20',\n",
       " '2010-07-21',\n",
       " '2010-07-22',\n",
       " '2010-07-23',\n",
       " '2010-07-26',\n",
       " '2010-07-27',\n",
       " '2010-07-28',\n",
       " '2010-07-29',\n",
       " '2010-07-30',\n",
       " '2010-08-02',\n",
       " '2010-08-03',\n",
       " '2010-08-04',\n",
       " '2010-08-05',\n",
       " '2010-08-06',\n",
       " '2010-08-09',\n",
       " '2010-08-10',\n",
       " '2010-08-11',\n",
       " '2010-08-12',\n",
       " '2010-08-13',\n",
       " '2010-08-16',\n",
       " '2010-08-17',\n",
       " '2010-08-18',\n",
       " '2010-08-19',\n",
       " '2010-08-20',\n",
       " '2010-08-23',\n",
       " '2010-08-24',\n",
       " '2010-08-25',\n",
       " '2010-08-26',\n",
       " '2010-08-27',\n",
       " '2010-08-30',\n",
       " '2010-08-31',\n",
       " '2010-09-01',\n",
       " '2010-09-02',\n",
       " '2010-09-03',\n",
       " '2010-09-06',\n",
       " '2010-09-07',\n",
       " '2010-09-08',\n",
       " '2010-09-09',\n",
       " '2010-09-10',\n",
       " '2010-09-13',\n",
       " '2010-09-14',\n",
       " '2010-09-15',\n",
       " '2010-09-16',\n",
       " '2010-09-17',\n",
       " '2010-09-20',\n",
       " '2010-09-24',\n",
       " '2010-09-27',\n",
       " '2010-09-28',\n",
       " '2010-09-29',\n",
       " '2010-09-30',\n",
       " '2010-10-01',\n",
       " '2010-10-04',\n",
       " '2010-10-05',\n",
       " '2010-10-06',\n",
       " '2010-10-07',\n",
       " '2010-10-08',\n",
       " '2010-10-11',\n",
       " '2010-10-12',\n",
       " '2010-10-13',\n",
       " '2010-10-14',\n",
       " '2010-10-15',\n",
       " '2010-10-18',\n",
       " '2010-10-19',\n",
       " '2010-10-20',\n",
       " '2010-10-21',\n",
       " '2010-10-22',\n",
       " '2010-10-25',\n",
       " '2010-10-26',\n",
       " '2010-10-27',\n",
       " '2010-10-28',\n",
       " '2010-10-29',\n",
       " '2010-11-01',\n",
       " '2010-11-02',\n",
       " '2010-11-03',\n",
       " '2010-11-04',\n",
       " '2010-11-05',\n",
       " '2010-11-08',\n",
       " '2010-11-09',\n",
       " '2010-11-10',\n",
       " '2010-11-11',\n",
       " '2010-11-12',\n",
       " '2010-11-15',\n",
       " '2010-11-16',\n",
       " '2010-11-17',\n",
       " '2010-11-18',\n",
       " '2010-11-19',\n",
       " '2010-11-22',\n",
       " '2010-11-23',\n",
       " '2010-11-24',\n",
       " '2010-11-25',\n",
       " '2010-11-26',\n",
       " '2010-11-29',\n",
       " '2010-11-30',\n",
       " '2010-12-01',\n",
       " '2010-12-02',\n",
       " '2010-12-03',\n",
       " '2010-12-06',\n",
       " '2010-12-07',\n",
       " '2010-12-08',\n",
       " '2010-12-09',\n",
       " '2010-12-10',\n",
       " '2010-12-13',\n",
       " '2010-12-14',\n",
       " '2010-12-15',\n",
       " '2010-12-16',\n",
       " '2010-12-17',\n",
       " '2010-12-20',\n",
       " '2010-12-21',\n",
       " '2010-12-22',\n",
       " '2010-12-23',\n",
       " '2010-12-24',\n",
       " '2010-12-27',\n",
       " '2010-12-28',\n",
       " '2010-12-29',\n",
       " '2010-12-30',\n",
       " '2011-01-03',\n",
       " '2011-01-04',\n",
       " '2011-01-05',\n",
       " '2011-01-06',\n",
       " '2011-01-07',\n",
       " '2011-01-10',\n",
       " '2011-01-11',\n",
       " '2011-01-12',\n",
       " '2011-01-13',\n",
       " '2011-01-14',\n",
       " '2011-01-17',\n",
       " '2011-01-18',\n",
       " '2011-01-19',\n",
       " '2011-01-20',\n",
       " '2011-01-21',\n",
       " '2011-01-24',\n",
       " '2011-01-25',\n",
       " '2011-01-26',\n",
       " '2011-01-27',\n",
       " '2011-01-28',\n",
       " '2011-01-31',\n",
       " '2011-02-01',\n",
       " '2011-02-07',\n",
       " '2011-02-08',\n",
       " '2011-02-09',\n",
       " '2011-02-10',\n",
       " '2011-02-11',\n",
       " '2011-02-14',\n",
       " '2011-02-15',\n",
       " '2011-02-16',\n",
       " '2011-02-17',\n",
       " '2011-02-18',\n",
       " '2011-02-21',\n",
       " '2011-02-22',\n",
       " '2011-02-23',\n",
       " '2011-02-24',\n",
       " '2011-02-25',\n",
       " '2011-02-28',\n",
       " '2011-03-02',\n",
       " '2011-03-03',\n",
       " '2011-03-04',\n",
       " '2011-03-07',\n",
       " '2011-03-08',\n",
       " '2011-03-09',\n",
       " '2011-03-10',\n",
       " '2011-03-11',\n",
       " '2011-03-14',\n",
       " '2011-03-15',\n",
       " '2011-03-16',\n",
       " '2011-03-17',\n",
       " '2011-03-18',\n",
       " '2011-03-21',\n",
       " '2011-03-22',\n",
       " '2011-03-23',\n",
       " '2011-03-24',\n",
       " '2011-03-25',\n",
       " '2011-03-28',\n",
       " '2011-03-29',\n",
       " '2011-03-30',\n",
       " '2011-03-31',\n",
       " '2011-04-01',\n",
       " '2011-04-04',\n",
       " '2011-04-05',\n",
       " '2011-04-06',\n",
       " '2011-04-07',\n",
       " '2011-04-08',\n",
       " '2011-04-11',\n",
       " '2011-04-12',\n",
       " '2011-04-13',\n",
       " '2011-04-14',\n",
       " '2011-04-15',\n",
       " '2011-04-18',\n",
       " '2011-04-19',\n",
       " '2011-04-20',\n",
       " '2011-04-21',\n",
       " '2011-04-22',\n",
       " '2011-04-25',\n",
       " '2011-04-26',\n",
       " '2011-04-27',\n",
       " '2011-04-28',\n",
       " '2011-04-29',\n",
       " '2011-05-02',\n",
       " '2011-05-03',\n",
       " '2011-05-04',\n",
       " '2011-05-06',\n",
       " '2011-05-09',\n",
       " '2011-05-11',\n",
       " '2011-05-12',\n",
       " '2011-05-13',\n",
       " '2011-05-16',\n",
       " '2011-05-17',\n",
       " '2011-05-18',\n",
       " '2011-05-19',\n",
       " '2011-05-20',\n",
       " '2011-05-23',\n",
       " '2011-05-25',\n",
       " '2011-05-26',\n",
       " '2011-05-27',\n",
       " '2011-05-30',\n",
       " '2011-05-31',\n",
       " '2011-06-01',\n",
       " '2011-06-02',\n",
       " '2011-06-03',\n",
       " '2011-06-07',\n",
       " '2011-06-08',\n",
       " '2011-06-09',\n",
       " '2011-06-10',\n",
       " '2011-06-13',\n",
       " '2011-06-14',\n",
       " '2011-06-15',\n",
       " '2011-06-16',\n",
       " '2011-06-17',\n",
       " '2011-06-20',\n",
       " '2011-06-21',\n",
       " '2011-06-22',\n",
       " '2011-06-23',\n",
       " '2011-06-24',\n",
       " '2011-06-27',\n",
       " '2011-06-28',\n",
       " '2011-06-29',\n",
       " '2011-07-01',\n",
       " '2011-07-04',\n",
       " '2011-07-05',\n",
       " '2011-07-06',\n",
       " '2011-07-07',\n",
       " '2011-07-08',\n",
       " '2011-07-11',\n",
       " '2011-07-12',\n",
       " '2011-07-13',\n",
       " '2011-07-14',\n",
       " '2011-07-15',\n",
       " '2011-07-18',\n",
       " '2011-07-19',\n",
       " '2011-07-20',\n",
       " '2011-07-21',\n",
       " '2011-07-22',\n",
       " '2011-07-25',\n",
       " '2011-07-26',\n",
       " '2011-07-27',\n",
       " '2011-07-28',\n",
       " '2011-07-29',\n",
       " '2011-08-01',\n",
       " '2011-08-02',\n",
       " '2011-08-05',\n",
       " '2011-08-08',\n",
       " '2011-08-09',\n",
       " '2011-08-10',\n",
       " '2011-08-11',\n",
       " '2011-08-12',\n",
       " '2011-08-16',\n",
       " '2011-08-17',\n",
       " '2011-08-18',\n",
       " '2011-08-19',\n",
       " '2011-08-22',\n",
       " '2011-08-23',\n",
       " '2011-08-24',\n",
       " '2011-08-25',\n",
       " '2011-08-26',\n",
       " '2011-08-29',\n",
       " '2011-08-30',\n",
       " '2011-08-31',\n",
       " '2011-09-01',\n",
       " '2011-09-02',\n",
       " '2011-09-05',\n",
       " '2011-09-06',\n",
       " '2011-09-07',\n",
       " '2011-09-08',\n",
       " '2011-09-09',\n",
       " '2011-09-14',\n",
       " '2011-09-15',\n",
       " '2011-09-16',\n",
       " '2011-09-19',\n",
       " '2011-09-20',\n",
       " '2011-09-21',\n",
       " '2011-09-22',\n",
       " '2011-09-23',\n",
       " '2011-09-26',\n",
       " '2011-09-27',\n",
       " '2011-09-28',\n",
       " '2011-09-29',\n",
       " '2011-09-30',\n",
       " '2011-10-04',\n",
       " '2011-10-05',\n",
       " '2011-10-06',\n",
       " '2011-10-07',\n",
       " '2011-10-10',\n",
       " '2011-10-11',\n",
       " '2011-10-12',\n",
       " '2011-10-13',\n",
       " '2011-10-14',\n",
       " '2011-10-17',\n",
       " '2011-10-18',\n",
       " '2011-10-19',\n",
       " '2011-10-20',\n",
       " '2011-10-21',\n",
       " '2011-10-24',\n",
       " '2011-10-25',\n",
       " '2011-10-26',\n",
       " '2011-10-27',\n",
       " '2011-10-28',\n",
       " '2011-10-31',\n",
       " '2011-11-01',\n",
       " '2011-11-02',\n",
       " '2011-11-03',\n",
       " '2011-11-04',\n",
       " '2011-11-07',\n",
       " '2011-11-08',\n",
       " '2011-11-09',\n",
       " '2011-11-10',\n",
       " '2011-11-11',\n",
       " '2011-11-14',\n",
       " '2011-11-15',\n",
       " '2011-11-16',\n",
       " '2011-11-17',\n",
       " '2011-11-18',\n",
       " '2011-11-21',\n",
       " '2011-11-22',\n",
       " '2011-11-23',\n",
       " '2011-11-24',\n",
       " '2011-11-25',\n",
       " '2011-11-28',\n",
       " '2011-11-29',\n",
       " '2011-11-30',\n",
       " '2011-12-01',\n",
       " '2011-12-02',\n",
       " '2011-12-05',\n",
       " '2011-12-06',\n",
       " '2011-12-07',\n",
       " '2011-12-08',\n",
       " '2011-12-09',\n",
       " '2011-12-12',\n",
       " '2011-12-13',\n",
       " '2011-12-14',\n",
       " '2011-12-15',\n",
       " '2011-12-16',\n",
       " '2011-12-19',\n",
       " '2011-12-20',\n",
       " '2011-12-21',\n",
       " '2011-12-22',\n",
       " '2011-12-23',\n",
       " '2011-12-26',\n",
       " '2011-12-27',\n",
       " '2011-12-28',\n",
       " '2011-12-29',\n",
       " '2012-01-02',\n",
       " '2012-01-03',\n",
       " '2012-01-04',\n",
       " '2012-01-05',\n",
       " ...]"
      ]
     },
     "execution_count": 24,
     "metadata": {},
     "output_type": "execute_result"
    }
   ],
   "source": [
    "test.index.strftime('%Y-%m-%d').tolist()"
   ]
  },
  {
   "cell_type": "code",
   "execution_count": 120,
   "metadata": {},
   "outputs": [
    {
     "ename": "ValueError",
     "evalue": "Lengths must match to compare",
     "output_type": "error",
     "traceback": [
      "\u001b[0;31m---------------------------------------------------------------------------\u001b[0m",
      "\u001b[0;31mValueError\u001b[0m                                Traceback (most recent call last)",
      "\u001b[0;32m<ipython-input-120-90dc0c997ee1>\u001b[0m in \u001b[0;36m<module>\u001b[0;34m\u001b[0m\n\u001b[0;32m----> 1\u001b[0;31m \u001b[0mtest\u001b[0m\u001b[0;34m[\u001b[0m\u001b[0mtest\u001b[0m\u001b[0;34m.\u001b[0m\u001b[0mindex\u001b[0m \u001b[0;34m<\u001b[0m \u001b[0mtargetDate\u001b[0m\u001b[0;34m]\u001b[0m\u001b[0;34m\u001b[0m\u001b[0m\n\u001b[0m",
      "\u001b[0;32m~/anaconda3/envs/prophet/lib/python3.6/site-packages/pandas/core/indexes/datetimes.py\u001b[0m in \u001b[0;36mwrapper\u001b[0;34m(self, other)\u001b[0m\n\u001b[1;32m    136\u001b[0m                 \u001b[0mself\u001b[0m\u001b[0;34m.\u001b[0m\u001b[0m_assert_tzawareness_compat\u001b[0m\u001b[0;34m(\u001b[0m\u001b[0mother\u001b[0m\u001b[0;34m)\u001b[0m\u001b[0;34m\u001b[0m\u001b[0m\n\u001b[1;32m    137\u001b[0m \u001b[0;34m\u001b[0m\u001b[0m\n\u001b[0;32m--> 138\u001b[0;31m             \u001b[0mresult\u001b[0m \u001b[0;34m=\u001b[0m \u001b[0mfunc\u001b[0m\u001b[0;34m(\u001b[0m\u001b[0mnp\u001b[0m\u001b[0;34m.\u001b[0m\u001b[0masarray\u001b[0m\u001b[0;34m(\u001b[0m\u001b[0mother\u001b[0m\u001b[0;34m)\u001b[0m\u001b[0;34m)\u001b[0m\u001b[0;34m\u001b[0m\u001b[0m\n\u001b[0m\u001b[1;32m    139\u001b[0m             \u001b[0mresult\u001b[0m \u001b[0;34m=\u001b[0m \u001b[0mcom\u001b[0m\u001b[0;34m.\u001b[0m\u001b[0m_values_from_object\u001b[0m\u001b[0;34m(\u001b[0m\u001b[0mresult\u001b[0m\u001b[0;34m)\u001b[0m\u001b[0;34m\u001b[0m\u001b[0m\n\u001b[1;32m    140\u001b[0m \u001b[0;34m\u001b[0m\u001b[0m\n",
      "\u001b[0;32m~/anaconda3/envs/prophet/lib/python3.6/site-packages/pandas/core/indexes/base.py\u001b[0m in \u001b[0;36mcmp_method\u001b[0;34m(self, other)\u001b[0m\n\u001b[1;32m     91\u001b[0m         \u001b[0;32mif\u001b[0m \u001b[0misinstance\u001b[0m\u001b[0;34m(\u001b[0m\u001b[0mother\u001b[0m\u001b[0;34m,\u001b[0m \u001b[0;34m(\u001b[0m\u001b[0mnp\u001b[0m\u001b[0;34m.\u001b[0m\u001b[0mndarray\u001b[0m\u001b[0;34m,\u001b[0m \u001b[0mIndex\u001b[0m\u001b[0;34m,\u001b[0m \u001b[0mABCSeries\u001b[0m\u001b[0;34m)\u001b[0m\u001b[0;34m)\u001b[0m\u001b[0;34m:\u001b[0m\u001b[0;34m\u001b[0m\u001b[0m\n\u001b[1;32m     92\u001b[0m             \u001b[0;32mif\u001b[0m \u001b[0mother\u001b[0m\u001b[0;34m.\u001b[0m\u001b[0mndim\u001b[0m \u001b[0;34m>\u001b[0m \u001b[0;36m0\u001b[0m \u001b[0;32mand\u001b[0m \u001b[0mlen\u001b[0m\u001b[0;34m(\u001b[0m\u001b[0mself\u001b[0m\u001b[0;34m)\u001b[0m \u001b[0;34m!=\u001b[0m \u001b[0mlen\u001b[0m\u001b[0;34m(\u001b[0m\u001b[0mother\u001b[0m\u001b[0;34m)\u001b[0m\u001b[0;34m:\u001b[0m\u001b[0;34m\u001b[0m\u001b[0m\n\u001b[0;32m---> 93\u001b[0;31m                 \u001b[0;32mraise\u001b[0m \u001b[0mValueError\u001b[0m\u001b[0;34m(\u001b[0m\u001b[0;34m'Lengths must match to compare'\u001b[0m\u001b[0;34m)\u001b[0m\u001b[0;34m\u001b[0m\u001b[0m\n\u001b[0m\u001b[1;32m     94\u001b[0m \u001b[0;34m\u001b[0m\u001b[0m\n\u001b[1;32m     95\u001b[0m         \u001b[0;31m# we may need to directly compare underlying\u001b[0m\u001b[0;34m\u001b[0m\u001b[0;34m\u001b[0m\u001b[0m\n",
      "\u001b[0;31mValueError\u001b[0m: Lengths must match to compare"
     ]
    }
   ],
   "source": [
    "test[test.index < targetDate]"
   ]
  },
  {
   "cell_type": "code",
   "execution_count": 123,
   "metadata": {},
   "outputs": [
    {
     "data": {
      "text/plain": [
       "DatetimeIndex(['2008-01-02', '2008-01-03', '2008-01-04', '2008-01-07',\n",
       "               '2008-01-08', '2008-01-09', '2008-01-10', '2008-01-11',\n",
       "               '2008-01-14', '2008-01-15',\n",
       "               ...\n",
       "               '2018-11-21', '2018-11-22', '2018-11-23', '2018-11-26',\n",
       "               '2018-11-27', '2018-11-28', '2018-11-29', '2018-11-30',\n",
       "               '2018-12-03', '2018-12-04'],\n",
       "              dtype='datetime64[ns]', name='Date', length=2699, freq=None)"
      ]
     },
     "execution_count": 123,
     "metadata": {},
     "output_type": "execute_result"
    }
   ],
   "source": [
    "test.index"
   ]
  },
  {
   "cell_type": "code",
   "execution_count": 126,
   "metadata": {},
   "outputs": [
    {
     "ename": "ValueError",
     "evalue": "Lengths must match to compare",
     "output_type": "error",
     "traceback": [
      "\u001b[0;31m---------------------------------------------------------------------------\u001b[0m",
      "\u001b[0;31mValueError\u001b[0m                                Traceback (most recent call last)",
      "\u001b[0;32m<ipython-input-126-16ebe70036bf>\u001b[0m in \u001b[0;36m<module>\u001b[0;34m\u001b[0m\n\u001b[0;32m----> 1\u001b[0;31m \u001b[0mtest\u001b[0m\u001b[0;34m.\u001b[0m\u001b[0mindex\u001b[0m \u001b[0;34m<\u001b[0m \u001b[0mtargetDate\u001b[0m\u001b[0;34m\u001b[0m\u001b[0m\n\u001b[0m",
      "\u001b[0;32m~/anaconda3/envs/prophet/lib/python3.6/site-packages/pandas/core/indexes/datetimes.py\u001b[0m in \u001b[0;36mwrapper\u001b[0;34m(self, other)\u001b[0m\n\u001b[1;32m    136\u001b[0m                 \u001b[0mself\u001b[0m\u001b[0;34m.\u001b[0m\u001b[0m_assert_tzawareness_compat\u001b[0m\u001b[0;34m(\u001b[0m\u001b[0mother\u001b[0m\u001b[0;34m)\u001b[0m\u001b[0;34m\u001b[0m\u001b[0m\n\u001b[1;32m    137\u001b[0m \u001b[0;34m\u001b[0m\u001b[0m\n\u001b[0;32m--> 138\u001b[0;31m             \u001b[0mresult\u001b[0m \u001b[0;34m=\u001b[0m \u001b[0mfunc\u001b[0m\u001b[0;34m(\u001b[0m\u001b[0mnp\u001b[0m\u001b[0;34m.\u001b[0m\u001b[0masarray\u001b[0m\u001b[0;34m(\u001b[0m\u001b[0mother\u001b[0m\u001b[0;34m)\u001b[0m\u001b[0;34m)\u001b[0m\u001b[0;34m\u001b[0m\u001b[0m\n\u001b[0m\u001b[1;32m    139\u001b[0m             \u001b[0mresult\u001b[0m \u001b[0;34m=\u001b[0m \u001b[0mcom\u001b[0m\u001b[0;34m.\u001b[0m\u001b[0m_values_from_object\u001b[0m\u001b[0;34m(\u001b[0m\u001b[0mresult\u001b[0m\u001b[0;34m)\u001b[0m\u001b[0;34m\u001b[0m\u001b[0m\n\u001b[1;32m    140\u001b[0m \u001b[0;34m\u001b[0m\u001b[0m\n",
      "\u001b[0;32m~/anaconda3/envs/prophet/lib/python3.6/site-packages/pandas/core/indexes/base.py\u001b[0m in \u001b[0;36mcmp_method\u001b[0;34m(self, other)\u001b[0m\n\u001b[1;32m     91\u001b[0m         \u001b[0;32mif\u001b[0m \u001b[0misinstance\u001b[0m\u001b[0;34m(\u001b[0m\u001b[0mother\u001b[0m\u001b[0;34m,\u001b[0m \u001b[0;34m(\u001b[0m\u001b[0mnp\u001b[0m\u001b[0;34m.\u001b[0m\u001b[0mndarray\u001b[0m\u001b[0;34m,\u001b[0m \u001b[0mIndex\u001b[0m\u001b[0;34m,\u001b[0m \u001b[0mABCSeries\u001b[0m\u001b[0;34m)\u001b[0m\u001b[0;34m)\u001b[0m\u001b[0;34m:\u001b[0m\u001b[0;34m\u001b[0m\u001b[0m\n\u001b[1;32m     92\u001b[0m             \u001b[0;32mif\u001b[0m \u001b[0mother\u001b[0m\u001b[0;34m.\u001b[0m\u001b[0mndim\u001b[0m \u001b[0;34m>\u001b[0m \u001b[0;36m0\u001b[0m \u001b[0;32mand\u001b[0m \u001b[0mlen\u001b[0m\u001b[0;34m(\u001b[0m\u001b[0mself\u001b[0m\u001b[0;34m)\u001b[0m \u001b[0;34m!=\u001b[0m \u001b[0mlen\u001b[0m\u001b[0;34m(\u001b[0m\u001b[0mother\u001b[0m\u001b[0;34m)\u001b[0m\u001b[0;34m:\u001b[0m\u001b[0;34m\u001b[0m\u001b[0m\n\u001b[0;32m---> 93\u001b[0;31m                 \u001b[0;32mraise\u001b[0m \u001b[0mValueError\u001b[0m\u001b[0;34m(\u001b[0m\u001b[0;34m'Lengths must match to compare'\u001b[0m\u001b[0;34m)\u001b[0m\u001b[0;34m\u001b[0m\u001b[0m\n\u001b[0m\u001b[1;32m     94\u001b[0m \u001b[0;34m\u001b[0m\u001b[0m\n\u001b[1;32m     95\u001b[0m         \u001b[0;31m# we may need to directly compare underlying\u001b[0m\u001b[0;34m\u001b[0m\u001b[0;34m\u001b[0m\u001b[0m\n",
      "\u001b[0;31mValueError\u001b[0m: Lengths must match to compare"
     ]
    }
   ],
   "source": [
    "test.index < targetDate"
   ]
  },
  {
   "cell_type": "code",
   "execution_count": 133,
   "metadata": {},
   "outputs": [
    {
     "ename": "AttributeError",
     "evalue": "'DataFrame' object has no attribute 'datetime'",
     "output_type": "error",
     "traceback": [
      "\u001b[0;31m---------------------------------------------------------------------------\u001b[0m",
      "\u001b[0;31mAttributeError\u001b[0m                            Traceback (most recent call last)",
      "\u001b[0;32m<ipython-input-133-58789df184ca>\u001b[0m in \u001b[0;36m<module>\u001b[0;34m\u001b[0m\n\u001b[0;32m----> 1\u001b[0;31m \u001b[0mtest\u001b[0m\u001b[0;34m.\u001b[0m\u001b[0mdatetime\u001b[0m\u001b[0;34m(\u001b[0m\u001b[0mtest\u001b[0m\u001b[0;34m[\u001b[0m\u001b[0;34m'Date'\u001b[0m\u001b[0;34m]\u001b[0m\u001b[0;34m,\u001b[0m \u001b[0mformat\u001b[0m\u001b[0;34m=\u001b[0m\u001b[0;34m'%Y-%m-%d'\u001b[0m\u001b[0;34m)\u001b[0m\u001b[0;34m\u001b[0m\u001b[0m\n\u001b[0m",
      "\u001b[0;32m~/anaconda3/envs/prophet/lib/python3.6/site-packages/pandas/core/generic.py\u001b[0m in \u001b[0;36m__getattr__\u001b[0;34m(self, name)\u001b[0m\n\u001b[1;32m   4374\u001b[0m             \u001b[0;32mif\u001b[0m \u001b[0mself\u001b[0m\u001b[0;34m.\u001b[0m\u001b[0m_info_axis\u001b[0m\u001b[0;34m.\u001b[0m\u001b[0m_can_hold_identifiers_and_holds_name\u001b[0m\u001b[0;34m(\u001b[0m\u001b[0mname\u001b[0m\u001b[0;34m)\u001b[0m\u001b[0;34m:\u001b[0m\u001b[0;34m\u001b[0m\u001b[0m\n\u001b[1;32m   4375\u001b[0m                 \u001b[0;32mreturn\u001b[0m \u001b[0mself\u001b[0m\u001b[0;34m[\u001b[0m\u001b[0mname\u001b[0m\u001b[0;34m]\u001b[0m\u001b[0;34m\u001b[0m\u001b[0m\n\u001b[0;32m-> 4376\u001b[0;31m             \u001b[0;32mreturn\u001b[0m \u001b[0mobject\u001b[0m\u001b[0;34m.\u001b[0m\u001b[0m__getattribute__\u001b[0m\u001b[0;34m(\u001b[0m\u001b[0mself\u001b[0m\u001b[0;34m,\u001b[0m \u001b[0mname\u001b[0m\u001b[0;34m)\u001b[0m\u001b[0;34m\u001b[0m\u001b[0m\n\u001b[0m\u001b[1;32m   4377\u001b[0m \u001b[0;34m\u001b[0m\u001b[0m\n\u001b[1;32m   4378\u001b[0m     \u001b[0;32mdef\u001b[0m \u001b[0m__setattr__\u001b[0m\u001b[0;34m(\u001b[0m\u001b[0mself\u001b[0m\u001b[0;34m,\u001b[0m \u001b[0mname\u001b[0m\u001b[0;34m,\u001b[0m \u001b[0mvalue\u001b[0m\u001b[0;34m)\u001b[0m\u001b[0;34m:\u001b[0m\u001b[0;34m\u001b[0m\u001b[0m\n",
      "\u001b[0;31mAttributeError\u001b[0m: 'DataFrame' object has no attribute 'datetime'"
     ]
    }
   ],
   "source": [
    "test.datetime(test['Date'], format='%Y-%m-%d')"
   ]
  },
  {
   "cell_type": "code",
   "execution_count": 132,
   "metadata": {},
   "outputs": [
    {
     "ename": "AttributeError",
     "evalue": "'DatetimeIndex' object has no attribute 'Date'",
     "output_type": "error",
     "traceback": [
      "\u001b[0;31m---------------------------------------------------------------------------\u001b[0m",
      "\u001b[0;31mAttributeError\u001b[0m                            Traceback (most recent call last)",
      "\u001b[0;32m<ipython-input-132-a78f2b9653a7>\u001b[0m in \u001b[0;36m<module>\u001b[0;34m\u001b[0m\n\u001b[0;32m----> 1\u001b[0;31m \u001b[0mtest\u001b[0m\u001b[0;34m.\u001b[0m\u001b[0mindex\u001b[0m\u001b[0;34m.\u001b[0m\u001b[0mtolist\u001b[0m\u001b[0;34m(\u001b[0m\u001b[0;34m)\u001b[0m\u001b[0;34m[\u001b[0m\u001b[0mtest\u001b[0m\u001b[0;34m.\u001b[0m\u001b[0mindex\u001b[0m\u001b[0;34m.\u001b[0m\u001b[0mDate\u001b[0m \u001b[0;34m<\u001b[0m \u001b[0mtargetDate\u001b[0m\u001b[0;34m]\u001b[0m\u001b[0;34m\u001b[0m\u001b[0m\n\u001b[0m",
      "\u001b[0;31mAttributeError\u001b[0m: 'DatetimeIndex' object has no attribute 'Date'"
     ]
    }
   ],
   "source": [
    "test.index.tolist()[test.index.Date < targetDate]"
   ]
  },
  {
   "cell_type": "code",
   "execution_count": 28,
   "metadata": {},
   "outputs": [
    {
     "ename": "KeyError",
     "evalue": "'Date'",
     "output_type": "error",
     "traceback": [
      "\u001b[0;31m---------------------------------------------------------------------------\u001b[0m",
      "\u001b[0;31mKeyError\u001b[0m                                  Traceback (most recent call last)",
      "\u001b[0;32m~/anaconda3/envs/prophet/lib/python3.6/site-packages/pandas/core/indexes/base.py\u001b[0m in \u001b[0;36mget_loc\u001b[0;34m(self, key, method, tolerance)\u001b[0m\n\u001b[1;32m   3077\u001b[0m             \u001b[0;32mtry\u001b[0m\u001b[0;34m:\u001b[0m\u001b[0;34m\u001b[0m\u001b[0m\n\u001b[0;32m-> 3078\u001b[0;31m                 \u001b[0;32mreturn\u001b[0m \u001b[0mself\u001b[0m\u001b[0;34m.\u001b[0m\u001b[0m_engine\u001b[0m\u001b[0;34m.\u001b[0m\u001b[0mget_loc\u001b[0m\u001b[0;34m(\u001b[0m\u001b[0mkey\u001b[0m\u001b[0;34m)\u001b[0m\u001b[0;34m\u001b[0m\u001b[0m\n\u001b[0m\u001b[1;32m   3079\u001b[0m             \u001b[0;32mexcept\u001b[0m \u001b[0mKeyError\u001b[0m\u001b[0;34m:\u001b[0m\u001b[0;34m\u001b[0m\u001b[0m\n",
      "\u001b[0;32mpandas/_libs/index.pyx\u001b[0m in \u001b[0;36mpandas._libs.index.IndexEngine.get_loc\u001b[0;34m()\u001b[0m\n",
      "\u001b[0;32mpandas/_libs/index.pyx\u001b[0m in \u001b[0;36mpandas._libs.index.IndexEngine.get_loc\u001b[0;34m()\u001b[0m\n",
      "\u001b[0;32mpandas/_libs/hashtable_class_helper.pxi\u001b[0m in \u001b[0;36mpandas._libs.hashtable.PyObjectHashTable.get_item\u001b[0;34m()\u001b[0m\n",
      "\u001b[0;32mpandas/_libs/hashtable_class_helper.pxi\u001b[0m in \u001b[0;36mpandas._libs.hashtable.PyObjectHashTable.get_item\u001b[0;34m()\u001b[0m\n",
      "\u001b[0;31mKeyError\u001b[0m: 'Date'",
      "\nDuring handling of the above exception, another exception occurred:\n",
      "\u001b[0;31mKeyError\u001b[0m                                  Traceback (most recent call last)",
      "\u001b[0;32m<ipython-input-28-66b1caed0764>\u001b[0m in \u001b[0;36m<module>\u001b[0;34m\u001b[0m\n\u001b[0;32m----> 1\u001b[0;31m \u001b[0mtest\u001b[0m\u001b[0;34m.\u001b[0m\u001b[0mset_index\u001b[0m\u001b[0;34m(\u001b[0m\u001b[0;34m'Date'\u001b[0m\u001b[0;34m)\u001b[0m\u001b[0;34m[\u001b[0m\u001b[0;34m'2019'\u001b[0m\u001b[0;34m:\u001b[0m\u001b[0;34m'2019'\u001b[0m\u001b[0;34m]\u001b[0m\u001b[0;34m\u001b[0m\u001b[0m\n\u001b[0m",
      "\u001b[0;32m~/anaconda3/envs/prophet/lib/python3.6/site-packages/pandas/core/frame.py\u001b[0m in \u001b[0;36mset_index\u001b[0;34m(self, keys, drop, append, inplace, verify_integrity)\u001b[0m\n\u001b[1;32m   3907\u001b[0m                 \u001b[0mnames\u001b[0m\u001b[0;34m.\u001b[0m\u001b[0mappend\u001b[0m\u001b[0;34m(\u001b[0m\u001b[0;32mNone\u001b[0m\u001b[0;34m)\u001b[0m\u001b[0;34m\u001b[0m\u001b[0m\n\u001b[1;32m   3908\u001b[0m             \u001b[0;32melse\u001b[0m\u001b[0;34m:\u001b[0m\u001b[0;34m\u001b[0m\u001b[0m\n\u001b[0;32m-> 3909\u001b[0;31m                 \u001b[0mlevel\u001b[0m \u001b[0;34m=\u001b[0m \u001b[0mframe\u001b[0m\u001b[0;34m[\u001b[0m\u001b[0mcol\u001b[0m\u001b[0;34m]\u001b[0m\u001b[0;34m.\u001b[0m\u001b[0m_values\u001b[0m\u001b[0;34m\u001b[0m\u001b[0m\n\u001b[0m\u001b[1;32m   3910\u001b[0m                 \u001b[0mnames\u001b[0m\u001b[0;34m.\u001b[0m\u001b[0mappend\u001b[0m\u001b[0;34m(\u001b[0m\u001b[0mcol\u001b[0m\u001b[0;34m)\u001b[0m\u001b[0;34m\u001b[0m\u001b[0m\n\u001b[1;32m   3911\u001b[0m                 \u001b[0;32mif\u001b[0m \u001b[0mdrop\u001b[0m\u001b[0;34m:\u001b[0m\u001b[0;34m\u001b[0m\u001b[0m\n",
      "\u001b[0;32m~/anaconda3/envs/prophet/lib/python3.6/site-packages/pandas/core/frame.py\u001b[0m in \u001b[0;36m__getitem__\u001b[0;34m(self, key)\u001b[0m\n\u001b[1;32m   2686\u001b[0m             \u001b[0;32mreturn\u001b[0m \u001b[0mself\u001b[0m\u001b[0;34m.\u001b[0m\u001b[0m_getitem_multilevel\u001b[0m\u001b[0;34m(\u001b[0m\u001b[0mkey\u001b[0m\u001b[0;34m)\u001b[0m\u001b[0;34m\u001b[0m\u001b[0m\n\u001b[1;32m   2687\u001b[0m         \u001b[0;32melse\u001b[0m\u001b[0;34m:\u001b[0m\u001b[0;34m\u001b[0m\u001b[0m\n\u001b[0;32m-> 2688\u001b[0;31m             \u001b[0;32mreturn\u001b[0m \u001b[0mself\u001b[0m\u001b[0;34m.\u001b[0m\u001b[0m_getitem_column\u001b[0m\u001b[0;34m(\u001b[0m\u001b[0mkey\u001b[0m\u001b[0;34m)\u001b[0m\u001b[0;34m\u001b[0m\u001b[0m\n\u001b[0m\u001b[1;32m   2689\u001b[0m \u001b[0;34m\u001b[0m\u001b[0m\n\u001b[1;32m   2690\u001b[0m     \u001b[0;32mdef\u001b[0m \u001b[0m_getitem_column\u001b[0m\u001b[0;34m(\u001b[0m\u001b[0mself\u001b[0m\u001b[0;34m,\u001b[0m \u001b[0mkey\u001b[0m\u001b[0;34m)\u001b[0m\u001b[0;34m:\u001b[0m\u001b[0;34m\u001b[0m\u001b[0m\n",
      "\u001b[0;32m~/anaconda3/envs/prophet/lib/python3.6/site-packages/pandas/core/frame.py\u001b[0m in \u001b[0;36m_getitem_column\u001b[0;34m(self, key)\u001b[0m\n\u001b[1;32m   2693\u001b[0m         \u001b[0;31m# get column\u001b[0m\u001b[0;34m\u001b[0m\u001b[0;34m\u001b[0m\u001b[0m\n\u001b[1;32m   2694\u001b[0m         \u001b[0;32mif\u001b[0m \u001b[0mself\u001b[0m\u001b[0;34m.\u001b[0m\u001b[0mcolumns\u001b[0m\u001b[0;34m.\u001b[0m\u001b[0mis_unique\u001b[0m\u001b[0;34m:\u001b[0m\u001b[0;34m\u001b[0m\u001b[0m\n\u001b[0;32m-> 2695\u001b[0;31m             \u001b[0;32mreturn\u001b[0m \u001b[0mself\u001b[0m\u001b[0;34m.\u001b[0m\u001b[0m_get_item_cache\u001b[0m\u001b[0;34m(\u001b[0m\u001b[0mkey\u001b[0m\u001b[0;34m)\u001b[0m\u001b[0;34m\u001b[0m\u001b[0m\n\u001b[0m\u001b[1;32m   2696\u001b[0m \u001b[0;34m\u001b[0m\u001b[0m\n\u001b[1;32m   2697\u001b[0m         \u001b[0;31m# duplicate columns & possible reduce dimensionality\u001b[0m\u001b[0;34m\u001b[0m\u001b[0;34m\u001b[0m\u001b[0m\n",
      "\u001b[0;32m~/anaconda3/envs/prophet/lib/python3.6/site-packages/pandas/core/generic.py\u001b[0m in \u001b[0;36m_get_item_cache\u001b[0;34m(self, item)\u001b[0m\n\u001b[1;32m   2487\u001b[0m         \u001b[0mres\u001b[0m \u001b[0;34m=\u001b[0m \u001b[0mcache\u001b[0m\u001b[0;34m.\u001b[0m\u001b[0mget\u001b[0m\u001b[0;34m(\u001b[0m\u001b[0mitem\u001b[0m\u001b[0;34m)\u001b[0m\u001b[0;34m\u001b[0m\u001b[0m\n\u001b[1;32m   2488\u001b[0m         \u001b[0;32mif\u001b[0m \u001b[0mres\u001b[0m \u001b[0;32mis\u001b[0m \u001b[0;32mNone\u001b[0m\u001b[0;34m:\u001b[0m\u001b[0;34m\u001b[0m\u001b[0m\n\u001b[0;32m-> 2489\u001b[0;31m             \u001b[0mvalues\u001b[0m \u001b[0;34m=\u001b[0m \u001b[0mself\u001b[0m\u001b[0;34m.\u001b[0m\u001b[0m_data\u001b[0m\u001b[0;34m.\u001b[0m\u001b[0mget\u001b[0m\u001b[0;34m(\u001b[0m\u001b[0mitem\u001b[0m\u001b[0;34m)\u001b[0m\u001b[0;34m\u001b[0m\u001b[0m\n\u001b[0m\u001b[1;32m   2490\u001b[0m             \u001b[0mres\u001b[0m \u001b[0;34m=\u001b[0m \u001b[0mself\u001b[0m\u001b[0;34m.\u001b[0m\u001b[0m_box_item_values\u001b[0m\u001b[0;34m(\u001b[0m\u001b[0mitem\u001b[0m\u001b[0;34m,\u001b[0m \u001b[0mvalues\u001b[0m\u001b[0;34m)\u001b[0m\u001b[0;34m\u001b[0m\u001b[0m\n\u001b[1;32m   2491\u001b[0m             \u001b[0mcache\u001b[0m\u001b[0;34m[\u001b[0m\u001b[0mitem\u001b[0m\u001b[0;34m]\u001b[0m \u001b[0;34m=\u001b[0m \u001b[0mres\u001b[0m\u001b[0;34m\u001b[0m\u001b[0m\n",
      "\u001b[0;32m~/anaconda3/envs/prophet/lib/python3.6/site-packages/pandas/core/internals.py\u001b[0m in \u001b[0;36mget\u001b[0;34m(self, item, fastpath)\u001b[0m\n\u001b[1;32m   4113\u001b[0m \u001b[0;34m\u001b[0m\u001b[0m\n\u001b[1;32m   4114\u001b[0m             \u001b[0;32mif\u001b[0m \u001b[0;32mnot\u001b[0m \u001b[0misna\u001b[0m\u001b[0;34m(\u001b[0m\u001b[0mitem\u001b[0m\u001b[0;34m)\u001b[0m\u001b[0;34m:\u001b[0m\u001b[0;34m\u001b[0m\u001b[0m\n\u001b[0;32m-> 4115\u001b[0;31m                 \u001b[0mloc\u001b[0m \u001b[0;34m=\u001b[0m \u001b[0mself\u001b[0m\u001b[0;34m.\u001b[0m\u001b[0mitems\u001b[0m\u001b[0;34m.\u001b[0m\u001b[0mget_loc\u001b[0m\u001b[0;34m(\u001b[0m\u001b[0mitem\u001b[0m\u001b[0;34m)\u001b[0m\u001b[0;34m\u001b[0m\u001b[0m\n\u001b[0m\u001b[1;32m   4116\u001b[0m             \u001b[0;32melse\u001b[0m\u001b[0;34m:\u001b[0m\u001b[0;34m\u001b[0m\u001b[0m\n\u001b[1;32m   4117\u001b[0m                 \u001b[0mindexer\u001b[0m \u001b[0;34m=\u001b[0m \u001b[0mnp\u001b[0m\u001b[0;34m.\u001b[0m\u001b[0marange\u001b[0m\u001b[0;34m(\u001b[0m\u001b[0mlen\u001b[0m\u001b[0;34m(\u001b[0m\u001b[0mself\u001b[0m\u001b[0;34m.\u001b[0m\u001b[0mitems\u001b[0m\u001b[0;34m)\u001b[0m\u001b[0;34m)\u001b[0m\u001b[0;34m[\u001b[0m\u001b[0misna\u001b[0m\u001b[0;34m(\u001b[0m\u001b[0mself\u001b[0m\u001b[0;34m.\u001b[0m\u001b[0mitems\u001b[0m\u001b[0;34m)\u001b[0m\u001b[0;34m]\u001b[0m\u001b[0;34m\u001b[0m\u001b[0m\n",
      "\u001b[0;32m~/anaconda3/envs/prophet/lib/python3.6/site-packages/pandas/core/indexes/base.py\u001b[0m in \u001b[0;36mget_loc\u001b[0;34m(self, key, method, tolerance)\u001b[0m\n\u001b[1;32m   3078\u001b[0m                 \u001b[0;32mreturn\u001b[0m \u001b[0mself\u001b[0m\u001b[0;34m.\u001b[0m\u001b[0m_engine\u001b[0m\u001b[0;34m.\u001b[0m\u001b[0mget_loc\u001b[0m\u001b[0;34m(\u001b[0m\u001b[0mkey\u001b[0m\u001b[0;34m)\u001b[0m\u001b[0;34m\u001b[0m\u001b[0m\n\u001b[1;32m   3079\u001b[0m             \u001b[0;32mexcept\u001b[0m \u001b[0mKeyError\u001b[0m\u001b[0;34m:\u001b[0m\u001b[0;34m\u001b[0m\u001b[0m\n\u001b[0;32m-> 3080\u001b[0;31m                 \u001b[0;32mreturn\u001b[0m \u001b[0mself\u001b[0m\u001b[0;34m.\u001b[0m\u001b[0m_engine\u001b[0m\u001b[0;34m.\u001b[0m\u001b[0mget_loc\u001b[0m\u001b[0;34m(\u001b[0m\u001b[0mself\u001b[0m\u001b[0;34m.\u001b[0m\u001b[0m_maybe_cast_indexer\u001b[0m\u001b[0;34m(\u001b[0m\u001b[0mkey\u001b[0m\u001b[0;34m)\u001b[0m\u001b[0;34m)\u001b[0m\u001b[0;34m\u001b[0m\u001b[0m\n\u001b[0m\u001b[1;32m   3081\u001b[0m \u001b[0;34m\u001b[0m\u001b[0m\n\u001b[1;32m   3082\u001b[0m         \u001b[0mindexer\u001b[0m \u001b[0;34m=\u001b[0m \u001b[0mself\u001b[0m\u001b[0;34m.\u001b[0m\u001b[0mget_indexer\u001b[0m\u001b[0;34m(\u001b[0m\u001b[0;34m[\u001b[0m\u001b[0mkey\u001b[0m\u001b[0;34m]\u001b[0m\u001b[0;34m,\u001b[0m \u001b[0mmethod\u001b[0m\u001b[0;34m=\u001b[0m\u001b[0mmethod\u001b[0m\u001b[0;34m,\u001b[0m \u001b[0mtolerance\u001b[0m\u001b[0;34m=\u001b[0m\u001b[0mtolerance\u001b[0m\u001b[0;34m)\u001b[0m\u001b[0;34m\u001b[0m\u001b[0m\n",
      "\u001b[0;32mpandas/_libs/index.pyx\u001b[0m in \u001b[0;36mpandas._libs.index.IndexEngine.get_loc\u001b[0;34m()\u001b[0m\n",
      "\u001b[0;32mpandas/_libs/index.pyx\u001b[0m in \u001b[0;36mpandas._libs.index.IndexEngine.get_loc\u001b[0;34m()\u001b[0m\n",
      "\u001b[0;32mpandas/_libs/hashtable_class_helper.pxi\u001b[0m in \u001b[0;36mpandas._libs.hashtable.PyObjectHashTable.get_item\u001b[0;34m()\u001b[0m\n",
      "\u001b[0;32mpandas/_libs/hashtable_class_helper.pxi\u001b[0m in \u001b[0;36mpandas._libs.hashtable.PyObjectHashTable.get_item\u001b[0;34m()\u001b[0m\n",
      "\u001b[0;31mKeyError\u001b[0m: 'Date'"
     ]
    }
   ],
   "source": [
    "test.set_index('Date')['2019':'2019']"
   ]
  },
  {
   "cell_type": "code",
   "execution_count": 131,
   "metadata": {},
   "outputs": [
    {
     "ename": "IndexError",
     "evalue": "only integers, slices (`:`), ellipsis (`...`), numpy.newaxis (`None`) and integer or boolean arrays are valid indices",
     "output_type": "error",
     "traceback": [
      "\u001b[0;31m---------------------------------------------------------------------------\u001b[0m",
      "\u001b[0;31mIndexError\u001b[0m                                Traceback (most recent call last)",
      "\u001b[0;32m<ipython-input-131-2667e0bcaf6f>\u001b[0m in \u001b[0;36m<module>\u001b[0;34m\u001b[0m\n\u001b[0;32m----> 1\u001b[0;31m \u001b[0mtest\u001b[0m\u001b[0;34m.\u001b[0m\u001b[0mindex\u001b[0m\u001b[0;34m[\u001b[0m\u001b[0;34m'2019'\u001b[0m\u001b[0;34m]\u001b[0m\u001b[0;34m\u001b[0m\u001b[0m\n\u001b[0m",
      "\u001b[0;32m~/anaconda3/envs/prophet/lib/python3.6/site-packages/pandas/core/indexes/datetimelike.py\u001b[0m in \u001b[0;36m__getitem__\u001b[0;34m(self, key)\u001b[0m\n\u001b[1;32m    395\u001b[0m         \u001b[0mis_int\u001b[0m \u001b[0;34m=\u001b[0m \u001b[0mis_integer\u001b[0m\u001b[0;34m(\u001b[0m\u001b[0mkey\u001b[0m\u001b[0;34m)\u001b[0m\u001b[0;34m\u001b[0m\u001b[0m\n\u001b[1;32m    396\u001b[0m         \u001b[0;32mif\u001b[0m \u001b[0mis_scalar\u001b[0m\u001b[0;34m(\u001b[0m\u001b[0mkey\u001b[0m\u001b[0;34m)\u001b[0m \u001b[0;32mand\u001b[0m \u001b[0;32mnot\u001b[0m \u001b[0mis_int\u001b[0m\u001b[0;34m:\u001b[0m\u001b[0;34m\u001b[0m\u001b[0m\n\u001b[0;32m--> 397\u001b[0;31m             raise IndexError(\"only integers, slices (`:`), ellipsis (`...`), \"\n\u001b[0m\u001b[1;32m    398\u001b[0m                              \u001b[0;34m\"numpy.newaxis (`None`) and integer or boolean \"\u001b[0m\u001b[0;34m\u001b[0m\u001b[0m\n\u001b[1;32m    399\u001b[0m                              \"arrays are valid indices\")\n",
      "\u001b[0;31mIndexError\u001b[0m: only integers, slices (`:`), ellipsis (`...`), numpy.newaxis (`None`) and integer or boolean arrays are valid indices"
     ]
    }
   ],
   "source": [
    "test.index['2019']"
   ]
  },
  {
   "cell_type": "code",
   "execution_count": 6,
   "metadata": {},
   "outputs": [
    {
     "data": {
      "text/plain": [
       "['2008-01-02',\n",
       " '2008-01-03',\n",
       " '2008-01-04',\n",
       " '2008-01-07',\n",
       " '2008-01-08',\n",
       " '2008-01-09',\n",
       " '2008-01-10',\n",
       " '2008-01-11',\n",
       " '2008-01-14',\n",
       " '2008-01-15']"
      ]
     },
     "execution_count": 6,
     "metadata": {},
     "output_type": "execute_result"
    }
   ],
   "source": [
    "test.index.strftime('%Y-%m-%d').tolist()[:10]"
   ]
  },
  {
   "cell_type": "code",
   "execution_count": 16,
   "metadata": {},
   "outputs": [
    {
     "data": {
      "text/plain": [
       "['2018-12-04']"
      ]
     },
     "execution_count": 16,
     "metadata": {},
     "output_type": "execute_result"
    }
   ],
   "source": [
    "test.index.strftime('%Y-%m-%d').tolist()[-1:]"
   ]
  },
  {
   "cell_type": "code",
   "execution_count": 7,
   "metadata": {},
   "outputs": [
    {
     "data": {
      "text/plain": [
       "['2008-01-02',\n",
       " '2008-01-03',\n",
       " '2008-01-04',\n",
       " '2008-01-07',\n",
       " '2008-01-08',\n",
       " '2008-01-09',\n",
       " '2008-01-10',\n",
       " '2008-01-11',\n",
       " '2008-01-14',\n",
       " '2008-01-15']"
      ]
     },
     "execution_count": 7,
     "metadata": {},
     "output_type": "execute_result"
    }
   ],
   "source": [
    "test.reset_index().Date.dt.strftime('%Y-%m-%d').tolist()[:10]"
   ]
  },
  {
   "cell_type": "code",
   "execution_count": 9,
   "metadata": {},
   "outputs": [
    {
     "data": {
      "text/plain": [
       "Date     datetime64[ns]\n",
       "Close           float64\n",
       "dtype: object"
      ]
     },
     "execution_count": 9,
     "metadata": {},
     "output_type": "execute_result"
    }
   ],
   "source": [
    "test.reset_index().dtypes"
   ]
  },
  {
   "cell_type": "code",
   "execution_count": 10,
   "metadata": {},
   "outputs": [
    {
     "data": {
      "text/plain": [
       "DatetimeIndex(['2008-01-02', '2008-01-03', '2008-01-04', '2008-01-07',\n",
       "               '2008-01-08', '2008-01-09', '2008-01-10', '2008-01-11',\n",
       "               '2008-01-14', '2008-01-15',\n",
       "               ...\n",
       "               '2018-11-21', '2018-11-22', '2018-11-23', '2018-11-26',\n",
       "               '2018-11-27', '2018-11-28', '2018-11-29', '2018-11-30',\n",
       "               '2018-12-03', '2018-12-04'],\n",
       "              dtype='datetime64[ns]', name='Date', length=2699, freq=None)"
      ]
     },
     "execution_count": 10,
     "metadata": {},
     "output_type": "execute_result"
    }
   ],
   "source": [
    "pd.to_datetime(test.index)"
   ]
  },
  {
   "cell_type": "code",
   "execution_count": 11,
   "metadata": {},
   "outputs": [
    {
     "data": {
      "text/plain": [
       "[Timestamp('2008-01-02 00:00:00'),\n",
       " Timestamp('2008-01-03 00:00:00'),\n",
       " Timestamp('2008-01-04 00:00:00'),\n",
       " Timestamp('2008-01-07 00:00:00'),\n",
       " Timestamp('2008-01-08 00:00:00'),\n",
       " Timestamp('2008-01-09 00:00:00'),\n",
       " Timestamp('2008-01-10 00:00:00'),\n",
       " Timestamp('2008-01-11 00:00:00'),\n",
       " Timestamp('2008-01-14 00:00:00'),\n",
       " Timestamp('2008-01-15 00:00:00')]"
      ]
     },
     "execution_count": 11,
     "metadata": {},
     "output_type": "execute_result"
    }
   ],
   "source": [
    "pd.to_datetime(test.index).tolist()[:10]"
   ]
  },
  {
   "cell_type": "markdown",
   "metadata": {},
   "source": [
    "### pd -> CSV file"
   ]
  },
  {
   "cell_type": "code",
   "execution_count": 12,
   "metadata": {},
   "outputs": [],
   "source": [
    "test.to_csv('test-csv.csv', header=False)"
   ]
  },
  {
   "cell_type": "code",
   "execution_count": 13,
   "metadata": {},
   "outputs": [],
   "source": [
    "test_new = test[['Close']].copy()"
   ]
  },
  {
   "cell_type": "code",
   "execution_count": 17,
   "metadata": {},
   "outputs": [
    {
     "data": {
      "text/plain": [
       "1453"
      ]
     },
     "execution_count": 17,
     "metadata": {},
     "output_type": "execute_result"
    }
   ],
   "source": [
    "len(test_new)"
   ]
  },
  {
   "cell_type": "markdown",
   "metadata": {},
   "source": [
    "### pd -> csv , select column"
   ]
  },
  {
   "cell_type": "code",
   "execution_count": 123,
   "metadata": {},
   "outputs": [],
   "source": [
    "# header = ['Close']\n",
    "test.to_csv('test-csv-close.csv', header=False, columns = ['Close'])"
   ]
  },
  {
   "cell_type": "markdown",
   "metadata": {},
   "source": [
    "### CSV"
   ]
  },
  {
   "cell_type": "code",
   "execution_count": 25,
   "metadata": {},
   "outputs": [
    {
     "name": "stdout",
     "output_type": "stream",
     "text": [
      "request data from 1000 to 2085, processing............................................................................................................................................................................................................................................................................................................................................................................................................................................................................................................................................................................................................................................................................................................................................................................................................................................................................................................................................................................................................................................................................................................................... extraction finished.\n",
      "log-extract-1000-2085.txt file saved!\n"
     ]
    }
   ],
   "source": [
    "# 10 year 'Close' , to csv\n",
    "\n",
    "def data_extract(n1, n2):\n",
    "    cnt = 0;log=[]\n",
    "    print('request data from {} to {}, processing..'.format(n1,n2),end='')\n",
    "    for i,v in tickers.items():\n",
    "        cnt+=1\n",
    "        if cnt > n1 and '마켓' in v:\n",
    "            ticker = i+'.'+v['마켓']\n",
    "            try:\n",
    "                df = pd.read_pickle('./data10y/{}'.format(ticker))\n",
    "                df.to_csv('./data10y_close_csv/{}.csv'.format(ticker), header=False, columns = ['Close'])\n",
    "                log.append((cnt,ticker,'plotted.',v['회사명']))\n",
    "                print('.',end='')\n",
    "            except Exception as e:\n",
    "                log.append((cnt,ticker,'failed.',e,v['회사명']))\n",
    "                print(cnt,ticker,'failed',e,v['회사명'])\n",
    "                pass\n",
    "        if cnt == n2 :\n",
    "            break\n",
    "    print(' extraction finished.')\n",
    "    filename = 'log-extract-{}-{}.txt'.format(n1,n2)\n",
    "    with open('./data10y_close_csv/'+filename, 'w') as f:\n",
    "        for i in log:\n",
    "            f.write(\"{}\\n\".format(i))\n",
    "        print(filename,'file saved!')\n",
    "data_extract(1000,2085)"
   ]
  },
  {
   "cell_type": "markdown",
   "metadata": {},
   "source": [
    "### Pickle"
   ]
  },
  {
   "cell_type": "code",
   "execution_count": 22,
   "metadata": {},
   "outputs": [
    {
     "name": "stdout",
     "output_type": "stream",
     "text": [
      "request data from 0 to 1000, processing...................................34 267270.KS failed [Errno 2] No such file or directory: './data10y/267270.KS' 현대건설기계\n",
      ".........................................................................................................................................................................204 099340.KS failed [Errno 2] No such file or directory: './data10y/099340.KS' 하나니켈1호\n",
      "205 099350.KS failed [Errno 2] No such file or directory: './data10y/099350.KS' 하나니켈2호\n",
      "..............220 096300.KS failed [Errno 2] No such file or directory: './data10y/096300.KS' 베트남개발1\n",
      "............................................................................................................................................................................................................................................................................................................................................................................................................................................................................................................................................................................777 001790.KS failed [Errno 2] No such file or directory: './data10y/001790.KS' 대한제당\n",
      "............................................................................................................................................................................................................................... extraction finished.\n",
      "log-extract-0-1000.txt file saved!\n"
     ]
    }
   ],
   "source": [
    "# 10 year 'Close' , to pickle\n",
    "\n",
    "def data_extract(n1, n2):\n",
    "    cnt = 0;log=[]\n",
    "    print('request data from {} to {}, processing..'.format(n1,n2),end='')\n",
    "    for i,v in tickers.items():\n",
    "        cnt+=1\n",
    "        if cnt > n1 and '마켓' in v:\n",
    "            ticker = i+'.'+v['마켓']\n",
    "            try:\n",
    "                df = pd.read_pickle('./data10y/{}'.format(ticker))\n",
    "                df_new = df[['Close']].copy()\n",
    "                df_new.to_pickle('./data10y_close_pickle/{}'.format(ticker))\n",
    "                log.append((cnt,ticker,'extracted.',v['회사명']))\n",
    "                print('.',end='')\n",
    "            except Exception as e:\n",
    "                log.append((cnt,ticker,'failed.',e,v['회사명']))\n",
    "                print(cnt,ticker,'failed',e,v['회사명'])\n",
    "                pass\n",
    "        if cnt == n2 :\n",
    "            break\n",
    "    print(' extraction finished.')\n",
    "    filename = 'log-extract-{}-{}.txt'.format(n1,n2)\n",
    "    with open('./data10y_close_pickle/'+filename, 'w') as f:\n",
    "        for i in log:\n",
    "            f.write(\"{}\\n\".format(i))\n",
    "        print(filename,'file saved!')\n",
    "data_extract(0,1000)"
   ]
  },
  {
   "cell_type": "markdown",
   "metadata": {},
   "source": [
    "### Pickle-2"
   ]
  },
  {
   "cell_type": "code",
   "execution_count": 3,
   "metadata": {},
   "outputs": [
    {
     "name": "stdout",
     "output_type": "stream",
     "text": [
      "request data from 0 to 2085, processing...................................34 267270.KS failed [Errno 2] No such file or directory: './data10y/267270.KS' 현대건설기계\n",
      ".........................................................................................................................................................................204 099340.KS failed [Errno 2] No such file or directory: './data10y/099340.KS' 하나니켈1호\n",
      "205 099350.KS failed [Errno 2] No such file or directory: './data10y/099350.KS' 하나니켈2호\n",
      "..............220 096300.KS failed [Errno 2] No such file or directory: './data10y/096300.KS' 베트남개발1\n",
      "............................................................................................................................................................................................................................................................................................................................................................................................................................................................................................................................................................................777 001790.KS failed [Errno 2] No such file or directory: './data10y/001790.KS' 대한제당\n",
      "............................................................................................................................................................................................................................................................................................................................................................................................................................................................................................................................................................................................................................................................................................................................................................................................................................................................................................................................................................................................................................................................................................................................................................................................................................................................................................................................................................ extraction finished.\n",
      "log-extract-0-2085.txt file saved!\n"
     ]
    }
   ],
   "source": [
    "# 10 year 'Close' , to pickle\n",
    "\n",
    "def data_extract(n1, n2):\n",
    "    cnt = 0;log=[]\n",
    "    print('request data from {} to {}, processing..'.format(n1,n2),end='')\n",
    "    for i,v in tickers.items():\n",
    "        cnt+=1\n",
    "        if cnt > n1 and '마켓' in v:\n",
    "            ticker = i+'.'+v['마켓']\n",
    "            try:\n",
    "                df = pd.read_pickle('./data10y/{}'.format(ticker))\n",
    "                df_new = df[['Close']].copy()\n",
    "                df_new.to_pickle('./data10y_close_pickle_2/{}'.format(i))\n",
    "                log.append((cnt,ticker,'extracted.',v['회사명']))\n",
    "                print('.',end='')\n",
    "            except Exception as e:\n",
    "                log.append((cnt,ticker,'failed.',e,v['회사명']))\n",
    "                print(cnt,ticker,'failed',e,v['회사명'])\n",
    "                pass\n",
    "        if cnt == n2 :\n",
    "            break\n",
    "    print(' extraction finished.')\n",
    "    filename = 'log-extract-{}-{}.txt'.format(n1,n2)\n",
    "    with open('./data10y_close_pickle_2/'+filename, 'w') as f:\n",
    "        for i in log:\n",
    "            f.write(\"{}\\n\".format(i))\n",
    "        print(filename,'file saved!')\n",
    "data_extract(0,2085)"
   ]
  }
 ],
 "metadata": {
  "kernelspec": {
   "display_name": "Python 3",
   "language": "python",
   "name": "python3"
  },
  "language_info": {
   "codemirror_mode": {
    "name": "ipython",
    "version": 3
   },
   "file_extension": ".py",
   "mimetype": "text/x-python",
   "name": "python",
   "nbconvert_exporter": "python",
   "pygments_lexer": "ipython3",
   "version": "3.6.6"
  }
 },
 "nbformat": 4,
 "nbformat_minor": 2
}
