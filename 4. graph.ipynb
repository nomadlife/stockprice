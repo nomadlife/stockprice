{
 "cells": [
  {
   "cell_type": "code",
   "execution_count": 1,
   "metadata": {},
   "outputs": [],
   "source": [
    "import pandas as pd\n",
    "import matplotlib\n",
    "#matplotlib.use('Agg')\n",
    "import matplotlib.pyplot as plt\n",
    "%matplotlib inline"
   ]
  },
  {
   "cell_type": "code",
   "execution_count": 2,
   "metadata": {},
   "outputs": [
    {
     "data": {
      "text/plain": [
       "2085"
      ]
     },
     "execution_count": 2,
     "metadata": {},
     "output_type": "execute_result"
    }
   ],
   "source": [
    "import json\n",
    "\n",
    "with open('krx_total_list.txt','r') as f:\n",
    "    tickers = json.loads(f.read())\n",
    "len(tickers)"
   ]
  },
  {
   "cell_type": "code",
   "execution_count": 3,
   "metadata": {},
   "outputs": [
    {
     "data": {
      "text/plain": [
       "2085"
      ]
     },
     "execution_count": 3,
     "metadata": {},
     "output_type": "execute_result"
    }
   ],
   "source": [
    "# check \n",
    "cnt = 0\n",
    "for i,v in tickers.items():\n",
    "    if '마켓' in v:\n",
    "        ticker = i+'.'+v['마켓']\n",
    "        cnt+=1\n",
    "cnt"
   ]
  },
  {
   "cell_type": "code",
   "execution_count": 63,
   "metadata": {},
   "outputs": [],
   "source": [
    "def check_data(n1, n2):\n",
    "    cnt = 0;log=[]\n",
    "    print('check from {} to {}, processing'.format(n1,n2),end='')\n",
    "    for i,v in tickers.items():\n",
    "        cnt+=1\n",
    "        if cnt > n1 and '마켓' in v:\n",
    "            ticker = i+'.'+v['마켓']\n",
    "            try:\n",
    "                history = pd.read_pickle('./data5y/{}-test'.format(ticker))\n",
    "                print(cnt,ticker,len(history),v['회사명'])\n",
    "            except Exception as e:\n",
    "                print(cnt,ticker,'failed',e,v['회사명'])\n",
    "                pass\n",
    "        if cnt == n2 :\n",
    "            break\n",
    "    print('check finished.')"
   ]
  },
  {
   "cell_type": "code",
   "execution_count": null,
   "metadata": {
    "scrolled": true
   },
   "outputs": [],
   "source": [
    "check_data(0,500)"
   ]
  },
  {
   "cell_type": "code",
   "execution_count": 25,
   "metadata": {},
   "outputs": [
    {
     "data": {
      "text/plain": [
       "'2 306200.KS 224 세아제강\\n3 293480.KS 224 하나제약\\n4 010400.KS 224 우진아이엔에스\\n5 293940.KS 224 신한알파리츠\\n6 300720.KS 224 한일시멘트\\n7 091810.KS 224 티웨이항공\\n8 286940.KS 224 롯데정보통신\\n9 298040.KS 224 효성중공업\\n10 298050.KS 224 효성첨단소재'"
      ]
     },
     "execution_count": 25,
     "metadata": {},
     "output_type": "execute_result"
    }
   ],
   "source": [
    "'''2 306200.KS 224 세아제강\n",
    "3 293480.KS 224 하나제약\n",
    "4 010400.KS 224 우진아이엔에스\n",
    "5 293940.KS 224 신한알파리츠\n",
    "6 300720.KS 224 한일시멘트\n",
    "7 091810.KS 224 티웨이항공\n",
    "8 286940.KS 224 롯데정보통신\n",
    "9 298040.KS 224 효성중공업\n",
    "10 298050.KS 224 효성첨단소재'''"
   ]
  },
  {
   "cell_type": "markdown",
   "metadata": {},
   "source": [
    "# Data extraction for chart.js"
   ]
  },
  {
   "cell_type": "code",
   "execution_count": 6,
   "metadata": {},
   "outputs": [
    {
     "data": {
      "text/plain": [
       "(1453, 6)"
      ]
     },
     "execution_count": 6,
     "metadata": {},
     "output_type": "execute_result"
    }
   ],
   "source": [
    "test = pd.read_pickle('./data5y/008500.KS-test')\n",
    "test.shape"
   ]
  },
  {
   "cell_type": "markdown",
   "metadata": {},
   "source": [
    "### pd -> CSV file"
   ]
  },
  {
   "cell_type": "code",
   "execution_count": 53,
   "metadata": {},
   "outputs": [],
   "source": [
    "test.to_csv('test-csv.csv', header=False)"
   ]
  },
  {
   "cell_type": "markdown",
   "metadata": {},
   "source": [
    "### pd -> csv , select column"
   ]
  },
  {
   "cell_type": "code",
   "execution_count": 123,
   "metadata": {},
   "outputs": [],
   "source": [
    "# header = ['Close']\n",
    "test.to_csv('test-csv-close.csv', header=False, columns = ['Close'])"
   ]
  },
  {
   "cell_type": "code",
   "execution_count": null,
   "metadata": {},
   "outputs": [],
   "source": []
  },
  {
   "cell_type": "markdown",
   "metadata": {},
   "source": [
    "### pd -> dict"
   ]
  },
  {
   "cell_type": "code",
   "execution_count": 27,
   "metadata": {},
   "outputs": [],
   "source": [
    "test_dict = test.to_dict('index')"
   ]
  },
  {
   "cell_type": "code",
   "execution_count": 52,
   "metadata": {},
   "outputs": [
    {
     "name": "stdout",
     "output_type": "stream",
     "text": [
      "2013-01-02 00:00:00 <class 'pandas._libs.tslibs.timestamps.Timestamp'>\n"
     ]
    }
   ],
   "source": [
    "for i in test_dict.keys():\n",
    "    print(i, type(i))\n",
    "    break"
   ]
  },
  {
   "cell_type": "code",
   "execution_count": null,
   "metadata": {},
   "outputs": [],
   "source": []
  },
  {
   "cell_type": "markdown",
   "metadata": {},
   "source": [
    "### from dict"
   ]
  },
  {
   "cell_type": "code",
   "execution_count": 56,
   "metadata": {},
   "outputs": [
    {
     "ename": "UnicodeDecodeError",
     "evalue": "'utf-8' codec can't decode byte 0x80 in position 0: invalid start byte",
     "output_type": "error",
     "traceback": [
      "\u001b[0;31m---------------------------------------------------------------------------\u001b[0m",
      "\u001b[0;31mUnicodeDecodeError\u001b[0m                        Traceback (most recent call last)",
      "\u001b[0;32m<ipython-input-56-0158253feb3b>\u001b[0m in \u001b[0;36m<module>\u001b[0;34m\u001b[0m\n\u001b[1;32m      1\u001b[0m \u001b[0;32mwith\u001b[0m \u001b[0mopen\u001b[0m\u001b[0;34m(\u001b[0m\u001b[0;34m'test_to_dict'\u001b[0m\u001b[0;34m,\u001b[0m\u001b[0;34m'r'\u001b[0m\u001b[0;34m)\u001b[0m \u001b[0;32mas\u001b[0m \u001b[0mf\u001b[0m\u001b[0;34m:\u001b[0m\u001b[0;34m\u001b[0m\u001b[0m\n\u001b[0;32m----> 2\u001b[0;31m     \u001b[0mtest2\u001b[0m \u001b[0;34m=\u001b[0m \u001b[0mjson\u001b[0m\u001b[0;34m.\u001b[0m\u001b[0mloads\u001b[0m\u001b[0;34m(\u001b[0m\u001b[0mf\u001b[0m\u001b[0;34m.\u001b[0m\u001b[0mread\u001b[0m\u001b[0;34m(\u001b[0m\u001b[0;34m)\u001b[0m\u001b[0;34m)\u001b[0m\u001b[0;34m\u001b[0m\u001b[0m\n\u001b[0m\u001b[1;32m      3\u001b[0m \u001b[0mlen\u001b[0m\u001b[0;34m(\u001b[0m\u001b[0mtest2\u001b[0m\u001b[0;34m)\u001b[0m\u001b[0;34m\u001b[0m\u001b[0m\n",
      "\u001b[0;32m~/anaconda3/envs/prophet/lib/python3.6/codecs.py\u001b[0m in \u001b[0;36mdecode\u001b[0;34m(self, input, final)\u001b[0m\n\u001b[1;32m    319\u001b[0m         \u001b[0;31m# decode input (taking the buffer into account)\u001b[0m\u001b[0;34m\u001b[0m\u001b[0;34m\u001b[0m\u001b[0m\n\u001b[1;32m    320\u001b[0m         \u001b[0mdata\u001b[0m \u001b[0;34m=\u001b[0m \u001b[0mself\u001b[0m\u001b[0;34m.\u001b[0m\u001b[0mbuffer\u001b[0m \u001b[0;34m+\u001b[0m \u001b[0minput\u001b[0m\u001b[0;34m\u001b[0m\u001b[0m\n\u001b[0;32m--> 321\u001b[0;31m         \u001b[0;34m(\u001b[0m\u001b[0mresult\u001b[0m\u001b[0;34m,\u001b[0m \u001b[0mconsumed\u001b[0m\u001b[0;34m)\u001b[0m \u001b[0;34m=\u001b[0m \u001b[0mself\u001b[0m\u001b[0;34m.\u001b[0m\u001b[0m_buffer_decode\u001b[0m\u001b[0;34m(\u001b[0m\u001b[0mdata\u001b[0m\u001b[0;34m,\u001b[0m \u001b[0mself\u001b[0m\u001b[0;34m.\u001b[0m\u001b[0merrors\u001b[0m\u001b[0;34m,\u001b[0m \u001b[0mfinal\u001b[0m\u001b[0;34m)\u001b[0m\u001b[0;34m\u001b[0m\u001b[0m\n\u001b[0m\u001b[1;32m    322\u001b[0m         \u001b[0;31m# keep undecoded input until the next call\u001b[0m\u001b[0;34m\u001b[0m\u001b[0;34m\u001b[0m\u001b[0m\n\u001b[1;32m    323\u001b[0m         \u001b[0mself\u001b[0m\u001b[0;34m.\u001b[0m\u001b[0mbuffer\u001b[0m \u001b[0;34m=\u001b[0m \u001b[0mdata\u001b[0m\u001b[0;34m[\u001b[0m\u001b[0mconsumed\u001b[0m\u001b[0;34m:\u001b[0m\u001b[0;34m]\u001b[0m\u001b[0;34m\u001b[0m\u001b[0m\n",
      "\u001b[0;31mUnicodeDecodeError\u001b[0m: 'utf-8' codec can't decode byte 0x80 in position 0: invalid start byte"
     ]
    }
   ],
   "source": [
    "with open('test_to_dict','r') as f:\n",
    "    test2 = json.loads(f.read())\n",
    "len(test2)"
   ]
  },
  {
   "cell_type": "markdown",
   "metadata": {},
   "source": [
    "### json"
   ]
  },
  {
   "cell_type": "code",
   "execution_count": 16,
   "metadata": {},
   "outputs": [],
   "source": [
    "test.to_json(\"test-json.json\")"
   ]
  },
  {
   "cell_type": "code",
   "execution_count": 17,
   "metadata": {},
   "outputs": [],
   "source": [
    "import json\n",
    "with open('test-json.json','r') as f:\n",
    "    test_json = json.loads(f.read())"
   ]
  },
  {
   "cell_type": "code",
   "execution_count": 19,
   "metadata": {},
   "outputs": [
    {
     "data": {
      "text/plain": [
       "dict"
      ]
     },
     "execution_count": 19,
     "metadata": {},
     "output_type": "execute_result"
    }
   ],
   "source": [
    "type(test_json)"
   ]
  },
  {
   "cell_type": "code",
   "execution_count": 77,
   "metadata": {},
   "outputs": [
    {
     "data": {
      "text/plain": [
       "<bound method NDFrame.keys of                High      Low     Open    Close  Volume     Adj Close\n",
       "Date                                                                \n",
       "2013-01-02  14800.0  14500.0  14700.0  14650.0  2650.0  11738.838867\n",
       "2013-01-03  14800.0  14550.0  14650.0  14800.0   424.0  11859.032227\n",
       "2013-01-04  14750.0  14250.0  14600.0  14750.0  3350.0  11818.967773\n",
       "2013-01-07  14700.0  14450.0  14700.0  14600.0   490.0  11698.775391\n",
       "2013-01-08  14650.0  14450.0  14450.0  14600.0   330.0  11698.775391\n",
       "2013-01-09  14600.0  14400.0  14450.0  14500.0  1608.0  11618.645508\n",
       "2013-01-10  14550.0  14400.0  14450.0  14500.0  1510.0  11618.645508\n",
       "2013-01-11  14550.0  14400.0  14550.0  14500.0  1112.0  11618.645508\n",
       "2013-01-14  14550.0  14400.0  14500.0  14450.0  1830.0  11578.582031\n",
       "2013-01-15  14550.0  14400.0  14400.0  14450.0   550.0  11578.582031\n",
       "2013-01-16  14550.0  14400.0  14400.0  14450.0   540.0  11578.582031\n",
       "2013-01-17  14450.0  14400.0  14400.0  14450.0    50.0  11578.582031\n",
       "2013-01-18  14550.0  14400.0  14450.0  14500.0   880.0  11618.645508\n",
       "2013-01-21  14650.0  14450.0  14550.0  14450.0   110.0  11578.582031\n",
       "2013-01-22  15250.0  14600.0  14650.0  14900.0   490.0  11939.160156\n",
       "2013-01-23  15050.0  14700.0  15050.0  14950.0   753.0  11979.225586\n",
       "2013-01-24  15150.0  14600.0  15150.0  14800.0  1100.0  11859.032227\n",
       "2013-01-25  14800.0  14400.0  14700.0  14800.0  5852.0  11859.032227\n",
       "2013-01-28  14850.0  14500.0  14650.0  14500.0   730.0  11618.645508\n",
       "2013-01-29  14550.0  14500.0  14500.0  14550.0  1160.0  11658.709961\n",
       "2013-01-30  14850.0  14550.0  14550.0  14750.0    90.0  11818.967773\n",
       "2013-01-31  14750.0  14750.0  14750.0  14750.0     0.0  11818.967773\n",
       "2013-02-01  14600.0  14500.0  14500.0  14600.0    80.0  11698.775391\n",
       "2013-02-04  14500.0  14500.0  14500.0  14500.0  2000.0  11618.645508\n",
       "2013-02-05  14600.0  14450.0  14450.0  14500.0   650.0  11618.645508\n",
       "2013-02-06  14800.0  14500.0  14550.0  14650.0    50.0  11738.838867\n",
       "2013-02-07  14800.0  14500.0  14500.0  14800.0   150.0  11859.032227\n",
       "2013-02-08  14800.0  14800.0  14800.0  14800.0     0.0  11859.032227\n",
       "2013-02-12  14800.0  14800.0  14800.0  14800.0     0.0  11859.032227\n",
       "2013-02-13  14700.0  14500.0  14500.0  14700.0   674.0  11778.903320\n",
       "...             ...      ...      ...      ...     ...           ...\n",
       "2018-10-22  17750.0  17450.0  17450.0  17700.0    79.0  17700.000000\n",
       "2018-10-23  17750.0  17350.0  17700.0  17750.0   147.0  17750.000000\n",
       "2018-10-24  17950.0  16500.0  17950.0  16500.0   419.0  16500.000000\n",
       "2018-10-25  17200.0  16500.0  16500.0  17200.0  4346.0  17200.000000\n",
       "2018-10-26  17200.0  16950.0  17200.0  17000.0   681.0  17000.000000\n",
       "2018-10-29  16250.0  16000.0  16050.0  16000.0   531.0  16000.000000\n",
       "2018-10-30  16000.0  15000.0  15000.0  15300.0   515.0  15300.000000\n",
       "2018-10-31  15800.0  15000.0  15000.0  15800.0   624.0  15800.000000\n",
       "2018-11-01  16500.0  15750.0  15750.0  16250.0    96.0  16250.000000\n",
       "2018-11-02  16650.0  16200.0  16200.0  16500.0   136.0  16500.000000\n",
       "2018-11-05  16450.0  15600.0  16450.0  16050.0   261.0  16050.000000\n",
       "2018-11-06  16200.0  16050.0  16050.0  16200.0   531.0  16200.000000\n",
       "2018-11-07  16050.0  15950.0  15950.0  16050.0     7.0  16050.000000\n",
       "2018-11-08  16800.0  16450.0  16450.0  16600.0   973.0  16600.000000\n",
       "2018-11-09  16650.0  16400.0  16600.0  16600.0   672.0  16600.000000\n",
       "2018-11-12  16600.0  15950.0  16500.0  16600.0   146.0  16600.000000\n",
       "2018-11-13  16600.0  15700.0  15800.0  16550.0    32.0  16550.000000\n",
       "2018-11-14  16500.0  15950.0  16500.0  16450.0    40.0  16450.000000\n",
       "2018-11-15  16400.0  16200.0  16400.0  16350.0     9.0  16350.000000\n",
       "2018-11-16  16750.0  15550.0  16350.0  16750.0  1157.0  16750.000000\n",
       "2018-11-19  16850.0  16250.0  16650.0  16650.0   271.0  16650.000000\n",
       "2018-11-20  16650.0  15800.0  16600.0  16650.0   173.0  16650.000000\n",
       "2018-11-21  16650.0  15950.0  16650.0  16250.0   185.0  16250.000000\n",
       "2018-11-22  16700.0  16200.0  16250.0  16700.0  1082.0  16700.000000\n",
       "2018-11-23  17900.0  16800.0  16800.0  17700.0  1176.0  17700.000000\n",
       "2018-11-26  18500.0  17700.0  17700.0  18500.0  1256.0  18500.000000\n",
       "2018-11-27  19100.0  18500.0  18900.0  18850.0   278.0  18850.000000\n",
       "2018-11-28  19200.0  18850.0  18850.0  19200.0  1823.0  19200.000000\n",
       "2018-11-29  19250.0  19200.0  19200.0  19250.0   766.0  19250.000000\n",
       "2018-11-30  19750.0  19600.0  19600.0  19750.0  1202.0  19750.000000\n",
       "\n",
       "[1453 rows x 6 columns]>"
      ]
     },
     "execution_count": 77,
     "metadata": {},
     "output_type": "execute_result"
    }
   ],
   "source": [
    "test.keys"
   ]
  },
  {
   "cell_type": "code",
   "execution_count": 62,
   "metadata": {},
   "outputs": [
    {
     "data": {
      "text/plain": [
       "['High', 'Low', 'Open', 'Close', 'Volume', 'Adj Close']"
      ]
     },
     "execution_count": 62,
     "metadata": {},
     "output_type": "execute_result"
    }
   ],
   "source": [
    "test.columns.tolist()"
   ]
  },
  {
   "cell_type": "code",
   "execution_count": 66,
   "metadata": {},
   "outputs": [
    {
     "data": {
      "text/plain": [
       "DatetimeIndex(['2013-01-02', '2013-01-03', '2013-01-04', '2013-01-07',\n",
       "               '2013-01-08', '2013-01-09', '2013-01-10', '2013-01-11',\n",
       "               '2013-01-14', '2013-01-15',\n",
       "               ...\n",
       "               '2018-11-19', '2018-11-20', '2018-11-21', '2018-11-22',\n",
       "               '2018-11-23', '2018-11-26', '2018-11-27', '2018-11-28',\n",
       "               '2018-11-29', '2018-11-30'],\n",
       "              dtype='datetime64[ns]', name='Date', length=1453, freq=None)"
      ]
     },
     "execution_count": 66,
     "metadata": {},
     "output_type": "execute_result"
    }
   ],
   "source": [
    "test.index"
   ]
  },
  {
   "cell_type": "code",
   "execution_count": 113,
   "metadata": {},
   "outputs": [
    {
     "data": {
      "text/plain": [
       "DatetimeIndex(['2013-01-02', '2013-01-03', '2013-01-04', '2013-01-07',\n",
       "               '2013-01-08', '2013-01-09', '2013-01-10', '2013-01-11',\n",
       "               '2013-01-14', '2013-01-15',\n",
       "               ...\n",
       "               '2018-11-19', '2018-11-20', '2018-11-21', '2018-11-22',\n",
       "               '2018-11-23', '2018-11-26', '2018-11-27', '2018-11-28',\n",
       "               '2018-11-29', '2018-11-30'],\n",
       "              dtype='datetime64[ns]', name='Date', length=1453, freq=None)"
      ]
     },
     "execution_count": 113,
     "metadata": {},
     "output_type": "execute_result"
    }
   ],
   "source": [
    "test.index"
   ]
  },
  {
   "cell_type": "code",
   "execution_count": 118,
   "metadata": {},
   "outputs": [
    {
     "data": {
      "text/plain": [
       "'2013-01-02'"
      ]
     },
     "execution_count": 118,
     "metadata": {},
     "output_type": "execute_result"
    }
   ],
   "source": [
    "str(testindex[0]).split()[0]"
   ]
  },
  {
   "cell_type": "code",
   "execution_count": 12,
   "metadata": {},
   "outputs": [],
   "source": [
    "testlist = test.values.tolist()"
   ]
  },
  {
   "cell_type": "code",
   "execution_count": 14,
   "metadata": {},
   "outputs": [
    {
     "data": {
      "text/plain": [
       "[14800.0, 14550.0, 14650.0, 14800.0, 424.0, 11859.0322265625]"
      ]
     },
     "execution_count": 14,
     "metadata": {},
     "output_type": "execute_result"
    }
   ],
   "source": [
    "testlist[1]"
   ]
  },
  {
   "cell_type": "markdown",
   "metadata": {},
   "source": [
    "# Graph test"
   ]
  },
  {
   "cell_type": "markdown",
   "metadata": {},
   "source": [
    "1. graph check \n",
    "2. save image\n",
    "3. iteration\n"
   ]
  },
  {
   "cell_type": "code",
   "execution_count": 52,
   "metadata": {},
   "outputs": [
    {
     "data": {
      "text/plain": [
       "(39, 6)"
      ]
     },
     "execution_count": 52,
     "metadata": {},
     "output_type": "execute_result"
    }
   ],
   "source": [
    "test = pd.read_pickle('./data5y/306200.KS-test')\n",
    "test.shape"
   ]
  },
  {
   "cell_type": "code",
   "execution_count": 53,
   "metadata": {},
   "outputs": [
    {
     "name": "stdout",
     "output_type": "stream",
     "text": [
      "(77, 6)\n"
     ]
    },
    {
     "data": {
      "image/png": "[encoded data removed]",
      "text/plain": [
       "<Figure size 432x288 with 1 Axes>"
      ]
     },
     "metadata": {
      "needs_background": "light"
     },
     "output_type": "display_data"
    }
   ],
   "source": [
    "test = pd.read_pickle('./data5y/293940.KS-test')\n",
    "print(test.shape)\n",
    "fig = plt.figure()\n",
    "ax = plt.axes()\n",
    "ax.xaxis.set_visible(False)\n",
    "ax.set_yticklabels([])\n",
    "test['Close'].plot();"
   ]
  },
  {
   "cell_type": "code",
   "execution_count": 40,
   "metadata": {},
   "outputs": [
    {
     "name": "stdout",
     "output_type": "stream",
     "text": [
      "(50, 6)\n"
     ]
    },
    {
     "data": {
      "image/png": "[encoded data removed]",
      "text/plain": [
       "<Figure size 432x288 with 1 Axes>"
      ]
     },
     "metadata": {
      "needs_background": "light"
     },
     "output_type": "display_data"
    }
   ],
   "source": [
    "test = pd.read_pickle('./data5y/010400.KS-test')\n",
    "print(test.shape)\n",
    "fig = plt.figure()\n",
    "ax = plt.axes()\n",
    "ax.xaxis.set_visible(False)\n",
    "ax.set_yticklabels([])\n",
    "test['Close'].plot();"
   ]
  },
  {
   "cell_type": "code",
   "execution_count": 58,
   "metadata": {},
   "outputs": [
    {
     "name": "stdout",
     "output_type": "stream",
     "text": [
      "(42, 6)\n"
     ]
    },
    {
     "data": {
      "image/png": "[encoded data removed]",
      "text/plain": [
       "<Figure size 432x288 with 1 Axes>"
      ]
     },
     "metadata": {
      "needs_background": "light"
     },
     "output_type": "display_data"
    }
   ],
   "source": [
    "test = pd.read_pickle('./data5y/293480.KS-test')\n",
    "print(test.shape)\n",
    "fig = plt.figure()\n",
    "ax = plt.axes()\n",
    "ax.xaxis.set_visible(False)\n",
    "ax.set_yticklabels([])\n",
    "test['Close'].plot();"
   ]
  },
  {
   "cell_type": "code",
   "execution_count": 57,
   "metadata": {},
   "outputs": [
    {
     "name": "stdout",
     "output_type": "stream",
     "text": [
      "(39, 6)\n"
     ]
    },
    {
     "data": {
      "image/png": "[encoded data removed]",
      "text/plain": [
       "<Figure size 432x288 with 1 Axes>"
      ]
     },
     "metadata": {
      "needs_background": "light"
     },
     "output_type": "display_data"
    }
   ],
   "source": [
    "test = pd.read_pickle('./data5y/306200.KS-test')\n",
    "print(test.shape)\n",
    "fig = plt.figure()\n",
    "ax = plt.axes()\n",
    "ax.xaxis.set_visible(False)\n",
    "ax.set_yticklabels([])\n",
    "test['Close'].plot();"
   ]
  },
  {
   "cell_type": "code",
   "execution_count": 9,
   "metadata": {},
   "outputs": [],
   "source": [
    "fig = plt.figure()\n",
    "ax = plt.axes()\n",
    "ax.xaxis.set_visible(False)\n",
    "ax.set_yticklabels([])\n",
    "test['Close'].plot();\n",
    "plt.close(fig)"
   ]
  },
  {
   "cell_type": "code",
   "execution_count": 11,
   "metadata": {},
   "outputs": [
    {
     "name": "stderr",
     "output_type": "stream",
     "text": [
      "/home/jw/anaconda3/envs/prophet/lib/python3.6/site-packages/matplotlib/pyplot.py:514: RuntimeWarning: More than 20 figures have been opened. Figures created through the pyplot interface (`matplotlib.pyplot.figure`) are retained until explicitly closed and may consume too much memory. (To control this warning, see the rcParam `figure.max_open_warning`).\n",
      "  max_open_warning, RuntimeWarning)\n"
     ]
    }
   ],
   "source": [
    "fig = plt.figure()\n",
    "ax = plt.axes()\n",
    "ax.xaxis.set_visible(False)\n",
    "ax.set_yticklabels([])\n",
    "test['Close'].plot(figsize=(2,1));"
   ]
  },
  {
   "cell_type": "code",
   "execution_count": 60,
   "metadata": {},
   "outputs": [
    {
     "data": {
      "image/png": "[encoded data removed]",
      "text/plain": [
       "<Figure size 144x72 with 1 Axes>"
      ]
     },
     "metadata": {
      "needs_background": "light"
     },
     "output_type": "display_data"
    }
   ],
   "source": [
    "#sample \n",
    "fig = plt.figure()\n",
    "ax = plt.axes()\n",
    "ax.xaxis.set_visible(False)\n",
    "ax.set_yticklabels([])\n",
    "test['Close'].plot(figsize=(2,1))\n",
    "fig.savefig('./graph5y/006920.KQ.2.png')"
   ]
  },
  {
   "cell_type": "code",
   "execution_count": 74,
   "metadata": {},
   "outputs": [
    {
     "data": {
      "text/plain": [
       "<matplotlib.legend.Legend at 0x7f414b07ada0>"
      ]
     },
     "execution_count": 74,
     "metadata": {},
     "output_type": "execute_result"
    },
    {
     "data": {
      "image/png": "[encoded data removed]",
      "text/plain": [
       "<Figure size 432x288 with 1 Axes>"
      ]
     },
     "metadata": {
      "needs_background": "light"
     },
     "output_type": "display_data"
    }
   ],
   "source": [
    "fig = plt.figure()\n",
    "# ax = plt.subplot(111)\n",
    "test['Close'].plot(grid=True);\n",
    "plt.title('Legend inside')\n",
    "ax.legend()"
   ]
  },
  {
   "cell_type": "code",
   "execution_count": 47,
   "metadata": {},
   "outputs": [],
   "source": [
    "fig.savefig('006920.KQ.1.png')"
   ]
  },
  {
   "cell_type": "markdown",
   "metadata": {},
   "source": [
    "# iteration"
   ]
  },
  {
   "cell_type": "code",
   "execution_count": 61,
   "metadata": {},
   "outputs": [],
   "source": [
    "def make_graph(n1, n2):\n",
    "    cnt = 0;log=[]\n",
    "    print('request data from {} to {}, processing..'.format(n1,n2),end='')\n",
    "    for i,v in tickers.items():\n",
    "        cnt+=1\n",
    "        if cnt > n1 and '마켓' in v:\n",
    "            ticker = i+'.'+v['마켓']\n",
    "            try:\n",
    "                df = pd.read_pickle('./data5y/{}-test'.format(ticker))\n",
    "                fig = plt.figure()\n",
    "                ax = plt.axes()\n",
    "                ax.xaxis.set_visible(False)\n",
    "                ax.set_yticklabels([])\n",
    "                df['Close'].plot(figsize=(2,1))\n",
    "                fig.savefig('./graph5y/{}.png'.format(ticker))\n",
    "                plt.close(fig)\n",
    "                log.append((cnt,ticker,'plotted.',v['회사명']))\n",
    "                print('.',end='')\n",
    "            except Exception as e:\n",
    "                log.append((cnt,ticker,'failed.',e,v['회사명']))\n",
    "                print(cnt,ticker,'failed',e,v['회사명'])\n",
    "                pass\n",
    "        if cnt == n2 :\n",
    "            break\n",
    "    print(' plotting finished.')\n",
    "    filename = 'log-plot-{}-{}.txt'.format(n1,n2)\n",
    "    with open('./graph/'+filename, 'w') as f:\n",
    "        for i in log:\n",
    "            f.write(\"{}\\n\".format(i))\n",
    "        print(filename,'file saved!')"
   ]
  },
  {
   "cell_type": "code",
   "execution_count": 62,
   "metadata": {},
   "outputs": [
    {
     "name": "stdout",
     "output_type": "stream",
     "text": [
      "request data from 0 to 500, processing.......................................38 145720.KS failed [Errno 2] No such file or directory: './data5y/145720.KS-test' 덴티움\n",
      ".....................................................................................................................................................................204 099340.KS failed [Errno 2] No such file or directory: './data5y/099340.KS-test' 하나니켈1호\n",
      "205 099350.KS failed [Errno 2] No such file or directory: './data5y/099350.KS-test' 하나니켈2호\n",
      "..............220 096300.KS failed [Errno 2] No such file or directory: './data5y/096300.KS-test' 베트남개발1\n",
      "........................................................................................................................................................................................................................................................................................ plotting finished.\n",
      "log-plot-0-500.txt file saved!\n"
     ]
    }
   ],
   "source": [
    "make_graph(0,500)"
   ]
  },
  {
   "cell_type": "code",
   "execution_count": 38,
   "metadata": {},
   "outputs": [
    {
     "name": "stdout",
     "output_type": "stream",
     "text": [
      "request data from 0 to 1200, processing...............................................................................................................110 152550.KS failed [Errno 2] No such file or directory: './data/152550.KS-test' 한국ANKOR유전\n",
      ".............................................................................................204 099340.KS failed [Errno 2] No such file or directory: './data/099340.KS-test' 하나니켈1호\n",
      "205 099350.KS failed [Errno 2] No such file or directory: './data/099350.KS-test' 하나니켈2호\n",
      "..............220 096300.KS failed [Errno 2] No such file or directory: './data/096300.KS-test' 베트남개발1\n",
      ".................................................................................................................................................................................................................................................................................................................................................................................................................................................................................................................................................................................................................................................................................................................................................................................................................................................................................................................................................................................................................... plotting finished.\n",
      "log-plot-0-1200.txt file saved!\n"
     ]
    }
   ],
   "source": [
    "#5 year data - prediction\n",
    "make_graph(0,1200)"
   ]
  },
  {
   "cell_type": "code",
   "execution_count": 5,
   "metadata": {},
   "outputs": [
    {
     "name": "stdout",
     "output_type": "stream",
     "text": [
      "request data from 0 to 1000, processing...................................34 267270.KS failed [Errno 2] No such file or directory: './data10y/267270.KS' 현대건설기계\n",
      ".........................................................................................................................................................................204 099340.KS failed [Errno 2] No such file or directory: './data10y/099340.KS' 하나니켈1호\n",
      "205 099350.KS failed [Errno 2] No such file or directory: './data10y/099350.KS' 하나니켈2호\n",
      "..............220 096300.KS failed [Errno 2] No such file or directory: './data10y/096300.KS' 베트남개발1\n",
      "............................................................................................................................................................................................................................................................................................................................................................................................................................................................................................................................................................................777 001790.KS failed [Errno 2] No such file or directory: './data10y/001790.KS' 대한제당\n",
      "............................................................................................................................................................................................................................... plotting finished.\n",
      "log-plot-0-1000.txt file saved!\n"
     ]
    }
   ],
   "source": [
    "# 10 year graph \n",
    "\n",
    "def make_graph(n1, n2):\n",
    "    cnt = 0;log=[]\n",
    "    print('request data from {} to {}, processing..'.format(n1,n2),end='')\n",
    "    for i,v in tickers.items():\n",
    "        cnt+=1\n",
    "        if cnt > n1 and '마켓' in v:\n",
    "            ticker = i+'.'+v['마켓']\n",
    "            try:\n",
    "                df = pd.read_pickle('./data10y/{}'.format(ticker))\n",
    "                fig = plt.figure()\n",
    "                ax = plt.axes()\n",
    "                ax.xaxis.set_visible(False)\n",
    "                ax.set_yticklabels([])\n",
    "                df['Close'].plot(figsize=(2,1))\n",
    "                fig.savefig('./graph10y/{}.png'.format(ticker))\n",
    "                plt.close(fig)\n",
    "                log.append((cnt,ticker,'plotted.',v['회사명']))\n",
    "                print('.',end='')\n",
    "            except Exception as e:\n",
    "                log.append((cnt,ticker,'failed.',e,v['회사명']))\n",
    "                print(cnt,ticker,'failed',e,v['회사명'])\n",
    "                pass\n",
    "        if cnt == n2 :\n",
    "            break\n",
    "    print(' plotting finished.')\n",
    "    filename = 'log-plot-{}-{}.txt'.format(n1,n2)\n",
    "    with open('./graph10y/'+filename, 'w') as f:\n",
    "        for i in log:\n",
    "            f.write(\"{}\\n\".format(i))\n",
    "        print(filename,'file saved!')\n",
    "make_graph(0,1000)"
   ]
  }
 ],
 "metadata": {
  "kernelspec": {
   "display_name": "Python 3",
   "language": "python",
   "name": "python3"
  },
  "language_info": {
   "codemirror_mode": {
    "name": "ipython",
    "version": 3
   },
   "file_extension": ".py",
   "mimetype": "text/x-python",
   "name": "python",
   "nbconvert_exporter": "python",
   "pygments_lexer": "ipython3",
   "version": "3.6.6"
  }
 },
 "nbformat": 4,
 "nbformat_minor": 2
}
