{
 "cells": [
  {
   "cell_type": "markdown",
   "metadata": {},
   "source": [
    "# KRX data(KS,KQ,?)"
   ]
  },
  {
   "cell_type": "code",
   "execution_count": 5,
   "metadata": {},
   "outputs": [
    {
     "name": "stdout",
     "output_type": "stream",
     "text": [
      "2230\n",
      "['0', 'CJ', '1040', '기타 금융업', '지주회사', '1973-06-29', '12월', '손경식/ 이재현/ 이채욱', 'http://www.cj.net', '서울특별시\\n']\n"
     ]
    }
   ],
   "source": [
    "with open('ticker_krx_2018.csv') as file:\n",
    "\tkrx = [i.split(',') for i in file.readlines()]\n",
    "print(len(krx))\n",
    "print(krx[0])"
   ]
  },
  {
   "cell_type": "code",
   "execution_count": 56,
   "metadata": {},
   "outputs": [],
   "source": [
    "for i in krx:\n",
    "    if len(i[2]) >6:\n",
    "        print(i[0],i[1],i[2])"
   ]
  },
  {
   "cell_type": "code",
   "execution_count": 16,
   "metadata": {},
   "outputs": [
    {
     "name": "stdout",
     "output_type": "stream",
     "text": [
      "745 1485 2230\n"
     ]
    }
   ],
   "source": [
    "cnt=0;cnt_sm=0\n",
    "for i in krx:\n",
    "    if len(i[2]) == 6:\n",
    "        cnt+=1\n",
    "    elif len(i[2]) < 6:\n",
    "        cnt_sm +=1\n",
    "print(cnt,cnt_sm,cnt+cnt_sm)"
   ]
  },
  {
   "cell_type": "markdown",
   "metadata": {},
   "source": [
    "### fill zero, attach .KS"
   ]
  },
  {
   "cell_type": "code",
   "execution_count": null,
   "metadata": {},
   "outputs": [],
   "source": []
  },
  {
   "cell_type": "markdown",
   "metadata": {},
   "source": [
    "# YAHOO data"
   ]
  },
  {
   "cell_type": "code",
   "execution_count": 1,
   "metadata": {},
   "outputs": [
    {
     "name": "stdout",
     "output_type": "stream",
     "text": [
      "1721\n",
      "['001065.KS', 'JW Pharmaceutical Corporation\\n']\n"
     ]
    }
   ],
   "source": [
    "with open('ticker_yahoo_2017_kor.txt') as file2:\n",
    "\tyah = [i.split('\\t') for i in file2.readlines()]\n",
    "print(len(yah))\n",
    "print(yah[0])"
   ]
  },
  {
   "cell_type": "code",
   "execution_count": 3,
   "metadata": {},
   "outputs": [
    {
     "name": "stdout",
     "output_type": "stream",
     "text": [
      "['71301A1B.KS', 'MultiAsset Anshim TeunTeun Fund\\n']\n",
      "['71901A58.KS', 'KB Seoul Solar Special Asset\\n']\n",
      "['737027S7.KS', 'PAM Real Estate 3\\n']\n",
      "['707017R9.KS', 'TongYang Kangnam 1\\n']\n",
      "['72501A3B.KS', 'SHBNPP Seoul Metro 9 No.1\\n']\n",
      "['74401722.KS', 'MiraeassetMAPSBrazilTrust 1\\n']\n",
      "['72503A3B.KS', 'SHBNPP Seoul Metro 9 No.3\\n']\n",
      "['72502A3B.KS', 'SHBNPP Seoul Metro 9 No.2\\n']\n",
      "['72504A3B.KS', 'SHBNPP Seoul Metro 9 No.4\\n']\n",
      "['03663016.KQ', 'SEJONG TELECOM 30R\\n']\n"
     ]
    },
    {
     "data": {
      "text/plain": [
       "1721"
      ]
     },
     "execution_count": 3,
     "metadata": {},
     "output_type": "execute_result"
    }
   ],
   "source": [
    "cnt=0\n",
    "for i in yah:\n",
    "    cnt+=1\n",
    "    if len(i[0]) > 9:\n",
    "        print(i)\n",
    "cnt"
   ]
  },
  {
   "cell_type": "code",
   "execution_count": 4,
   "metadata": {},
   "outputs": [
    {
     "data": {
      "text/plain": [
       "'KS'"
      ]
     },
     "execution_count": 4,
     "metadata": {},
     "output_type": "execute_result"
    }
   ],
   "source": [
    "yah[0][0][-2:]"
   ]
  },
  {
   "cell_type": "code",
   "execution_count": 5,
   "metadata": {},
   "outputs": [
    {
     "data": {
      "text/plain": [
       "763"
      ]
     },
     "execution_count": 5,
     "metadata": {},
     "output_type": "execute_result"
    }
   ],
   "source": [
    "cnt=0\n",
    "for i in yah:\n",
    "    if i[0][-2:] =='KS':\n",
    "        cnt+=1\n",
    "cnt"
   ]
  },
  {
   "cell_type": "code",
   "execution_count": 6,
   "metadata": {},
   "outputs": [
    {
     "data": {
      "text/plain": [
       "754"
      ]
     },
     "execution_count": 6,
     "metadata": {},
     "output_type": "execute_result"
    }
   ],
   "source": [
    "cnt=0\n",
    "for i in yah:\n",
    "    if i[0][-2:] =='KS' and len(i[0])==9:\n",
    "        cnt+=1\n",
    "cnt"
   ]
  },
  {
   "cell_type": "code",
   "execution_count": 102,
   "metadata": {},
   "outputs": [
    {
     "name": "stdout",
     "output_type": "stream",
     "text": [
      "['71301A1B.KS', 'MultiAsset Anshim TeunTeun Fund\\n']\n",
      "['71901A58.KS', 'KB Seoul Solar Special Asset\\n']\n",
      "['737027S7.KS', 'PAM Real Estate 3\\n']\n",
      "['707017R9.KS', 'TongYang Kangnam 1\\n']\n",
      "['72501A3B.KS', 'SHBNPP Seoul Metro 9 No.1\\n']\n",
      "['74401722.KS', 'MiraeassetMAPSBrazilTrust 1\\n']\n",
      "['72503A3B.KS', 'SHBNPP Seoul Metro 9 No.3\\n']\n",
      "['72502A3B.KS', 'SHBNPP Seoul Metro 9 No.2\\n']\n",
      "['72504A3B.KS', 'SHBNPP Seoul Metro 9 No.4\\n']\n"
     ]
    }
   ],
   "source": [
    "for i in yah:\n",
    "    if i[0][-2:] =='KS' and len(i[0]) != 9:\n",
    "        print(i)"
   ]
  },
  {
   "cell_type": "code",
   "execution_count": 53,
   "metadata": {},
   "outputs": [
    {
     "data": {
      "text/plain": [
       "957"
      ]
     },
     "execution_count": 53,
     "metadata": {},
     "output_type": "execute_result"
    }
   ],
   "source": [
    "cnt=0\n",
    "for i in yah:\n",
    "    if i[0][-2:] =='KQ':\n",
    "        cnt+=1\n",
    "cnt"
   ]
  },
  {
   "cell_type": "code",
   "execution_count": 101,
   "metadata": {},
   "outputs": [
    {
     "data": {
      "text/plain": [
       "956"
      ]
     },
     "execution_count": 101,
     "metadata": {},
     "output_type": "execute_result"
    }
   ],
   "source": [
    "cnt = 0\n",
    "for i in yah:\n",
    "    if i[0][-2:] =='KQ' and len(i[0])==9:\n",
    "        cnt+=1\n",
    "cnt"
   ]
  },
  {
   "cell_type": "code",
   "execution_count": 103,
   "metadata": {},
   "outputs": [
    {
     "name": "stdout",
     "output_type": "stream",
     "text": [
      "['03663016.KQ', 'SEJONG TELECOM 30R\\n']\n"
     ]
    }
   ],
   "source": [
    "for i in yah:\n",
    "    if i[0][-2:] =='KQ' and len(i[0]) != 9:\n",
    "        print(i)"
   ]
  },
  {
   "cell_type": "markdown",
   "metadata": {},
   "source": [
    "# KSC"
   ]
  },
  {
   "cell_type": "code",
   "execution_count": 12,
   "metadata": {},
   "outputs": [
    {
     "name": "stdout",
     "output_type": "stream",
     "text": [
      "789\n",
      "['아시아나IDT', '267850']\n"
     ]
    }
   ],
   "source": [
    "with open('ticker_krx2_2018_KSC.txt') as file:\n",
    "\tksc = [i.rstrip().split('\\t') for i in file.readlines()]\n",
    "print(len(ksc))\n",
    "print(ksc[0])"
   ]
  },
  {
   "cell_type": "code",
   "execution_count": 85,
   "metadata": {},
   "outputs": [
    {
     "data": {
      "text/plain": [
       "789"
      ]
     },
     "execution_count": 85,
     "metadata": {},
     "output_type": "execute_result"
    }
   ],
   "source": [
    "len(ksc)"
   ]
  },
  {
   "cell_type": "code",
   "execution_count": 86,
   "metadata": {},
   "outputs": [
    {
     "data": {
      "text/plain": [
       "['한진중공업홀딩스', '3480']"
      ]
     },
     "execution_count": 86,
     "metadata": {},
     "output_type": "execute_result"
    }
   ],
   "source": [
    "ksc[788]"
   ]
  },
  {
   "cell_type": "code",
   "execution_count": 114,
   "metadata": {},
   "outputs": [
    {
     "data": {
      "text/plain": [
       "789"
      ]
     },
     "execution_count": 114,
     "metadata": {},
     "output_type": "execute_result"
    }
   ],
   "source": [
    "cnt=0\n",
    "for i in ksc:\n",
    "    if len(i[1]) == 9:\n",
    "        cnt+=1\n",
    "cnt"
   ]
  },
  {
   "cell_type": "code",
   "execution_count": 13,
   "metadata": {},
   "outputs": [
    {
     "data": {
      "text/plain": [
       "789"
      ]
     },
     "execution_count": 13,
     "metadata": {},
     "output_type": "execute_result"
    }
   ],
   "source": [
    "for i in ksc:\n",
    "    if len(i[1]) < 6:\n",
    "        i[1] = i[1].zfill(6)+'.KS'\n",
    "    else:\n",
    "        i[1] = i[1]+'.KS'\n",
    "len(ksc)"
   ]
  },
  {
   "cell_type": "markdown",
   "metadata": {},
   "source": [
    "# KOE"
   ]
  },
  {
   "cell_type": "code",
   "execution_count": 14,
   "metadata": {},
   "outputs": [
    {
     "name": "stdout",
     "output_type": "stream",
     "text": [
      "1296\n",
      "['네오펙트', '290660']\n"
     ]
    }
   ],
   "source": [
    "with open('ticker_krx2_2018_KOE.txt') as file:\n",
    "\tkoe = [i.rstrip().split('\\t') for i in file.readlines()]\n",
    "print(len(koe))\n",
    "print(koe[0])"
   ]
  },
  {
   "cell_type": "code",
   "execution_count": 89,
   "metadata": {},
   "outputs": [
    {
     "data": {
      "text/plain": [
       "1296"
      ]
     },
     "execution_count": 89,
     "metadata": {},
     "output_type": "execute_result"
    }
   ],
   "source": [
    "len(koe)"
   ]
  },
  {
   "cell_type": "code",
   "execution_count": 21,
   "metadata": {},
   "outputs": [
    {
     "data": {
      "text/plain": [
       "['모헨즈', '006920.KS']"
      ]
     },
     "execution_count": 21,
     "metadata": {},
     "output_type": "execute_result"
    }
   ],
   "source": [
    "koe[1295]"
   ]
  },
  {
   "cell_type": "code",
   "execution_count": 115,
   "metadata": {},
   "outputs": [
    {
     "data": {
      "text/plain": [
       "810"
      ]
     },
     "execution_count": 115,
     "metadata": {},
     "output_type": "execute_result"
    }
   ],
   "source": [
    "cnt=0\n",
    "for i in koe:\n",
    "    if len(i[1]) < 6:\n",
    "        cnt+=1\n",
    "cnt"
   ]
  },
  {
   "cell_type": "code",
   "execution_count": 15,
   "metadata": {},
   "outputs": [
    {
     "data": {
      "text/plain": [
       "1296"
      ]
     },
     "execution_count": 15,
     "metadata": {},
     "output_type": "execute_result"
    }
   ],
   "source": [
    "for i in koe:\n",
    "    if len(i[1]) < 6:\n",
    "        i[1] = i[1].zfill(6)+'.KS'\n",
    "    else:\n",
    "        i[1] = i[1]+'.KS'\n",
    "len(koe)"
   ]
  },
  {
   "cell_type": "code",
   "execution_count": 117,
   "metadata": {},
   "outputs": [
    {
     "data": {
      "text/plain": [
       "1296"
      ]
     },
     "execution_count": 117,
     "metadata": {},
     "output_type": "execute_result"
    }
   ],
   "source": [
    "cnt=0\n",
    "for i in koe:\n",
    "    if len(i[1]) == 9:\n",
    "        cnt+=1\n",
    "cnt"
   ]
  },
  {
   "cell_type": "markdown",
   "metadata": {},
   "source": [
    "# compare"
   ]
  },
  {
   "cell_type": "code",
   "execution_count": 19,
   "metadata": {},
   "outputs": [
    {
     "data": {
      "text/plain": [
       "577"
      ]
     },
     "execution_count": 19,
     "metadata": {},
     "output_type": "execute_result"
    }
   ],
   "source": [
    "cnt=0\n",
    "for i in yah:\n",
    "    for j in ksc:\n",
    "        if i[0] == j[1]:\n",
    "            cnt+=1\n",
    "            break\n",
    "            #print(i[1], j[0], 'same')\n",
    "cnt"
   ]
  },
  {
   "cell_type": "markdown",
   "metadata": {},
   "source": [
    "# make dictionary"
   ]
  },
  {
   "cell_type": "code",
   "execution_count": 11,
   "metadata": {},
   "outputs": [
    {
     "data": {
      "text/plain": [
       "['001065.KS', 'JW Pharmaceutical Corporation\\n']"
      ]
     },
     "execution_count": 11,
     "metadata": {},
     "output_type": "execute_result"
    }
   ],
   "source": [
    "ticker=[]\n",
    "for i in yah:\n",
    "    if len(i[0]) == 9:\n",
    "        temp = [i[0],i[1]]\n",
    "        ticker.append(temp)\n",
    "ticker[0]"
   ]
  },
  {
   "cell_type": "code",
   "execution_count": 20,
   "metadata": {},
   "outputs": [
    {
     "data": {
      "text/plain": [
       "1710"
      ]
     },
     "execution_count": 20,
     "metadata": {},
     "output_type": "execute_result"
    }
   ],
   "source": [
    "len(ticker)"
   ]
  },
  {
   "cell_type": "code",
   "execution_count": 22,
   "metadata": {},
   "outputs": [
    {
     "data": {
      "text/plain": [
       "1710"
      ]
     },
     "execution_count": 22,
     "metadata": {},
     "output_type": "execute_result"
    }
   ],
   "source": [
    "for i in ticker:\n",
    "    for j in koe:\n",
    "        if i[0] == j[1]:\n",
    "            i.append(j[0])\n",
    "len(ticker)"
   ]
  },
  {
   "cell_type": "code",
   "execution_count": 23,
   "metadata": {},
   "outputs": [
    {
     "data": {
      "text/plain": [
       "[['001065.KS', 'JW Pharmaceutical Corporation\\n'],\n",
       " ['067290.KQ', 'JW Shinyak Corporation\\n'],\n",
       " ['096760.KS', 'JW Holdings Corporation\\n'],\n",
       " ['001067.KS', 'JW Pharmaceutical Corporation\\n'],\n",
       " ['089590.KS', 'Jeju Air Co., Ltd.\\n'],\n",
       " ['005930.KS', 'Samsung Electronics Co., Ltd.\\n'],\n",
       " ['000660.KS', 'SK Hynix Inc.\\n'],\n",
       " ['055550.KS', 'Shinhan Financial Group Co., Ltd.\\n'],\n",
       " ['034220.KS', 'LG Display Co., Ltd.\\n'],\n",
       " ['036460.KS', 'Korea Gas Corporation\\n'],\n",
       " ['017670.KS', 'SK Telecom Co., Ltd.\\n'],\n",
       " ['010140.KS', 'Samsung Heavy Industries Co., Ltd.\\n'],\n",
       " ['005935.KS', 'Samsung Electronics Co., Ltd.\\n'],\n",
       " ['004020.KS', 'Hyundai Steel Company\\n'],\n",
       " ['003620.KS', 'Ssangyong Motor Company\\n'],\n",
       " ['001440.KS', 'Taihan Electric Wire Co., Ltd.\\n'],\n",
       " ['000040.KS', 'KR Motors Co., Ltd.\\n'],\n",
       " ['128820.KS', 'Daesung Industrial Co., Ltd.\\n'],\n",
       " ['126600.KQ', 'KOPLA CO.,LTD.\\n'],\n",
       " ['122870.KQ', 'YG Entertainment Inc.\\n'],\n",
       " ['097950.KS', 'CJ Cheiljedang Corporation\\n'],\n",
       " ['088790.KS', 'Jindo.Co., Ltd.\\n'],\n",
       " ['088290.KQ', 'Ewon Comfortech Co. Ltd.\\n'],\n",
       " ['086280.KS', 'Hyundai Glovis Co., Ltd.\\n'],\n",
       " ['069510.KQ', 'ESTec Corporation\\n'],\n",
       " ['066570.KS', 'LG Electronics Inc.\\n'],\n",
       " ['057880.KQ', 'Topfield Co., Ltd.\\n'],\n",
       " ['051910.KS', 'LG Chem, Ltd.\\n'],\n",
       " ['042700.KS', 'HANMI Semiconductor Co., Ltd.\\n'],\n",
       " ['042670.KS', 'Doosan Infracore Co., Ltd.\\n'],\n",
       " ['037460.KQ', 'Samji Electronics Co., Ltd.\\n'],\n",
       " ['036540.KQ', 'SFA Semicon Co., Ltd.\\n'],\n",
       " ['032640.KS', 'LG Uplus Corp.\\n'],\n",
       " ['032500.KQ', 'Kmw Inc.\\n'],\n",
       " ['020560.KS', 'Asiana Airlines, Inc.\\n'],\n",
       " ['015760.KS', 'Korea Electric Power Corporation\\n'],\n",
       " ['011160.KS', 'Doosan Engineering & Construction Co., Ltd.\\n'],\n",
       " ['011070.KS', 'LG Innotek Co., Ltd.\\n'],\n",
       " ['011000.KS', 'GeneOne Life Science Inc.\\n'],\n",
       " ['009150.KS', 'Samsung Electro-Mechanics Co., Ltd.\\n'],\n",
       " ['008770.KS', 'Hotel Shilla Co.,Ltd\\n'],\n",
       " ['008250.KS', 'Eagon Industrial Co., Ltd.\\n'],\n",
       " ['006400.KS', 'Samsung SDI Co., Ltd.\\n'],\n",
       " ['005940.KS', 'NH Investment & Securities Co., Ltd.\\n'],\n",
       " ['005490.KS', 'POSCO\\n'],\n",
       " ['004540.KS', 'KleanNara Co., Ltd.\\n'],\n",
       " ['002790.KS', 'AmorePacific Group\\n'],\n",
       " ['000990.KS', 'Dongbu HiTek Co., Ltd.\\n'],\n",
       " ['950130.KQ', 'Access Bio, Inc.\\n'],\n",
       " ['222800.KQ', 'SIMMTECH\\n'],\n",
       " ['185750.KS', 'Chong Kun Dang Pharmaceutical Corp.\\n'],\n",
       " ['171120.KQ', 'Lion Chemtech Co., Ltd.\\n'],\n",
       " ['161890.KS', 'Kolmar Korea Co., Ltd.\\n'],\n",
       " ['150840.KQ', 'IntroMedic Co., Ltd.\\n'],\n",
       " ['143240.KQ', 'SaraminHR Co.,LTD\\n'],\n",
       " ['141080.KQ', 'LegoChem Biosciences, Inc.\\n'],\n",
       " ['138930.KS', 'BNK Financial Group Inc.\\n'],\n",
       " ['138040.KS', 'Meritz Financial Group Inc.\\n'],\n",
       " ['133820.KS', 'Fine Besteel Co., Ltd.\\n'],\n",
       " ['129260.KS', 'Intergis Co., Ltd.\\n'],\n",
       " ['128940.KS', 'Hanmi Pharm. Co., Ltd.\\n'],\n",
       " ['123700.KS', 'SJM Co., Ltd.\\n'],\n",
       " ['121890.KQ', 'SD System Co., Ltd.\\n'],\n",
       " ['121800.KQ', 'Seven Star Works Co., Ltd.\\n'],\n",
       " ['121440.KQ', 'Golfzonyouwonholdings Co., Ltd.\\n'],\n",
       " ['120115.KS', 'Kolon Industries, Inc.\\n'],\n",
       " ['119650.KS', 'KC Cottrell Co., Ltd.\\n'],\n",
       " ['105630.KS', 'Hansae Co., Ltd.\\n'],\n",
       " ['104830.KQ', 'Wonik Materials Co., Ltd.\\n'],\n",
       " ['104200.KQ', 'Bugs Corporation\\n'],\n",
       " ['103130.KS', 'Woongjin Energy Co., Ltd.\\n'],\n",
       " ['102280.KS', 'SBW, Inc.\\n'],\n",
       " ['102210.KQ', 'Haeduk Powerway Co., Ltd.\\n'],\n",
       " ['101240.KQ', 'CQV Co., Ltd.\\n'],\n",
       " ['099440.KQ', 'SMEC Co., Ltd.\\n'],\n",
       " ['099190.KQ', 'i-SENS, Inc.\\n'],\n",
       " ['098660.KQ', 'STO Co., Ltd.\\n'],\n",
       " ['097780.KQ', 'SMAC Co.,Ltd.\\n'],\n",
       " ['097230.KS', 'Hanjin Heavy Industries & Construction Co., Ltd.\\n'],\n",
       " ['093920.KQ', 'SEOWONINTECH Co. LTD\\n'],\n",
       " ['091440.KQ', 'Telefield Inc.\\n'],\n",
       " ['090730.KQ', 'SIMPAC METALLOY Co., Ltd.\\n'],\n",
       " ['090460.KQ', 'BH Co.,Ltd.\\n'],\n",
       " ['089010.KQ', 'Chemtronics Co., Ltd.\\n'],\n",
       " ['085660.KQ', 'CHA Biotech Co., Ltd.\\n'],\n",
       " ['085310.KS', 'NK Co., Ltd.\\n'],\n",
       " ['083650.KQ', 'BHI Co., Ltd.\\n'],\n",
       " ['083470.KQ', 'K.J. Pretech Co. Ltd.\\n'],\n",
       " ['081660.KS', 'Fila Korea Ltd.\\n'],\n",
       " ['081580.KQ', 'Sungwoo Electronics Co., Ltd.\\n'],\n",
       " ['081150.KQ', 'Tplex Co., Ltd.\\n'],\n",
       " ['080420.KQ', 'InnoChips Technology Co., Ltd.\\n'],\n",
       " ['080000.KQ', 'Snu Precision Co Ltd\\n'],\n",
       " ['079950.KQ', 'INVENIA Co., Ltd.\\n'],\n",
       " ['078130.KQ', 'Kukil Paper Mfg. Co.,Ltd.\\n'],\n",
       " ['078020.KQ', 'EBEST Investment & Securities Co., Ltd.\\n'],\n",
       " ['069960.KS', 'Hyundai Department Store Co., Ltd.\\n'],\n",
       " ['068930.KQ', 'Digital Daesung Co., Ltd.\\n'],\n",
       " ['068790.KQ', 'DMS Co., Ltd.\\n'],\n",
       " ['068760.KQ', 'Celltrion Pharm Inc.\\n'],\n",
       " ['068270.KQ', 'Celltrion, Inc.\\n'],\n",
       " ['068050.KQ', 'Pan Entertainment Co Ltd\\n'],\n",
       " ['067000.KQ', 'JoyCity Corporation\\n'],\n",
       " ['066575.KS', 'LG Electronics Inc.\\n'],\n",
       " ['065940.KQ', 'KSCB Co.,Ltd.\\n'],\n",
       " ['065680.KQ', 'UJU Electronics Co., Ltd.\\n'],\n",
       " ['065510.KQ', 'Huvitz Co. Ltd.\\n'],\n",
       " ['060980.KS', 'Halla Holdings Corp.\\n'],\n",
       " ['060720.KQ', 'KHVATEC Co., Ltd.\\n'],\n",
       " ['060590.KQ', 'CTCBIO., Inc.\\n'],\n",
       " ['060540.KQ', 'System and Application Technologies Co., Ltd.\\n'],\n",
       " ['060230.KQ', 'exax Inc.\\n'],\n",
       " ['058860.KS', 'KTIS Corporation\\n'],\n",
       " ['058820.KQ', 'CMG Pharmaceutical CO.,LTD.\\n'],\n",
       " ['058630.KQ', 'Mgame Corp.\\n'],\n",
       " ['057030.KQ', 'YBM Net, Inc.\\n'],\n",
       " ['056190.KQ', 'SFA Engineering Corporation\\n'],\n",
       " ['056000.KQ', 'Cowon Systems, Inc.\\n'],\n",
       " ['054800.KQ', 'IDIS Holdings Co., Ltd.\\n'],\n",
       " ['054540.KQ', 'Samyoung M-Tek Co. Ltd.\\n'],\n",
       " ['054090.KQ', 'Samjin LND Co., Ltd.\\n'],\n",
       " ['053160.KQ', 'FreeMs Corporation\\n'],\n",
       " ['052690.KS', 'KEPCO Engineering & Construction Company, Inc.\\n'],\n",
       " ['052300.KQ', 'SH Holdings Co., Ltd.\\n'],\n",
       " ['051370.KQ', 'Interflex Co., Ltd.\\n'],\n",
       " ['049120.KQ', 'Fine DNC Co. Ltd.\\n'],\n",
       " ['048550.KQ', 'SM Culture & Contents Co., Ltd.\\n'],\n",
       " ['047810.KS', 'Korea Aerospace Industries, Ltd.\\n'],\n",
       " ['047050.KS', 'Posco Daewoo Corporation\\n'],\n",
       " ['046440.KQ', 'KGMobilians Co., Ltd.\\n'],\n",
       " ['045890.KQ', 'Dongbu Lightec Co., Ltd.\\n'],\n",
       " ['044960.KQ', 'Eagle Veterinary Technology Co. Ltd.\\n'],\n",
       " ['044820.KS', 'Cosmax BTI, Inc.\\n'],\n",
       " ['044490.KQ', 'Taewoong Co. Ltd.\\n'],\n",
       " ['044340.KQ', 'Winix Inc.\\n'],\n",
       " ['043610.KQ', 'KT Music Corporation\\n'],\n",
       " ['042660.KS', 'Daewoo Shipbuilding & Marine Engineering Co., Ltd.\\n'],\n",
       " ['041510.KQ', 'S.M. Entertainment Co., Ltd.\\n'],\n",
       " ['041460.KQ', 'Korea Electronic Certification Authority, Inc.\\n'],\n",
       " ['041020.KQ', 'Infraware, Inc.\\n'],\n",
       " ['040610.KQ', 'SG&G Corporation\\n'],\n",
       " ['039130.KS', 'Hanatour Service Inc.\\n'],\n",
       " ['039030.KQ', 'EO Technics Co., Ltd.\\n'],\n",
       " ['038880.KQ', 'iA, Inc.\\n'],\n",
       " ['038620.KQ', 'Wiz Information Technology Co., Ltd.\\n'],\n",
       " ['038060.KQ', 'Lumens Co., Ltd.\\n'],\n",
       " ['038010.KQ', 'Jeil Technos Co. Ltd.\\n'],\n",
       " ['037370.KQ', 'EG Corporation\\n'],\n",
       " ['036830.KQ', 'Soulbrain Co.,Ltd.\\n'],\n",
       " ['036710.KQ', 'Simmtech Holdings Co., Ltd.\\n'],\n",
       " ['036670.KQ', 'KCI Limited\\n'],\n",
       " ['036220.KQ', 'Infopia Co., Ltd.\\n'],\n",
       " ['036190.KQ', 'Geumhwa Plant Service & Construction Co., Ltd.\\n'],\n",
       " ['036010.KQ', 'ABCO Electronics Co., Ltd.\\n'],\n",
       " ['035900.KQ', 'JYP Entertainment Corporation\\n'],\n",
       " ['035610.KQ', 'Solborn, Inc.\\n'],\n",
       " ['035250.KS', 'Kangwon Land, Inc.\\n'],\n",
       " ['034940.KQ', 'ChoA Pharmaceutical Co. Ltd.\\n'],\n",
       " ['034020.KS', 'Doosan Heavy Industries & Construction Co., Ltd.\\n'],\n",
       " ['032800.KQ', 'Fantagio Corp.\\n'],\n",
       " ['031860.KQ', 'A-motion Co., Ltd.\\n'],\n",
       " ['030530.KQ', 'Wonik Holdings Co., Ltd.\\n'],\n",
       " ['027410.KS', 'BGFretail Co., Ltd.\\n'],\n",
       " ['027390.KS', 'Hanwha Galleria Timeworld Co., Ltd.\\n'],\n",
       " ['026040.KQ', 'Romanson Co., Ltd.\\n'],\n",
       " ['025540.KS', 'Korea Electric Terminal Co., Ltd.\\n'],\n",
       " ['025270.KQ', 'Busan Textile Co. Ltd.\\n'],\n",
       " ['024840.KQ', 'KB Metal Co., Ltd.\\n'],\n",
       " ['023810.KS', 'INFAC Corporation\\n'],\n",
       " ['023460.KQ', 'CNH Co., Ltd.\\n'],\n",
       " ['022100.KQ', 'Posco ICT Company Ltd.\\n'],\n",
       " ['019680.KS', 'Daekyo Co., Ltd.\\n'],\n",
       " ['019175.KS', 'Shin Poong Pharm.Co.,Ltd.\\n'],\n",
       " ['018880.KS', 'Hanon Systems\\n'],\n",
       " ['018260.KS', 'Samsung SDS Co., Ltd.\\n'],\n",
       " ['017940.KS', 'E1 Corporation\\n'],\n",
       " ['017810.KS', 'Pulmuone Co., Ltd.\\n'],\n",
       " ['016600.KQ', 'Q Capital Partners Co., Ltd.\\n'],\n",
       " ['015590.KS', 'Daekyung Machinery & Engineering Co., Ltd.\\n'],\n",
       " ['013120.KQ', 'Dong Won Development Co., Ltd.\\n'],\n",
       " ['012800.KS', 'Daechang Co., Ltd.\\n'],\n",
       " ['012750.KS', 'S-1 Corporation\\n'],\n",
       " ['012620.KQ', 'Wonil Special Steel Co. Ltd.\\n'],\n",
       " ['012330.KS', 'Hyundai Mobis Co.,Ltd\\n'],\n",
       " ['011560.KQ', 'Sebo Manufacturing Engineering Corp.\\n'],\n",
       " ['010600.KS', 'Ybroad Co.,Ltd.\\n'],\n",
       " ['010420.KS', 'Hansol PNS Co., Ltd.\\n'],\n",
       " ['010280.KQ', 'Ssangyong Information & Communications Corp.\\n'],\n",
       " ['010130.KS', 'Korea Zinc Co., Ltd.\\n'],\n",
       " ['010120.KS', 'LSIS Co., Ltd.\\n'],\n",
       " ['009620.KQ', 'Sambo Industrial Co., Ltd.\\n'],\n",
       " ['009540.KS', 'Hyundai Heavy Industries Co., Ltd.\\n'],\n",
       " ['009410.KS', 'Taeyoung Engineering & Construction Co.,Ltd.\\n'],\n",
       " ['009160.KS', 'SIMPAC Incorporation\\n'],\n",
       " ['008900.KS', 'TEC&Co Co., Ltd.\\n'],\n",
       " ['007770.KQ', 'Hanil Chemical Industrial Co. Ltd.\\n'],\n",
       " ['007575.KS', 'Ilyang Pharmaceutical Co., Ltd\\n'],\n",
       " ['007160.KS', 'Sajo Industries Company Limited\\n'],\n",
       " ['007070.KS', 'GSRetail Co., Ltd.\\n'],\n",
       " ['006910.KQ', 'Bosung Power Technology Co., Ltd.\\n'],\n",
       " ['006840.KS', 'AK Holdings, Inc.\\n'],\n",
       " ['006380.KS', 'Capro Corporation\\n'],\n",
       " ['005850.KS', 'SL Corporation\\n'],\n",
       " ['005800.KS', 'Shinyoungwacoal,Inc.\\n'],\n",
       " ['005720.KS', 'Nexen Corporation\\n'],\n",
       " ['005610.KS', 'SPC Samlip Co., Ltd.\\n'],\n",
       " ['005450.KS', 'Shinhan Eng & Const. Co.,Ltd\\n'],\n",
       " ['005389.KS', 'Hyundai Motor Company\\n'],\n",
       " ['005385.KS', 'Hyundai Motor Company\\n'],\n",
       " ['005380.KS', 'Hyundai Motor Company\\n'],\n",
       " ['004990.KS', 'Lotte Confectionery Co. Ltd.\\n'],\n",
       " ['004960.KS', 'Hanshin Engineering & Construction Co., Ltd.\\n'],\n",
       " ['004800.KS', 'Hyosung Corporation\\n'],\n",
       " ['004545.KS', 'KleanNara Co., Ltd.\\n'],\n",
       " ['004490.KS', 'Sebang Global Battery Co., Ltd.\\n'],\n",
       " ['004360.KS', 'sebang Co., Ltd.\\n'],\n",
       " ['004310.KS', 'Hyundai Pharmaceutical Co., Ltd.\\n'],\n",
       " ['004140.KS', 'Dongbang Transport Logistics Co., Ltd.\\n'],\n",
       " ['003800.KQ', 'Ace Bed Co., Ltd.\\n'],\n",
       " ['003550.KS', 'LG Corp.\\n'],\n",
       " ['003450.KS', 'Hyundai Securities Co., Ltd.\\n'],\n",
       " ['003075.KS', 'Kolon Global Corporation\\n'],\n",
       " ['002350.KS', 'Nexen Tire Corporation\\n'],\n",
       " ['002250.KS', 'Alvogen Korea Co., Ltd.\\n'],\n",
       " ['002000.KS', 'Hankuk Glass Industries Inc.\\n'],\n",
       " ['001880.KS', 'Samho International Co., Ltd.\\n'],\n",
       " ['001800.KS', 'ORION Holdings Corp.\\n'],\n",
       " ['001680.KS', 'Daesang Corporation\\n'],\n",
       " ['001550.KS', 'Chobi Company Limited\\n'],\n",
       " ['001520.KS', 'Tongyang Inc.\\n'],\n",
       " ['001230.KS', 'Dongkuk Steel Mill Company Limited\\n'],\n",
       " ['001020.KS', 'PaperCorea Inc.\\n'],\n",
       " ['000970.KS', 'Korea Cast Iron Pipe Ind. Co., Ltd.\\n'],\n",
       " ['000950.KS', 'Chonbang Co., Ltd.\\n'],\n",
       " ['000890.KS', 'Bohae Brewery Co., Ltd.\\n'],\n",
       " ['000830.KS', 'Samsung C&T Corporation\\n'],\n",
       " ['000725.KS', 'Hyundai Engineering & Construction Co., Ltd.\\n'],\n",
       " ['000720.KS', 'Hyundai Engineering & Construction Co., Ltd.\\n'],\n",
       " ['000327.KS', 'NOROO Holdings Co., Ltd.\\n'],\n",
       " ['000270.KS', 'Kia Motors Corporation\\n'],\n",
       " ['000120.KS', 'CJ Logistics Corporation\\n'],\n",
       " ['014200.KQ', 'KANGLIM Co., Ltd.\\n'],\n",
       " ['016385.KS', 'Dongbu Steel Co., Ltd.\\n'],\n",
       " ['136540.KQ', 'WINS Co.,LTD\\n'],\n",
       " ['000835.KS', 'Samsung C&T Corporation\\n'],\n",
       " ['068290.KS', 'Samsung Publishing Co., Ltd\\n'],\n",
       " ['092040.KQ', 'Amicogen,Inc.\\n'],\n",
       " ['083660.KQ', 'CSA Cosmic Co., Ltd.\\n'],\n",
       " ['033130.KQ', 'Digital Chosun Inc.\\n'],\n",
       " ['020120.KS', 'Daouincube, Inc.\\n'],\n",
       " ['014820.KS', 'Dongwon Systems Corporation\\n'],\n",
       " ['093190.KQ', 'Bixolon Co., Ltd\\n'],\n",
       " ['068060.KQ', 'KCW Corporation Co.Ltd.\\n'],\n",
       " ['059100.KQ', 'i-Components Co.,Ltd.\\n'],\n",
       " ['003545.KS', 'Daishin Securities Co., Ltd.\\n'],\n",
       " ['009200.KS', 'Moorim Paper Co., Ltd.\\n'],\n",
       " ['025880.KQ', 'KC Feed Co., Ltd.\\n'],\n",
       " ['007190.KS', 'Hansol Artone Paper Co., Ltd.\\n'],\n",
       " ['226440.KQ', 'DONGBU SPAC III\\n'],\n",
       " ['200710.KQ', 'ADTechnology\\n'],\n",
       " ['054210.KQ', 'Elentec Co., Ltd.\\n'],\n",
       " ['033100.KQ', 'Cheryong Electric Co.,Ltd.\\n'],\n",
       " ['106240.KQ', 'Finetechnix Co.,Ltd.\\n'],\n",
       " ['025770.KQ', 'Korea Information & Communications Co., Ltd.\\n'],\n",
       " ['024830.KQ', 'Sewon Corporation\\n'],\n",
       " ['002460.KS', 'Hwasung Industrial Co., Ltd.\\n'],\n",
       " ['051310.KS', 'Posco Plantec Co., Ltd.\\n'],\n",
       " ['038070.KQ', 'Seoulinbioscience Co. Ltd.\\n'],\n",
       " ['025900.KQ', 'Dongwha Enterprise Co., Ltd.\\n'],\n",
       " ['013720.KQ', 'Cheong Bo Industrial Co., Ltd.\\n'],\n",
       " ['039490.KS', 'Kiwoom Securities Co., Ltd.\\n'],\n",
       " ['087220.KQ', 'Steel Flower Co.,Ltd.\\n'],\n",
       " ['021045.KQ', 'DaeHo P&C Co.,Ltd.\\n'],\n",
       " ['000545.KS', 'Heungkuk Fire & Marine Insurance Co., Ltd.\\n'],\n",
       " ['500018.KS', 'Shinhan Copper Futures ETN(H)\\n'],\n",
       " ['023600.KQ', 'Sambo Corrugated Board Co., Ltd.\\n'],\n",
       " ['005320.KS', 'Kukdong Corporation\\n'],\n",
       " ['001525.KS', 'Tongyang Inc.\\n'],\n",
       " ['005010.KS', 'HUSTEEL CO., Ltd.\\n'],\n",
       " ['232140.KQ', 'YIKC\\n'],\n",
       " ['068870.KS', 'LG Life Sciences, Ltd.\\n'],\n",
       " ['001790.KS', 'TS Corporation\\n'],\n",
       " ['009290.KS', 'Kwang Dong Pharmaceutical Co., Ltd.\\n'],\n",
       " ['045100.KQ', 'Hanyang ENG Co., Ltd.\\n'],\n",
       " ['005745.KS', 'CROWNHAITAI Holdings CO.,LTD.\\n'],\n",
       " ['192400.KS', 'Cuckoo Electronics Co., Ltd.\\n'],\n",
       " ['066700.KQ', 'Theragen Etex Co.,Ltd.\\n'],\n",
       " ['036570.KS', 'NCsoft Corporation\\n'],\n",
       " ['011790.KS', 'SKC Co., Ltd.\\n'],\n",
       " ['015750.KQ', 'Sungwoo Hitech Co., Ltd.\\n'],\n",
       " ['217620.KQ', 'Hanwha ACPC SPAC\\n'],\n",
       " ['550009.KS', 'QV Hardware TOP5 ETN\\n'],\n",
       " ['056090.KQ', 'U&I\\n'],\n",
       " ['214320.KS', 'Innocean Worldwide Inc.\\n'],\n",
       " ['051900.KS', 'LG Household & Health Care Ltd.\\n'],\n",
       " ['039020.KQ', 'EAGON Windows & Doors Co., Ltd.\\n'],\n",
       " ['001465.KS', 'BYC Co., Ltd.\\n'],\n",
       " ['003470.KS', 'Yuanta Securities Korea Co., Ltd.\\n'],\n",
       " ['75A511.KS', 'NOMURAA511KOSPI200- C\\n'],\n",
       " ['001620.KS', 'Dongkook Ind.Co.,Ltd\\n'],\n",
       " ['048870.KQ', 'Core Logic Inc.\\n'],\n",
       " ['001740.KS', 'SK Networks Company Limited\\n'],\n",
       " ['015020.KS', 'E-Starco. Co. Ltd\\n'],\n",
       " ['026890.KS', 'Digital Power Communications Co.,Ltd.\\n'],\n",
       " ['082210.KQ', 'Optrontec Inc.\\n'],\n",
       " ['115180.KQ', 'Qurient\\n'],\n",
       " ['550014.KS', 'QV Biotech TOP5 ETN\\n'],\n",
       " ['550003.KS', 'QV Smart Rebalancing 250/3 ETN\\n'],\n",
       " ['550010.KS', 'QV Transportation TOP5 ETN\\n'],\n",
       " ['550004.KS', 'QV LongShort K150 Buy Low VOL S\\n'],\n",
       " ['550005.KS', 'QV Energy TOP5 ETN\\n'],\n",
       " ['550006.KS', 'QV Domestic consumer goods TOP5\\n'],\n",
       " ['550007.KS', 'QV Ship building TOP5 ETN\\n'],\n",
       " ['520001.KS', 'Daewoo Low VOL ETN\\n'],\n",
       " ['118000.KS', 'Wooridul Huebrain Ltd.\\n'],\n",
       " ['101170.KQ', 'Woorim Machinery Co., Ltd.\\n'],\n",
       " ['097800.KQ', 'WINPAC Inc.\\n'],\n",
       " ['046970.KQ', 'WOORIRO Co., Ltd.\\n'],\n",
       " ['500019.KS', 'Shinhan Leverage WTI Futures ET\\n'],\n",
       " ['215360.KQ', 'W.I.C\\n'],\n",
       " ['115440.KQ', 'Woori-Net Inc.\\n'],\n",
       " ['205100.KQ', 'XM\\n'],\n",
       " ['193250.KQ', 'YJM Games\\n'],\n",
       " ['122640.KQ', 'YEST\\n'],\n",
       " ['219960.KQ', 'Yuanta 2 SPAC\\n'],\n",
       " ['115960.KQ', 'YONWOO\\n'],\n",
       " ['580004.KS', 'able KQ Monthly Best 11 ETN\\n'],\n",
       " ['138360.KQ', 'ACT Co., Ltd.\\n'],\n",
       " ['215090.KQ', 'Eugene ACPC SPAC2\\n'],\n",
       " ['235010.KQ', 'HI AI 1 SPAC\\n'],\n",
       " ['095570.KS', 'AJ Networks Co., Ltd.\\n'],\n",
       " ['196170.KQ', 'Alteogen\\n'],\n",
       " ['117670.KQ', 'Alphachips Inc.\\n'],\n",
       " ['123750.KQ', 'Alton Sports Co., Ltd.\\n'],\n",
       " ['065660.KQ', 'ANTEROGEN\\n'],\n",
       " ['121600.KQ', 'ANP\\n'],\n",
       " ['094170.KQ', 'DONGWOON ANATECH\\n'],\n",
       " ['530006.KS', 'Samsung Food and Beverage Theme\\n'],\n",
       " ['211270.KQ', 'APSI\\n'],\n",
       " ['054620.KQ', 'Advanced Process Systems Corporation\\n'],\n",
       " ['183190.KS', 'Asia Cement Co. Ltd.\\n'],\n",
       " ['127710.KQ', 'ASIA BUSINESS DAILY\\n'],\n",
       " ['067390.KQ', 'ASTK\\n'],\n",
       " ['085620.KS', 'Mirae Asset Life Insurance Co., Ltd.\\n'],\n",
       " ['900110.KQ', 'East Asia Holdings Investment Limited\\n'],\n",
       " ['090470.KQ', 'Jastech, Ltd.\\n'],\n",
       " ['224110.KQ', 'ATEC T&\\n'],\n",
       " ['182400.KQ', 'ATGen\\n'],\n",
       " ['152330.KS', 'Korea Auto Glass Co., Ltd.\\n'],\n",
       " ['950110.KQ', 'SBI AXES Co., Ltd.\\n'],\n",
       " ['200780.KQ', 'BCWORLDPHARM\\n'],\n",
       " ['208710.KQ', 'BIOLOG DEVICE\\n'],\n",
       " ['217730.KQ', 'KANGSTEM BIOTECH\\n'],\n",
       " ['530005.KS', 'Samsung Biotechnology Theme ETN\\n'],\n",
       " ['060900.KQ', 'L Energy CO., Ltd.\\n'],\n",
       " ['207760.KQ', 'Mr. Blue\\n'],\n",
       " ['008470.KQ', 'BOOSTER\\n'],\n",
       " ['206640.KQ', 'Boditech\\n'],\n",
       " ['225530.KQ', 'BoKwang Industry\\n'],\n",
       " ['500004.KS', 'Shinhan Brent Futures ETN(H)\\n'],\n",
       " ['500001.KS', 'Shinhan K200 USD Futures BuySel\\n'],\n",
       " ['590001.KS', 'Mirae Asset Securities Co., Ltd.\\n'],\n",
       " ['500002.KS', 'Shinhan USD K200 Futures BuySel\\n'],\n",
       " ['049180.KQ', 'Cellumed Co., Ltd.\\n'],\n",
       " ['053300.KQ', 'The Korea Information Certificate Authority, Incorporated\\n'],\n",
       " ['570007.KS', 'TRUE RMB China 5-Year Treasury\\n'],\n",
       " ['570006.KS', 'TRUE Inverse China H ETN(H)\\n'],\n",
       " ['530014.KS', 'Samsung China A50 Futures ETN(H\\n'],\n",
       " ['001045.KS', 'CJ Corporation\\n'],\n",
       " ['011155.KS', 'CJ Seafood Corporation\\n'],\n",
       " ['001040.KS', 'CJ Corporation\\n'],\n",
       " ['097955.KS', 'CJ Cheiljedang Corporation\\n'],\n",
       " ['011150.KS', 'CJ Seafood Corporation\\n'],\n",
       " ['900120.KQ', 'CKH\\n'],\n",
       " ['221610.KQ', 'Hansol CNP\\n'],\n",
       " ['900250.KQ', 'Crystal New Material\\n'],\n",
       " ['000590.KS', 'CS Holdings Co., Ltd.\\n'],\n",
       " ['112610.KS', 'CS Wind Corporation\\n'],\n",
       " ['225650.KQ', 'Cuchen\\n'],\n",
       " ['160980.KQ', 'CYMECHS\\n'],\n",
       " ['520003.KS', 'Daewoo Commodity Futures ETN(H)\\n'],\n",
       " ['196490.KQ', 'DA Technology Co.,Ltd.\\n'],\n",
       " ['215480.KQ', 'TOEBOX KOREA\\n'],\n",
       " ['215580.KQ', 'DAEWOO SPAC 3\\n'],\n",
       " ['520006.KS', 'Daewoo EnergyChemicals Core5 ET\\n'],\n",
       " ['520005.KS', 'Daewoo Inverse Electronics Core\\n'],\n",
       " ['140520.KQ', 'DaeChang Steel Co., Ltd.\\n'],\n",
       " ['217270.KQ', 'Neptune\\n'],\n",
       " ['520004.KS', 'Daewoo Electronics Core5 ETN\\n'],\n",
       " ['113810.KQ', 'Dgenx Co., Ltd.\\n'],\n",
       " ['500012.KS', 'Shinhan Inverse DI Futures ETN(\\n'],\n",
       " ['500011.KS', 'Shinhan DI Futures ETN(H)\\n'],\n",
       " ['530001.KS', 'Samsung High Div Europe Equity\\n'],\n",
       " ['500009.KS', 'Shinhan DJIA Futures ETN(H)\\n'],\n",
       " ['049520.KQ', 'DK UIL Co., Ltd.\\n'],\n",
       " ['230490.KQ', 'DONGBU SPAC IV\\n'],\n",
       " ['192080.KQ', 'DoubleUGames\\n'],\n",
       " ['002690.KS', 'Dongil Steel Mfg. Co.,Ltd.\\n'],\n",
       " ['004840.KS', 'DRB Holding Co., Ltd.\\n'],\n",
       " ['155660.KS', 'DSR Corp\\n'],\n",
       " ['187220.KQ', 'DTNC\\n'],\n",
       " ['213420.KQ', 'DUK SAN NEOLUX\\n'],\n",
       " ['210540.KS', 'DY Power Corporation\\n'],\n",
       " ['225440.KQ', 'EBEST SPAC3\\n'],\n",
       " ['217600.KQ', 'CHEMON\\n'],\n",
       " ['173940.KQ', 'FNC Entertainment Co., Ltd.\\n'],\n",
       " ['223310.KQ', 'ESV\\n'],\n",
       " ['570008.KS', 'TRUE SectorTopPick ETN\\n'],\n",
       " ['530008.KS', 'Samsung Media Theme ETN\\n'],\n",
       " ['530003.KS', 'Samsung Momentum Top Pick ETN\\n'],\n",
       " ['530004.KS', 'Samsung Cosmetics Theme ETN\\n'],\n",
       " ['500014.KS', 'Shinhan Inverse Corn Futures ET\\n'],\n",
       " ['530007.KS', 'Samsung Leisure Theme ETN\\n'],\n",
       " ['500017.KS', 'Shinhan Silver Futures ETN(H)\\n'],\n",
       " ['500016.KS', 'Shinhan Gold Futures ETN(H)\\n'],\n",
       " ['530013.KS', 'Samsung KTOP30 ETN\\n'],\n",
       " ['500013.KS', 'Shinhan Corn Futures ETN(H)\\n'],\n",
       " ['500015.KS', 'Shinhan WTI Futures ETN(H)\\n'],\n",
       " ['530019.KS', 'Samsung US Large Cap Growth ETN\\n'],\n",
       " ['530012.KS', 'Samsung Chemicals Theme ETN\\n'],\n",
       " ['221200.KQ', 'EUGENE SPAC III\\n'],\n",
       " ['092870.KQ', 'EXICON\\n'],\n",
       " ['185490.KQ', 'Eyegene\\n'],\n",
       " ['033290.KQ', 'Cowell Fashion Co., Ltd.\\n'],\n",
       " ['189690.KQ', 'FORCS\\n'],\n",
       " ['215100.KQ', 'Hana Must Fourth SPAC\\n'],\n",
       " ['570001.KS', 'TRUE KOSPI Long Futures Short C\\n'],\n",
       " ['500005.KS', 'Shinhan Inverse Brent Futures E\\n'],\n",
       " ['192410.KQ', 'Gamma Nu Inc.\\n'],\n",
       " ['194510.KQ', 'PATI Games Corporation\\n'],\n",
       " ['063080.KQ', 'GAMEVIL Inc.\\n'],\n",
       " ['142280.KQ', 'GCMS\\n'],\n",
       " ['187420.KQ', 'GenoFocus\\n'],\n",
       " ['217190.KQ', 'Genesem\\n'],\n",
       " ['049080.KQ', 'GigaLane Co., Ltd.\\n'],\n",
       " ['130740.KQ', 'TPC Global\\n'],\n",
       " ['206660.KQ', 'Goldenbridge SPAC 2\\n'],\n",
       " ['219580.KQ', 'Goldenbridge SPAC III\\n'],\n",
       " ['215000.KQ', 'GOLFZON\\n'],\n",
       " ['159650.KS', 'Hi Gold Ocean Kmarin No.8 Ship Investment Company\\n'],\n",
       " ['227950.KQ', 'Goldenbridge SPAC 4\\n'],\n",
       " ['006360.KS', 'GS Engineering & Construction Corporation\\n'],\n",
       " ['208370.KQ', 'SELVAS Healthcare\\n'],\n",
       " ['215380.KQ', 'WOOJUNG BSC\\n'],\n",
       " ['076610.KQ', 'Haesung Optics Co., Ltd.\\n'],\n",
       " ['214680.KQ', 'DRTECH\\n'],\n",
       " ['219860.KQ', 'HA SPAC 2\\n'],\n",
       " ['208870.KQ', 'Hana Must Third SPAC\\n'],\n",
       " ['123690.KS', 'Hankook Cosmetics Co., Ltd.\\n'],\n",
       " ['900090.KQ', 'China HaoRan Recycling Company Limited\\n'],\n",
       " ['230240.KQ', 'Hana Financial Seventh SPAC\\n'],\n",
       " ['213500.KS', 'Hansol Paper Co., Ltd.\\n'],\n",
       " ['218150.KQ', 'Hana Must 5th SPAC\\n'],\n",
       " ['58A598.KS', 'HDSA598KOSPI200- C\\n'],\n",
       " ['214870.KQ', 'HDPRO\\n'],\n",
       " ['075580.KS', 'Sejin Heavy Industries Co., Ltd.\\n'],\n",
       " ['010240.KQ', 'Heungkuk Metaltech Co., Ltd.\\n'],\n",
       " ['200470.KQ', 'HISEM\\n'],\n",
       " ['221840.KQ', 'HIZEAERO\\n'],\n",
       " ['149980.KQ', 'Hironic\\n'],\n",
       " ['217500.KQ', 'HI-3 SPAC\\n'],\n",
       " ['900180.KQ', 'Wanli International Holdings Limited\\n'],\n",
       " ['900080.KQ', 'S&C Engine Group Limited\\n'],\n",
       " ['900050.KS', 'China Ocean Resources Co., Ltd.\\n'],\n",
       " ['900130.KQ', 'Wayport (H.K.) Co. Ltd.\\n'],\n",
       " ['226340.KQ', 'HMCIBNo.3SPAC\\n'],\n",
       " ['900140.KS', 'Kolao Holdings\\n'],\n",
       " ['094840.KQ', 'Suprema HQ Inc.\\n'],\n",
       " ['214330.KS', 'Kumho HT, Inc.\\n'],\n",
       " ['200670.KQ', 'Humedix\\n'],\n",
       " ['221950.KQ', 'KB 3rd SPAC\\n'],\n",
       " ['145020.KQ', 'Hugel\\n'],\n",
       " ['170030.KQ', 'Hyundai Industrial Co., Ltd.\\n'],\n",
       " ['189980.KQ', 'Hyungkuk F&B\\n'],\n",
       " ['227840.KS', 'HYUNDAI CORPORATION HOLDINGS Co.,Ltd.\\n'],\n",
       " ['226360.KQ', 'KB 4th SPAC\\n'],\n",
       " ['230980.KQ', 'Soltworks\\n'],\n",
       " ['225430.KQ', 'IBKS No.3 SPAC\\n'],\n",
       " ['068940.KQ', 'ICK Co., Ltd.\\n'],\n",
       " ['143160.KQ', 'IDIS\\n'],\n",
       " ['220630.KQ', 'Haimarrow\\n'],\n",
       " ['226350.KQ', 'IMTECH\\n'],\n",
       " ['122900.KS', 'iMarketKorea Inc.\\n'],\n",
       " ['145210.KS', 'Saehwa IMC Co., Ltd.\\n'],\n",
       " ['114810.KQ', 'Iones Co., Ltd.\\n'],\n",
       " ['226320.KS', \"It'S Hanbul Co., Ltd.\\n\"],\n",
       " ['124500.KQ', 'ITCEN\\n'],\n",
       " ['225570.KQ', 'NAT GAMES\\n'],\n",
       " ['194370.KS', 'JS Corporation\\n'],\n",
       " ['001060.KS', 'JW Pharmaceutical Corporation\\n'],\n",
       " ['214270.KQ', 'FSN\\n'],\n",
       " ['208640.KQ', 'Thumbage\\n'],\n",
       " ['222390.KQ', 'KB No.8 SPAC\\n'],\n",
       " ['232270.KQ', 'KB No.9 SPAC\\n'],\n",
       " ['208350.KQ', 'JS.\\n'],\n",
       " ['009440.KS', 'KC Green Holdings Co., Ltd.\\n'],\n",
       " ['221980.KQ', 'KDCHEM\\n'],\n",
       " ['001390.KS', 'KG Chemical Corporation\\n'],\n",
       " ['093320.KQ', 'KINX\\n'],\n",
       " ['226850.KQ', 'Kiwoom No.4 SPAC\\n'],\n",
       " ['218710.KQ', 'Kiwoom No.3 SPAC\\n'],\n",
       " ['001940.KS', 'KISCO Holdings Corp.\\n'],\n",
       " ['067570.KQ', 'NVH Korea Inc.\\n'],\n",
       " ['114090.KS', 'Grand Korea Leisure Co., Ltd.\\n'],\n",
       " ['192440.KQ', 'Spigen Korea Co., Ltd\\n'],\n",
       " ['071850.KQ', 'CASTEC KOREA Co., Ltd.\\n'],\n",
       " ['102940.KQ', 'Kolon Life Science Inc.\\n'],\n",
       " ['224060.KQ', 'KODI-M\\n'],\n",
       " ['222080.KQ', 'CIS\\n'],\n",
       " ['083420.KS', 'KPX Green Chemical Co., Ltd.\\n'],\n",
       " ['025850.KS', 'Hanwha Fine Chemical Co., Ltd.\\n'],\n",
       " ['025000.KS', 'KPX Chemical Co.,Ltd\\n'],\n",
       " ['012200.KS', 'Keyang Electric Machinery Co., Ltd.\\n'],\n",
       " ['050540.KQ', 'MPC Ltd.\\n'],\n",
       " ['092070.KQ', 'DNF Co.,Ltd.\\n'],\n",
       " ['046310.KQ', 'BG T&A Co., Ltd.\\n'],\n",
       " ['024910.KQ', 'Kyungchang Industrial Co. Ltd.\\n'],\n",
       " ['012030.KS', 'Dongbu Inc.\\n'],\n",
       " ['001750.KS', 'Hanyang Securities Co. Ltd.\\n'],\n",
       " ['004370.KS', 'NongShim Co., Ltd.\\n'],\n",
       " ['008370.KQ', 'Wonpoong Corporation\\n'],\n",
       " ['065530.KQ', 'KRTnet Corp.\\n'],\n",
       " ['053950.KQ', 'Kyung Nam Pharm Co., Ltd.\\n'],\n",
       " ['080010.KQ', 'eSANG Networks Co., Ltd.\\n'],\n",
       " ['091590.KQ', 'Nam Hwa Construction Co. Ltd.\\n'],\n",
       " ['013310.KQ', 'A-JIN INDUSTRY\\n'],\n",
       " ['064240.KQ', 'homecast Co., Ltd.\\n'],\n",
       " ['039570.KS', 'I Controls Inc.\\n'],\n",
       " ['000080.KS', 'HITEJINRO Co., Ltd.\\n'],\n",
       " ['045060.KQ', 'Okong Corp.\\n'],\n",
       " ['104480.KQ', 'TK CHEMICAL\\n'],\n",
       " ['004365.KS', 'sebang Co., Ltd.\\n'],\n",
       " ['052220.KQ', 'iMBC Co., Ltd.\\n'],\n",
       " ['005990.KQ', 'Maeil Dairies Co., Ltd.\\n'],\n",
       " ['078070.KQ', 'Ubiquoss Inc.\\n'],\n",
       " ['014910.KS', 'Sungmoon Electronics Co., Ltd.\\n'],\n",
       " ['049770.KS', 'Dongwon F&B Co., Ltd.\\n'],\n",
       " ['002290.KQ', 'Samil Enterprise Co. Ltd.\\n'],\n",
       " ['060560.KQ', 'Home Center Co., Ltd.\\n'],\n",
       " ['138690.KQ', 'LIS Co., Ltd.\\n'],\n",
       " ['101390.KQ', 'IM CO., LTD.\\n'],\n",
       " ['083380.KS', 'Dongbuka No.13 Ship Investment Company\\n'],\n",
       " ['005180.KS', 'Binggrae Co., Ltd.\\n'],\n",
       " ['091580.KQ', 'Sangsin Energy Display Precision Co.,Ltd.\\n'],\n",
       " ['002600.KS', 'Choheung Corporation\\n'],\n",
       " ['052260.KQ', 'Bioland Co., Ltd\\n'],\n",
       " ['109080.KQ', 'Opticis Co., Ltd\\n'],\n",
       " ['021650.KQ', 'Cubic Korea Inc.\\n'],\n",
       " ['004450.KS', 'Samhwa Crown & Closure Co., Ltd\\n'],\n",
       " ['014470.KQ', 'Bubang Co., Ltd.\\n'],\n",
       " ['140890.KS', 'TRUS Y7 REIT Co. Ltd.\\n'],\n",
       " ['046390.KQ', 'Samhwa Networks Co. Ltd.\\n'],\n",
       " ['023150.KS', 'MH Ethanol Co.,Ltd.\\n'],\n",
       " ['075130.KQ', 'Plantynet Co., Ltd.\\n'],\n",
       " ['017370.KS', 'Wooshin Systems Co., Ltd.\\n'],\n",
       " ['027830.KQ', 'Daesung Private Equity, Inc.\\n'],\n",
       " ['007980.KS', 'Pan-Pacific Co., Ltd.\\n'],\n",
       " ['133750.KQ', 'MegaMD\\n'],\n",
       " ['042520.KQ', 'Hans Biomed Corporation\\n'],\n",
       " ['007570.KS', 'Ilyang Pharmaceutical Co., Ltd\\n'],\n",
       " ['051780.KQ', 'CURO HOLDINGS Co., Ltd.\\n'],\n",
       " ['080520.KQ', 'OD Tech Co., Ltd.\\n'],\n",
       " ['015710.KQ', 'Kocom Co., Ltd.\\n'],\n",
       " ['000215.KS', 'Daelim Industrial Co., Ltd.\\n'],\n",
       " ['008700.KS', 'Anam Electronics Co.,Ltd.\\n'],\n",
       " ['039240.KQ', 'Kyeong Nam Steel Co., Ltd.\\n'],\n",
       " ['058850.KS', 'KTCS Corporation\\n'],\n",
       " ['052190.KQ', 'Softmax Co.,Ltd.\\n'],\n",
       " ['194610.KQ', 'Woosung I.B. Co., Ltd.\\n'],\n",
       " ['080470.KQ', 'Sungchang Autotech Co., Ltd.\\n'],\n",
       " ['028150.KQ', 'GS Home Shopping Inc.\\n'],\n",
       " ['119850.KQ', 'GnCenergy Co.,Ltd\\n'],\n",
       " ['039200.KQ', 'Oscotec Inc.\\n'],\n",
       " ['011500.KS', 'Hannong Chemicals Inc.\\n'],\n",
       " ['007197.KS', 'Hansol Artone Paper Co., Ltd.\\n'],\n",
       " ['177830.KQ', 'Pavonine Co., Ltd.\\n'],\n",
       " ['012790.KQ', 'Shinil Pharmaceutical Co., Ltd.\\n'],\n",
       " ['084650.KQ', 'LabGen\\n'],\n",
       " ['013570.KS', 'DY Corporation\\n'],\n",
       " ['222980.KQ', 'Mcnulty\\n'],\n",
       " ['086790.KS', 'Hana Financial Group Inc.\\n'],\n",
       " ['006805.KS', 'Mirae Asset Daewoo Co., Ltd.\\n'],\n",
       " ['017000.KQ', 'SHINWON Construction co.,Ltd.\\n'],\n",
       " ['004690.KS', 'Samchully Co.,Ltd\\n'],\n",
       " ['050110.KQ', 'CammSys Corp.\\n'],\n",
       " ['008110.KS', 'Daidong Electronics Co. Ltd.\\n'],\n",
       " ['170900.KS', 'Dong-A ST Co., Ltd.\\n'],\n",
       " ['014160.KS', 'Dae Young Packaging Co., Ltd.\\n'],\n",
       " ['204440.KQ', 'Daewoo Special Purpose Acquisition 2 Co., Ltd.\\n'],\n",
       " ['096775.KS', 'SK Innovation Co., Ltd.\\n'],\n",
       " ['066910.KQ', 'Sonokong Co.,Ltd.\\n'],\n",
       " ['033790.KQ', 'Seohwa Telecom Co.\\n'],\n",
       " ['007210.KS', 'Byucksan Corporation\\n'],\n",
       " ['035200.KQ', 'PlumbFast Co., Ltd.\\n'],\n",
       " ['080530.KQ', 'KODI-S Co., Ltd.\\n'],\n",
       " ['107590.KS', 'Miwon Holdings Co.,Ltd.\\n'],\n",
       " ['023760.KQ', 'Han Kook Capital Co. Ltd.\\n'],\n",
       " ['141070.KQ', 'MAXROTEC Co., Ltd.\\n'],\n",
       " ['006390.KS', 'Hyundai Cement Co., Ltd.\\n'],\n",
       " ['131090.KQ', 'Secuve Co., Ltd.\\n'],\n",
       " ['161000.KS', 'Aekyung Petrochemical Co., Ltd\\n'],\n",
       " ['030190.KQ', 'NICE Information Service Co., Ltd.\\n'],\n",
       " ['028260.KS', 'Samsung C&T Corporation\\n'],\n",
       " ['043650.KQ', 'Kooksoondang Brewery Co.,Ltd.\\n'],\n",
       " ['009190.KS', 'Daiyang Metal Co., Ltd.\\n'],\n",
       " ['139480.KS', 'E-MART Inc.\\n'],\n",
       " ['008420.KS', 'MoonBae Steel Co., Ltd.\\n'],\n",
       " ['065770.KQ', 'CS Corporation\\n'],\n",
       " ['061970.KQ', 'LB Semicon Inc.\\n'],\n",
       " ['109070.KS', 'Korea Green Paper Manufacturing Co., Ltd.\\n'],\n",
       " ['038950.KQ', 'Fine Digital Inc.\\n'],\n",
       " ['205470.KQ', 'HI Special Purpose Acquisition Company II\\n'],\n",
       " ['191420.KQ', 'TegoScience Inc.\\n'],\n",
       " ['039440.KQ', 'STI Co., Ltd.\\n'],\n",
       " ['037230.KQ', 'Hankuk Package Co. Ltd.\\n'],\n",
       " ['095340.KQ', 'ISC Co., Ltd.\\n'],\n",
       " ['120110.KS', 'Kolon Industries, Inc.\\n'],\n",
       " ['039420.KQ', 'KL-Net Corp.\\n'],\n",
       " ['003920.KS', 'NamYang Dairy Products Co., Ltd\\n'],\n",
       " ['115310.KQ', 'Infovine Co., Ltd.\\n'],\n",
       " ['053060.KQ', 'Sae Dong Co. Ltd.\\n'],\n",
       " ['131970.KQ', 'Tesna Company Ltd.\\n'],\n",
       " ['039310.KQ', 'Sejoong Co., Ltd.\\n'],\n",
       " ['063160.KS', 'Ckd Bio Corporation\\n'],\n",
       " ['032820.KQ', 'Woori Technology, Inc.\\n'],\n",
       " ['096690.KQ', 'Sewoo Tech Co.,Ltd.\\n'],\n",
       " ['073110.KQ', 'LMS Co., Ltd.\\n'],\n",
       " ['011200.KS', 'Hyundai Merchant Marine Co.,Ltd.\\n'],\n",
       " ['079000.KQ', 'Watos Corea Co Ltd\\n'],\n",
       " ['102260.KS', 'DongSung Corporation\\n'],\n",
       " ['004560.KS', 'Hyundai Bng Steel Co., Ltd.\\n'],\n",
       " ['061460.KQ', 'Hanjin Printing & Chemical Co., Ltd.\\n'],\n",
       " ['009270.KS', 'ShinWon Corporation\\n'],\n",
       " ['086960.KQ', 'MDS Technology Co. Ltd.\\n'],\n",
       " ['003419.KS', 'Ssangyong Cement Industrial Co., Ltd.\\n'],\n",
       " ['053870.KQ', 'GT&T Co. Ltd.\\n'],\n",
       " ['038110.KQ', 'Ecoplastic Corporation\\n'],\n",
       " ['036690.KQ', 'COMMAX Co., Ltd.\\n'],\n",
       " ['033160.KQ', 'MK Electron Co. Ltd.\\n'],\n",
       " ['019010.KQ', 'Grand Department Store Co. Ltd.\\n'],\n",
       " ['006405.KS', 'Samsung SDI Co., Ltd.\\n'],\n",
       " ['119860.KQ', 'Danawa Co.,Ltd\\n'],\n",
       " ['002100.KS', 'Kyung Nong Corporation\\n'],\n",
       " ['044060.KQ', 'Jokwang ILI Co. Ltd.\\n'],\n",
       " ['026910.KQ', 'Kwang Jin Industry Co., Ltd.\\n'],\n",
       " ['010470.KQ', 'Oricom Inc.\\n'],\n",
       " ['010770.KS', 'Pyung Hwa Holdings Co., Ltd.\\n'],\n",
       " ['212560.KQ', 'NEOOTO\\n'],\n",
       " ['031440.KS', 'SHINSEGAE FOOD Inc.\\n'],\n",
       " ['089030.KQ', 'TechWing, Inc.\\n'],\n",
       " ['008260.KS', 'N.I Steel Co.,Ltd\\n'],\n",
       " ['032080.KQ', 'Aztech WB Co. Ltd.\\n'],\n",
       " ['042370.KQ', 'Vitzro Tech Co., Ltd.\\n'],\n",
       " ['090360.KQ', 'Robostar Co., Ltd.\\n'],\n",
       " ['078600.KQ', 'Daejoo Electronic Materials Co., Ltd.\\n'],\n",
       " ['096530.KQ', 'Seegene, Inc.\\n'],\n",
       " ['144620.KS', 'Kolon Fashion Material, Inc.\\n'],\n",
       " ['109860.KQ', 'Dongil Metal Co., Ltd.\\n'],\n",
       " ['041190.KQ', 'Woori Technology Investment Co. Ltd.\\n'],\n",
       " ['009275.KS', 'ShinWon Corporation\\n'],\n",
       " ['083310.KQ', 'LOT Vacuum Co., Ltd.\\n'],\n",
       " ['134380.KS', 'Miwon Chemicals Co., Ltd.\\n'],\n",
       " ['067010.KQ', 'ECS Telecom Co. Ltd\\n'],\n",
       " ['065150.KQ', 'MPK Group Inc.\\n'],\n",
       " ['085910.KQ', 'Neo Technical System Co., Ltd.\\n'],\n",
       " ['017390.KS', 'Seoul City Gas Co., Ltd.\\n'],\n",
       " ['065690.KQ', 'Daejin DMP Co. Ltd.\\n'],\n",
       " ['000300.KS', 'Dayou Plus Co., Ltd.\\n'],\n",
       " ['046890.KQ', 'Seoul Semiconductor Co., Ltd.\\n'],\n",
       " ['021320.KQ', 'KCC Engineering & Construction Co., Ltd.\\n'],\n",
       " ['109610.KQ', 'SYPANEL\\n'],\n",
       " ['015350.KS', 'Busan City Gas Co., Ltd.\\n'],\n",
       " ['053350.KQ', 'INITECH Co., Ltd.\\n'],\n",
       " ['058220.KQ', 'Arion Technology Inc.\\n'],\n",
       " ['040420.KQ', 'JLS Co Ltd.\\n'],\n",
       " ['001720.KS', 'Shinyoung Securities Co., Ltd.\\n'],\n",
       " ['094820.KQ', 'Iljin Power Co., Ltd.\\n'],\n",
       " ['034950.KQ', 'Korea Ratings Co., Ltd.\\n'],\n",
       " ['204630.KQ', 'Huayi Brothers Korea\\n'],\n",
       " ['007340.KS', 'Dong AhTire & Rubber Co.,Ltd.\\n'],\n",
       " ['208140.KQ', 'JUNGDAWN\\n'],\n",
       " ['050090.KQ', 'Phoenix Materials Co., Ltd.\\n'],\n",
       " ['009320.KS', 'Daewoo Electronic Components Co., Ltd.\\n'],\n",
       " ['000325.KS', 'NOROO Holdings Co., Ltd.\\n'],\n",
       " ['054920.KQ', 'Hancom Secure Inc.\\n'],\n",
       " ['073570.KQ', 'AT technology Co., Ltd.\\n'],\n",
       " ['046210.KQ', 'Panagene Inc.\\n'],\n",
       " ['008800.KQ', 'Haengnam Chinaware Inc.\\n'],\n",
       " ['046940.KQ', 'Woowon Development Co., Ltd.\\n'],\n",
       " ['155650.KQ', 'Ymc Co., Ltd.\\n'],\n",
       " ['035080.KQ', 'Interpark Holdings Corporation\\n'],\n",
       " ['037560.KS', 'CJ HelloVision Co., Ltd.\\n'],\n",
       " ['036630.KQ', 'Sejong Telecom, Inc.\\n'],\n",
       " ['006110.KS', 'Sam-A Aluminium Company, Limited\\n'],\n",
       " ['052290.KQ', 'Trais Co., Ltd.\\n'],\n",
       " ['017900.KS', 'AUK Corp.\\n'],\n",
       " ['033230.KQ', 'Insung Information Co., Ltd\\n'],\n",
       " ['000250.KQ', 'Sam Chun Dang Pharm. Co.,Ltd\\n'],\n",
       " ['004920.KS', 'CITECH Co., Ltd.\\n'],\n",
       " ['024060.KQ', 'HeunguOil\\n'],\n",
       " ['060300.KQ', 'Redrover Co.,Ltd\\n'],\n",
       " ['014940.KQ', 'Oriental Precision & Engineering Co., Ltd.\\n'],\n",
       " ['031390.KQ', 'Green Cross Cell corporation\\n'],\n",
       " ['130500.KQ', 'Gumho N.T Co., Ltd.\\n'],\n",
       " ['005257.KS', 'Green Cross Holdings Corporation\\n'],\n",
       " ['032580.KQ', 'Fidelix Co., Ltd.\\n'],\n",
       " ['014680.KS', 'Hansol Chemical Co., Ltd.\\n'],\n",
       " ['000700.KS', 'Eusu Holdings Co., Ltd.\\n'],\n",
       " ['094280.KS', 'Hyosung ITX Co. Ltd.\\n'],\n",
       " ['001140.KS', 'Kukbo Logistics Co., Ltd.\\n'],\n",
       " ['006040.KS', 'Dongwon Industries Co., Ltd.\\n'],\n",
       " ['105560.KS', 'KB Financial Group Inc.\\n'],\n",
       " ['041930.KQ', 'Dong-A Hwasung Co., Ltd.\\n'],\n",
       " ['122690.KQ', 'Seojin Automotive Co.,Ltd.\\n'],\n",
       " ['024070.KS', 'Wiscom Co. Ltd.\\n'],\n",
       " ['034730.KS', 'SK Holdings Co., Ltd.\\n'],\n",
       " ['002030.KS', 'Asia Holdings Co., Ltd.\\n'],\n",
       " ['105840.KS', 'Woojin Inc.\\n'],\n",
       " ['041140.KQ', 'Nexon GT Co., Ltd.\\n'],\n",
       " ['029780.KS', 'Samsung Card Co., Ltd.\\n'],\n",
       " ['086830.KQ', 'Shinyang Auracom Display Co.,Ltd.\\n'],\n",
       " ['016710.KS', 'Daesung Holdings Co., Ltd.\\n'],\n",
       " ['000810.KS', 'Samsung Fire & Marine Insurance Co., Ltd.\\n'],\n",
       " ['053050.KQ', 'GSE Co., Ltd.\\n'],\n",
       " ['067770.KQ', 'Sejin T.S Co., Ltd.\\n'],\n",
       " ['215750.KQ', 'M-3 SPAC\\n'],\n",
       " ['024900.KS', 'Duckyang Ind. Co., Ltd.\\n'],\n",
       " ['006260.KS', 'LS Corp.\\n'],\n",
       " ['017550.KS', 'Soosan Heavy Industries Co., Ltd.\\n'],\n",
       " ['011300.KS', 'SEONGAN CO., Ltd.\\n'],\n",
       " ['101330.KQ', 'Mobase Co., Ltd.\\n'],\n",
       " ['036120.KQ', 'SCI Information Service Inc.\\n'],\n",
       " ['035460.KQ', 'Kisan Telecom Co., Ltd.\\n'],\n",
       " ['008500.KS', 'Il Jeong Industrial Co., Ltd.\\n'],\n",
       " ['014580.KS', 'Baek Kwang Mineral Products Co., Ltd\\n'],\n",
       " ['024950.KQ', 'Samchuly Bicycle Co., Ltd\\n'],\n",
       " ['023530.KS', 'Lotte Shopping Co., Ltd.\\n'],\n",
       " ['007370.KQ', 'Jin Yang Pharmaceutical Co., Ltd.\\n'],\n",
       " ['020150.KS', 'ILJIN Materials Co., Ltd.\\n'],\n",
       " ['014825.KS', 'Dongwon Systems Corporation\\n'],\n",
       " ['171010.KQ', 'Ram Technology Co., Ltd\\n'],\n",
       " ['008600.KS', 'The Willbes & CO., Ltd.\\n'],\n",
       " ['095720.KS', 'Woongjin Thinkbig Co., Ltd.\\n'],\n",
       " ['073070.KQ', 'NEXENTECH Inc.\\n'],\n",
       " ['000087.KS', 'HITEJINRO Co., Ltd.\\n'],\n",
       " ['000540.KS', 'Heungkuk Fire & Marine Insurance Co., Ltd.\\n'],\n",
       " ['013810.KQ', 'SPECO Ltd.\\n'],\n",
       " ['079660.KS', 'SAJOHAEPYO Corporation\\n'],\n",
       " ['011280.KS', 'Tailim Packaging Co., Ltd.\\n'],\n",
       " ['039230.KQ', 'soulbrain ENG Co., Ltd.\\n'],\n",
       " ['060480.KQ', 'KUKIL METAL\\n'],\n",
       " ['064960.KS', 'S&T Motiv Co., Ltd.\\n'],\n",
       " ['004770.KS', 'Sunny Electronics Corp.\\n'],\n",
       " ['050320.KQ', 'Smart Information Technology Global\\n'],\n",
       " ['064800.KQ', 'Feelingk Co. Ltd.\\n'],\n",
       " ['032350.KS', 'Lotte Tour Development Co., Ltd.\\n'],\n",
       " ['003465.KS', 'Yuhwa Securities Co., Ltd\\n'],\n",
       " ['151860.KQ', 'KG Eco Technology Services Co., Ltd.\\n'],\n",
       " ['095500.KQ', 'MNTech Co., Ltd.\\n'],\n",
       " ['002550.KS', 'KB Insurance Co., Ltd.\\n'],\n",
       " ['009680.KS', 'Motonic Corporation\\n'],\n",
       " ['170920.KQ', 'LTC Co., Ltd.\\n'],\n",
       " ['100220.KS', 'Visang Education Inc\\n'],\n",
       " ['026940.KS', 'Bookook Steel Co., Ltd.\\n'],\n",
       " ['002360.KS', 'SH Energy & Chemical Co., Ltd.\\n'],\n",
       " ['033920.KS', 'Muhak Co., Ltd.\\n'],\n",
       " ['182690.KQ', 'TerraSem\\n'],\n",
       " ['000520.KS', 'Samil Pharmaceutical Co.,Ltd\\n'],\n",
       " ['005820.KS', 'Wonlim Corporation\\n'],\n",
       " ['070300.KQ', 'Solacia Corp.\\n'],\n",
       " ['013030.KQ', 'Hy-Lok Corp.\\n'],\n",
       " ['073240.KS', 'Kumho Tire Co., Inc.\\n'],\n",
       " ['053260.KQ', 'Keum Kang Steel Co., Ltd.\\n'],\n",
       " ['096770.KS', 'SK Innovation Co., Ltd.\\n'],\n",
       " ['024090.KS', 'DCM Corp.\\n'],\n",
       " ['065450.KQ', 'Victek Co., Ltd.\\n'],\n",
       " ['039740.KQ', 'Korea Information Engineering Services Co., Ltd.\\n'],\n",
       " ['063170.KQ', 'Seoul Auction Co., Ltd.\\n'],\n",
       " ['011810.KS', 'STX Corporation\\n'],\n",
       " ['083600.KS', 'Asia Pacific No.13 Ship Investment co., Ltd.\\n'],\n",
       " ['000105.KS', 'Yuhan Corporation\\n'],\n",
       " ['000430.KS', 'Daewon Kang Up Co., Ltd.\\n'],\n",
       " ['071840.KS', 'LOTTE Himart Co.,Ltd.\\n'],\n",
       " ['058610.KQ', 'SPG Co., Ltd.\\n'],\n",
       " ['119830.KQ', 'ITEK Semiconductor, Inc.\\n'],\n",
       " ['222810.KQ', 'NICSTECH\\n'],\n",
       " ['032685.KQ', 'Softcen Co., Ltd.\\n'],\n",
       " ['023900.KQ', 'Pungguk Ethanol Industrial Co.,Ltd\\n'],\n",
       " ['067730.KQ', 'LOGISYS\\n'],\n",
       " ['061040.KQ', 'RFTech Co.,Ltd.\\n'],\n",
       " ['010690.KS', 'Hwashin Co., Ltd.\\n'],\n",
       " ['090430.KS', 'Amorepacific Corporation\\n'],\n",
       " ['037350.KQ', 'Sungdo Engineering & Construction Co. Ltd.\\n'],\n",
       " ['101670.KQ', 'Korea SE Corp.\\n'],\n",
       " ['065950.KQ', 'Welcron Company Limited\\n'],\n",
       " ['016920.KQ', 'CAS Corporation\\n'],\n",
       " ['024720.KS', 'Korea Kolmar Holdings Co., Ltd.\\n'],\n",
       " ['001130.KS', 'Daehan Flour Mills Co.,Ltd\\n'],\n",
       " ['074430.KQ', 'Aminologics Co., Ltd.\\n'],\n",
       " ['003200.KS', 'Ilshin Spinning Co., Ltd\\n'],\n",
       " ['002795.KS', 'AmorePacific Group\\n'],\n",
       " ['134780.KQ', 'Hwajin Co., Ltd.\\n'],\n",
       " ['016090.KS', 'Daehyun Co.,Ltd.\\n'],\n",
       " ['002230.KQ', 'PS TEC Co., Ltd.\\n'],\n",
       " ['042500.KQ', 'Ringnet Co., Ltd.\\n'],\n",
       " ['012205.KS', 'Keyang Electric Machinery Co., Ltd.\\n'],\n",
       " ['043910.KQ', 'Nature & Environment Co., Ltd.\\n'],\n",
       " ['019180.KS', 'THN Corporation\\n'],\n",
       " ['214450.KQ', 'PRP\\n'],\n",
       " ['004650.KQ', 'Changhae Ethanol Co., Ltd.\\n'],\n",
       " ['101680.KQ', 'HNK Machine Tool CO.,LTD.\\n'],\n",
       " ['049720.KQ', 'Koryo Credit Information Co., Ltd.\\n'],\n",
       " ['007690.KS', 'Kukdo Chemical Co., Ltd.\\n'],\n",
       " ['005680.KS', 'Samyoung Electronics Co., Ltd\\n'],\n",
       " ['033530.KS', 'Sejong Industrial Co., Ltd.\\n'],\n",
       " ['032750.KQ', 'SAMJIN Co., Ltd.\\n'],\n",
       " ['003300.KS', 'Hanil Cement. Co., Ltd.\\n'],\n",
       " ['068875.KS', 'LG Life Sciences, Ltd.\\n'],\n",
       " ['111820.KQ', 'CHEOUM & C Co., Ltd.\\n'],\n",
       " ['136510.KQ', 'Semisysco Co., Ltd\\n'],\n",
       " ['192530.KS', 'Kwangju Bank Co., Ltd.\\n'],\n",
       " ['010955.KS', 'S-Oil Corporation\\n'],\n",
       " ['074600.KQ', 'Wonik QnC Corporation\\n'],\n",
       " ['039670.KQ', 'The Sports Seoul Co., Ltd.\\n'],\n",
       " ['037710.KS', 'Gwangju Shinsegae Co., Ltd.\\n'],\n",
       " ['049550.KQ', 'InkTec Co., Ltd.\\n'],\n",
       " ['036420.KQ', 'Jcontentree corp.\\n'],\n",
       " ['088350.KS', 'Hanwha Life Insurance Co., Ltd.\\n'],\n",
       " ['009970.KS', 'Youngone Holdings Co., Ltd.\\n'],\n",
       " ['043710.KQ', 'Playtech Co., Ltd.\\n'],\n",
       " ['045970.KQ', 'CoAsia Holdings Co., Ltd.\\n'],\n",
       " ['017480.KQ', 'Samhyun Steel Co., Ltd.\\n'],\n",
       " ['016590.KS', 'Shindaeyang Paper Co., Ltd.\\n'],\n",
       " ['127160.KQ', 'MM\\n'],\n",
       " ['005620.KS', 'Daesung Group Partners Co., Ltd.\\n'],\n",
       " ['043150.KQ', 'Value Added Technology Co., Ltd.\\n'],\n",
       " ['039840.KQ', 'DIO Corporation\\n'],\n",
       " ['101060.KS', 'SBS Media Holdings Co., Ltd.\\n'],\n",
       " ['139200.KS', 'Hi Gold Ocean No.2 Ship Investment Co., Ltd.\\n'],\n",
       " ['003410.KS', 'Ssangyong Cement Industrial Co., Ltd.\\n'],\n",
       " ['002410.KS', 'Bumyang Construction Co.,Ltd.\\n'],\n",
       " ['013367.KS', 'Ilsung Construction Co., Ltd.\\n'],\n",
       " ['060910.KQ', 'PREGEN\\n'],\n",
       " ['094860.KQ', 'KORNIC GLORY Co., Ltd.\\n'],\n",
       " ['100660.KQ', 'Seoam Machinery Industry Company Ltd.\\n'],\n",
       " ['025820.KS', 'LeeKu Industrial Co., Ltd.\\n'],\n",
       " ['065130.KQ', 'Top Engineering Co. Ltd.\\n'],\n",
       " ['012690.KS', 'Monalisa Co., Ltd\\n'],\n",
       " ['011720.KS', 'Hyundai Paint Co., Ltd.\\n'],\n",
       " ['051160.KQ', 'GaeaSoft Corp.\\n'],\n",
       " ['200130.KQ', 'KolmarBNH Co., Ltd.\\n'],\n",
       " ['041590.KQ', 'GemVax Technology Co., Ltd.\\n'],\n",
       " ['046140.KQ', 'SBS Contents Hub Co.,Ltd.\\n'],\n",
       " ['158310.KQ', 'INTERBULLS\\n'],\n",
       " ['092630.KS', 'Badaro No 3 Ship Investment Co.\\n'],\n",
       " ['084180.KQ', 'Soosung Lift Mfg. Co., Ltd.\\n'],\n",
       " ['048910.KQ', 'Daewon Media Co., Ltd.\\n'],\n",
       " ['100250.KS', 'Chinyang Holdings Corp.\\n'],\n",
       " ['023350.KS', 'Korea Engineering Consultants Corp.\\n'],\n",
       " ['083590.KS', 'Asia Pacific No.12 Ship Investment co., Ltd.\\n'],\n",
       " ['024660.KQ', 'Harim Holdings Co.,Ltd.\\n'],\n",
       " ['014915.KS', 'Sungmoon Electronics Co., Ltd.\\n'],\n",
       " ['066270.KQ', 'SK Communications Co., Ltd.\\n'],\n",
       " ['004380.KS', 'Samick THK Co., Ltd.\\n'],\n",
       " ['006880.KS', 'Singsong Holdings Co., Ltd.\\n'],\n",
       " ['082850.KQ', 'Wooree ETI Co., Ltd.\\n'],\n",
       " ['001780.KS', 'Aluko Co., Ltd.\\n'],\n",
       " ['028040.KQ', 'PARK & OPC Co., Ltd.\\n'],\n",
       " ['078650.KQ', 'Kolen Co. Ltd.\\n'],\n",
       " ['140410.KQ', 'Mezzion Pharma Co.,Ltd.\\n'],\n",
       " ['115480.KQ', 'CU Medical Systems, Inc.\\n'],\n",
       " ['008040.KS', 'Sajodongaone Co.,Ltd.\\n'],\n",
       " ['090740.KQ', 'Younyi Information & Communication Co. Ltd\\n'],\n",
       " ['047920.KQ', 'C-TRI\\n'],\n",
       " ['032850.KQ', 'BIT Computer Co. Ltd.\\n'],\n",
       " ['005950.KS', 'ISU Chemical Co., Ltd\\n'],\n",
       " ['019490.KS', 'Hitron Systems Inc.\\n'],\n",
       " ['100700.KQ', 'Sewoon Medical Co., Ltd\\n'],\n",
       " ['161390.KS', 'Hankook Tire Co., Ltd.\\n'],\n",
       " ['138080.KQ', 'OE Solutions Co., Ltd.\\n'],\n",
       " ['008775.KS', 'Hotel Shilla Co.,Ltd\\n'],\n",
       " ['051980.KQ', 'Hulims Co., Ltd\\n'],\n",
       " ['003720.KS', 'SamYoung Chemical Co.,Ltd\\n'],\n",
       " ['192390.KQ', 'Winhitech Co.,Ltd.\\n'],\n",
       " ['122350.KQ', 'Samkee Automotive Co., Ltd.\\n'],\n",
       " ['019570.KQ', 'Gemini Investment Corporation\\n'],\n",
       " ['070590.KQ', 'Hansol Inticube Co., Ltd.\\n'],\n",
       " ['009415.KS', 'Taeyoung Engineering & Construction Co.,Ltd.\\n'],\n",
       " ['003830.KS', 'Daehan Synthetic Fiber Co., Ltd.\\n'],\n",
       " ['043200.KQ', 'Paru Co. Ltd.\\n'],\n",
       " ['082640.KS', 'Tong Yang Life Insurance Co., Ltd.\\n'],\n",
       " ['023960.KS', 'SC Engineering Co., Ltd.\\n'],\n",
       " ['032960.KQ', 'Dongil Technology Ltd.\\n'],\n",
       " ['950010.KS', 'Ping Shan Tea Group Limited\\n'],\n",
       " ['039980.KQ', 'Leenos Corp.\\n'],\n",
       " ['090850.KQ', 'EZwelfare Company Ltd.\\n'],\n",
       " ['012600.KS', 'Chungho ComNet Co., Ltd.\\n'],\n",
       " ['003560.KS', 'IHQ Inc.\\n'],\n",
       " ['002787.KS', 'ChinHung International, Inc.\\n'],\n",
       " ['084110.KQ', 'Huons Global Co Ltd.\\n'],\n",
       " ['020180.KQ', 'Dashin Infomaition & Communications Co.,Ltd.\\n'],\n",
       " ['001527.KS', 'Tongyang Inc.\\n'],\n",
       " ['021880.KQ', 'CXC Investment & Credit Capital Corporation\\n'],\n",
       " ['042040.KQ', 'KPM TECH Co., Ltd.\\n'],\n",
       " ['078860.KQ', 'IOKCOMPANY Co., Ltd.\\n'],\n",
       " ['100090.KQ', 'Samkang M&T Co., Ltd\\n'],\n",
       " ['079430.KS', 'Hyundai Livart Furniture Company Limited\\n'],\n",
       " ['005255.KS', 'Green Cross Holdings Corporation\\n'],\n",
       " ['094970.KQ', 'JMT Co.,Ltd.\\n'],\n",
       " ['021040.KQ', 'DaeHo P&C Co.,Ltd.\\n'],\n",
       " ['036810.KQ', 'Fine Semitech Corp.\\n'],\n",
       " ['052900.KQ', 'BIEMT Co., Ltd.\\n'],\n",
       " ['010780.KS', 'IS DongSeo Co., Ltd.\\n'],\n",
       " ['002300.KS', 'Hankuk Paper Manufacturing Co., Ltd\\n'],\n",
       " ['068400.KS', 'AJ Rent A Car Co., Ltd.\\n'],\n",
       " ['054950.KQ', 'Jvm Co., Ltd.\\n'],\n",
       " ['047080.KQ', 'HanbitSoft, Inc.\\n'],\n",
       " ['033600.KQ', 'Ezen Tech Co. Ltd.\\n'],\n",
       " ['031310.KQ', 'Eyesvision Corp.\\n'],\n",
       " ['056360.KQ', 'Coweaver Co., Ltd.\\n'],\n",
       " ['032940.KQ', 'WONIK Co., LTD.\\n'],\n",
       " ['047770.KQ', 'Codes Combine Co.,Ltd.\\n'],\n",
       " ['083610.KS', 'Asia Pacific No.14 Ship Investment co., Ltd.\\n'],\n",
       " ['012860.KQ', 'Daedong Co., Ltd.\\n'],\n",
       " ['006200.KS', 'KEC Holdings Co., Ltd.\\n'],\n",
       " ['024850.KQ', 'PSMC Co, Ltd\\n'],\n",
       " ['023000.KS', 'Samwonsteel Co., Ltd.\\n'],\n",
       " ['058450.KQ', 'ILYA Co., Ltd.\\n'],\n",
       " ['019210.KQ', 'YG-1 Co., Ltd.\\n'],\n",
       " ['005500.KS', 'Samjin Pharmaceuticals Co., Ltd.\\n'],\n",
       " ['014285.KS', 'Kumkang Kind Co., Ltd.\\n'],\n",
       " ['008350.KS', 'Namsun Aluminum Co., Ltd.\\n'],\n",
       " ['011700.KS', 'Hanshin Machinery Co., Ltd.\\n'],\n",
       " ['180640.KS', 'Hanjin Kal Corp.\\n'],\n",
       " ['039290.KQ', 'Infobank Corporation\\n'],\n",
       " ['105740.KQ', 'DK-Lok Corporation\\n'],\n",
       " ['026150.KQ', 'Tuksu Engineering & Construction Co. Ltd.\\n'],\n",
       " ['005750.KS', 'Daelim B&Co Co.,Ltd.\\n'],\n",
       " ['051905.KS', 'LG Household & Health Care Ltd.\\n'],\n",
       " ['033240.KS', 'Jahwa Electronics Co.,Ltd\\n'],\n",
       " ['002270.KS', 'Lotte Food Co.,Ltd.\\n'],\n",
       " ['023450.KS', 'Dongnam Chemical Co., Ltd.\\n'],\n",
       " ['131290.KQ', 'Tse Co., Ltd.\\n'],\n",
       " ['001500.KS', 'HMC Investment Securities Co., Ltd.\\n'],\n",
       " ['060310.KQ', '3S Korea Co. Ltd.\\n'],\n",
       " ['064480.KQ', 'Bridgetec Corporation\\n'],\n",
       " ['053450.KQ', 'Sekonix Co., Ltd.\\n'],\n",
       " ['071055.KS', 'Korea Investment Holdings Co., Ltd.\\n'],\n",
       " ['032540.KQ', 'TJ media Co., Ltd.\\n'],\n",
       " ['012450.KS', 'Hanwha Techwin Co., Ltd.\\n'],\n",
       " ['004985.KS', 'Sungshin Cement Co., Ltd\\n'],\n",
       " ['051380.KQ', 'PC Direct, Inc.\\n'],\n",
       " ['002780.KS', 'ChinHung International, Inc.\\n'],\n",
       " ['067920.KQ', 'IGLOO Security, Inc.\\n'],\n",
       " ['016170.KQ', 'LOEN Entertainment, Inc.\\n'],\n",
       " ['000650.KS', 'Chunil Express Co., Ltd.\\n'],\n",
       " ['030200.KS', 'KT Corporation\\n'],\n",
       " ['078940.KQ', 'Ilkyung Inc.\\n'],\n",
       " ['033560.KQ', 'Bluecom Co., Ltd.\\n'],\n",
       " ['003535.KS', 'Hanwha Investment & Securities Co., Ltd.\\n'],\n",
       " ['019550.KQ', 'SBI Investment Korea Co., Ltd.\\n'],\n",
       " ['053660.KQ', 'Hyunjin Materials Co.,Ltd.\\n'],\n",
       " ['087730.KQ', 'NEPES AMC\\n'],\n",
       " ['004200.KS', 'Korea Development Corporation\\n'],\n",
       " ['123570.KQ', 'eMnet Inc.\\n'],\n",
       " ['034310.KS', 'NICE Holdings Co., Ltd.\\n'],\n",
       " ['018000.KQ', 'Unison Co. Ltd.\\n'],\n",
       " ['032860.KQ', 'Steel & Resources Co.,Ltd.\\n'],\n",
       " ['005390.KS', 'Shinsung Tongsang Co., Ltd.\\n'],\n",
       " ['004415.KS', 'Seoul Food Industrial Co., Ltd.\\n'],\n",
       " ['083790.KQ', 'CrystalGenomics, Inc.\\n'],\n",
       " ['024110.KS', 'Industrial Bank of Korea\\n'],\n",
       " ['009830.KS', 'Hanwha Chemical Corporation\\n'],\n",
       " ['008560.KS', 'Meritz Securities Co., Ltd.\\n'],\n",
       " ['058470.KQ', 'LEENO Industrial Inc.\\n'],\n",
       " ['052400.KQ', 'Kona I CO., Ltd.\\n'],\n",
       " ['065560.KQ', 'Cubes, Inc.\\n'],\n",
       " ['083370.KS', 'Dongbuka No.12 Ship Investment Company\\n'],\n",
       " ['058730.KS', 'Dong-a Steel Technology Co.,Ltd\\n'],\n",
       " ['086980.KQ', 'Showbox Corp.\\n'],\n",
       " ['019685.KS', 'Daekyo Co., Ltd.\\n'],\n",
       " ['083620.KS', 'Asia Pacific No.15 Ship Investment co., Ltd.\\n'],\n",
       " ['004740.KS', 'Borneo International Furniture Co., Ltd.\\n'],\n",
       " ['051915.KS', 'LG Chem, Ltd.\\n'],\n",
       " ['008930.KS', 'Hanmi Science Co., Ltd.\\n'],\n",
       " ['095910.KQ', 'S-Energy Co., Ltd.\\n'],\n",
       " ['000030.KS', 'Woori Bank Co., Ltd.\\n'],\n",
       " ['033180.KS', 'Feelux Co., Ltd\\n'],\n",
       " ['092230.KS', 'KPX Holdings Co.,Ltd.\\n'],\n",
       " ['138610.KQ', 'NIBEC Co. Ltd.\\n'],\n",
       " ['011390.KS', 'Busan Industrial Co., Ltd.\\n'],\n",
       " ['006650.KS', 'Korea Petrochemical Ind. Co., Ltd.\\n'],\n",
       " ['046070.KQ', 'Kodaco Co. Ltd.\\n'],\n",
       " ['058400.KQ', 'Korea New Network Co., Ltd.\\n'],\n",
       " ['100840.KS', 'S & T Corp\\n'],\n",
       " ['114190.KQ', 'Welcron Kangwon Co., Ltd.\\n'],\n",
       " ['014530.KS', 'Kukdong Oil & Chemicals Co.,Ltd\\n'],\n",
       " ['018500.KS', 'Dongwon Metal Co., Ltd.\\n'],\n",
       " ['065440.KQ', 'ELUON Corporation\\n'],\n",
       " ['003280.KS', 'Heung-A Shipping Co., Ltd.\\n'],\n",
       " ...]"
      ]
     },
     "execution_count": 23,
     "metadata": {},
     "output_type": "execute_result"
    }
   ],
   "source": [
    "ticker"
   ]
  }
 ],
 "metadata": {
  "kernelspec": {
   "display_name": "Python 3",
   "language": "python",
   "name": "python3"
  },
  "language_info": {
   "codemirror_mode": {
    "name": "ipython",
    "version": 3
   },
   "file_extension": ".py",
   "mimetype": "text/x-python",
   "name": "python",
   "nbconvert_exporter": "python",
   "pygments_lexer": "ipython3",
   "version": "3.6.6"
  }
 },
 "nbformat": 4,
 "nbformat_minor": 2
}
