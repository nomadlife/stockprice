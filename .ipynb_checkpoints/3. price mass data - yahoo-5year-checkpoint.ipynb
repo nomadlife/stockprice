{
 "cells": [
  {
   "cell_type": "code",
   "execution_count": 1,
   "metadata": {},
   "outputs": [],
   "source": [
    "import pandas as pd\n",
    "import pandas_datareader.data as web\n",
    "from datetime import datetime,date"
   ]
  },
  {
   "cell_type": "code",
   "execution_count": 2,
   "metadata": {},
   "outputs": [
    {
     "name": "stdout",
     "output_type": "stream",
     "text": [
      "2018-01-01 00:00:00 2018-12-01 00:00:00\n"
     ]
    }
   ],
   "source": [
    "today = date.today()\n",
    "start = datetime(2018, 1, 1)\n",
    "end = datetime(today.year, today.month, today.day)\n",
    "print(start, end)"
   ]
  },
  {
   "cell_type": "code",
   "execution_count": 3,
   "metadata": {},
   "outputs": [
    {
     "data": {
      "text/plain": [
       "2085"
      ]
     },
     "execution_count": 3,
     "metadata": {},
     "output_type": "execute_result"
    }
   ],
   "source": [
    "import json\n",
    "\n",
    "with open('krx_total_list.txt','r') as f:\n",
    "    tickers = json.loads(f.read())\n",
    "len(tickers)"
   ]
  },
  {
   "cell_type": "code",
   "execution_count": 4,
   "metadata": {},
   "outputs": [
    {
     "data": {
      "text/plain": [
       "2085"
      ]
     },
     "execution_count": 4,
     "metadata": {},
     "output_type": "execute_result"
    }
   ],
   "source": [
    "# check \n",
    "cnt = 0\n",
    "for i,v in tickers.items():\n",
    "    if '마켓' in v:\n",
    "        ticker = i+'.'+v['마켓']\n",
    "        cnt+=1\n",
    "        #print(ticker)\n",
    "cnt"
   ]
  },
  {
   "cell_type": "markdown",
   "metadata": {},
   "source": [
    "### Get data from yahoo"
   ]
  },
  {
   "cell_type": "code",
   "execution_count": 6,
   "metadata": {},
   "outputs": [],
   "source": [
    "# sub function\n",
    "def get_data(n1, n2):\n",
    "    cnt = 0;log=[]\n",
    "    print('request data from {} to {}, processing'.format(n1,n2),end='')\n",
    "    for i,v in tickers.items():\n",
    "        cnt+=1\n",
    "        if cnt > n1 and '마켓' in v:\n",
    "            ticker = i+'.'+v['마켓']\n",
    "            try:\n",
    "                history = web.DataReader(ticker,'yahoo',start, end)\n",
    "                history.to_pickle(ticker+'-test')\n",
    "                log.append((cnt,'....OK',ticker,v['회사명']))\n",
    "                print('.',end='')\n",
    "            except Exception as e:\n",
    "                log.append((cnt,'failed',ticker,v['회사명'],str(e)))\n",
    "                print(cnt,'failed',ticker,v['회사명'],e)\n",
    "                pass\n",
    "        if cnt == n2 :\n",
    "            break\n",
    "    print('download finished.')\n",
    "    filename = 'log-{}-{}.txt'.format(n1,n2)\n",
    "    with open(filename, 'w') as f:\n",
    "        for i in log:\n",
    "            f.write(\"{}\\n\".format(i))\n",
    "        print(filename,'file saved!')"
   ]
  },
  {
   "cell_type": "code",
   "execution_count": 7,
   "metadata": {
    "scrolled": false
   },
   "outputs": [
    {
     "name": "stdout",
     "output_type": "stream",
     "text": [
      "request data from 0 to 100, processing....................................................................................................download finished.\n",
      "log-0-100.txt file saved!\n"
     ]
    }
   ],
   "source": [
    "get_data(0,100)"
   ]
  }
 ],
 "metadata": {
  "kernelspec": {
   "display_name": "Python 3",
   "language": "python",
   "name": "python3"
  },
  "language_info": {
   "codemirror_mode": {
    "name": "ipython",
    "version": 3
   },
   "file_extension": ".py",
   "mimetype": "text/x-python",
   "name": "python",
   "nbconvert_exporter": "python",
   "pygments_lexer": "ipython3",
   "version": "3.6.6"
  }
 },
 "nbformat": 4,
 "nbformat_minor": 2
}
